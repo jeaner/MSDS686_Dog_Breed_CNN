{
 "cells": [
  {
   "cell_type": "code",
   "execution_count": 1,
   "metadata": {},
   "outputs": [
    {
     "name": "stderr",
     "output_type": "stream",
     "text": [
      "/usr/local/lib/python3.6/dist-packages/h5py/__init__.py:36: FutureWarning: Conversion of the second argument of issubdtype from `float` to `np.floating` is deprecated. In future, it will be treated as `np.float64 == np.dtype(float).type`.\n",
      "  from ._conv import register_converters as _register_converters\n"
     ]
    },
    {
     "name": "stdout",
     "output_type": "stream",
     "text": [
      "Found GPU at: /device:GPU:0\n"
     ]
    }
   ],
   "source": [
    "import tensorflow as tf\n",
    "device_name = tf.test.gpu_device_name()\n",
    "if device_name != '/device:GPU:0':\n",
    "  raise SystemError('GPU device not found')\n",
    "print('Found GPU at: {}'.format(device_name))"
   ]
  },
  {
   "cell_type": "code",
   "execution_count": 50,
   "metadata": {},
   "outputs": [
    {
     "name": "stdout",
     "output_type": "stream",
     "text": [
      "Requirement already satisfied: h5py in /usr/local/lib/python2.7/dist-packages (2.7.1)\n",
      "Requirement already satisfied: six in /usr/local/lib/python2.7/dist-packages (from h5py) (1.11.0)\n",
      "Requirement already satisfied: numpy>=1.7 in /usr/local/lib/python2.7/dist-packages (from h5py) (1.14.3)\n",
      "\u001b[31mipywidgets 7.2.1 requires nbformat>=4.2.0, which is not installed.\u001b[0m\n",
      "\u001b[31mipywidgets 7.2.1 requires widgetsnbextension~=3.2.0, which is not installed.\u001b[0m\n"
     ]
    }
   ],
   "source": [
    "!pip install h5py"
   ]
  },
  {
   "cell_type": "code",
   "execution_count": 31,
   "metadata": {
    "collapsed": true
   },
   "outputs": [],
   "source": [
    "import os\n",
    "import pandas as pd\n",
    "from keras.models import Sequential\n",
    "from keras.layers import Input, Activation, Dense, Dropout, BatchNormalization\n",
    "from keras.models import Model, load_model\n",
    "import keras.backend as K\n",
    "from keras.callbacks import ModelCheckpoint\n",
    "import numpy as np\n",
    "from keras import optimizers\n",
    "from keras.models import Sequential\n",
    "from keras.layers import Dense, Dropout, Flatten, Activation\n",
    "from keras.layers.convolutional import Conv2D, MaxPooling2D\n",
    "from keras.layers.normalization import BatchNormalization\n",
    "from keras.utils import to_categorical\n",
    "from keras import backend as K"
   ]
  },
  {
   "cell_type": "code",
   "execution_count": 3,
   "metadata": {
    "collapsed": true
   },
   "outputs": [],
   "source": [
    "%matplotlib inline\n",
    "import numpy as np\n",
    "import pandas as pd\n",
    "import datetime as dt\n",
    "import matplotlib.pyplot as plt\n",
    "from mpl_toolkits.axes_grid1 import ImageGrid\n",
    "from os import listdir, makedirs\n",
    "from os.path import join, exists, expanduser\n",
    "from tqdm import tqdm\n",
    "from sklearn.metrics import log_loss, accuracy_score\n",
    "from keras.preprocessing import image\n",
    "from keras.applications.vgg16 import VGG16\n",
    "from keras.applications.resnet50 import ResNet50\n",
    "from keras.applications import xception\n",
    "from keras.applications import inception_v3\n",
    "from keras.applications.vgg16 import preprocess_input, decode_predictions\n",
    "from sklearn.linear_model import LogisticRegression"
   ]
  },
  {
   "cell_type": "code",
   "execution_count": 4,
   "metadata": {},
   "outputs": [
    {
     "data": {
      "text/html": [
       "<div>\n",
       "<style scoped>\n",
       "    .dataframe tbody tr th:only-of-type {\n",
       "        vertical-align: middle;\n",
       "    }\n",
       "\n",
       "    .dataframe tbody tr th {\n",
       "        vertical-align: top;\n",
       "    }\n",
       "\n",
       "    .dataframe thead th {\n",
       "        text-align: right;\n",
       "    }\n",
       "</style>\n",
       "<table border=\"1\" class=\"dataframe\">\n",
       "  <thead>\n",
       "    <tr style=\"text-align: right;\">\n",
       "      <th></th>\n",
       "      <th>id</th>\n",
       "      <th>breed</th>\n",
       "    </tr>\n",
       "  </thead>\n",
       "  <tbody>\n",
       "    <tr>\n",
       "      <th>0</th>\n",
       "      <td>000bec180eb18c7604dcecc8fe0dba07</td>\n",
       "      <td>boston_bull</td>\n",
       "    </tr>\n",
       "    <tr>\n",
       "      <th>1</th>\n",
       "      <td>001513dfcb2ffafc82cccf4d8bbaba97</td>\n",
       "      <td>dingo</td>\n",
       "    </tr>\n",
       "    <tr>\n",
       "      <th>2</th>\n",
       "      <td>001cdf01b096e06d78e9e5112d419397</td>\n",
       "      <td>pekinese</td>\n",
       "    </tr>\n",
       "    <tr>\n",
       "      <th>3</th>\n",
       "      <td>00214f311d5d2247d5dfe4fe24b2303d</td>\n",
       "      <td>bluetick</td>\n",
       "    </tr>\n",
       "    <tr>\n",
       "      <th>4</th>\n",
       "      <td>0021f9ceb3235effd7fcde7f7538ed62</td>\n",
       "      <td>golden_retriever</td>\n",
       "    </tr>\n",
       "  </tbody>\n",
       "</table>\n",
       "</div>"
      ],
      "text/plain": [
       "                                 id             breed\n",
       "0  000bec180eb18c7604dcecc8fe0dba07       boston_bull\n",
       "1  001513dfcb2ffafc82cccf4d8bbaba97             dingo\n",
       "2  001cdf01b096e06d78e9e5112d419397          pekinese\n",
       "3  00214f311d5d2247d5dfe4fe24b2303d          bluetick\n",
       "4  0021f9ceb3235effd7fcde7f7538ed62  golden_retriever"
      ]
     },
     "execution_count": 4,
     "metadata": {},
     "output_type": "execute_result"
    }
   ],
   "source": [
    "filename = 'dog-breed-identification/labels.csv'\n",
    "df = pd.read_csv(filename)\n",
    "df.head()"
   ]
  },
  {
   "cell_type": "code",
   "execution_count": 5,
   "metadata": {},
   "outputs": [
    {
     "name": "stdout",
     "output_type": "stream",
     "text": [
      "10222 10222\n",
      "10358 10357\n"
     ]
    }
   ],
   "source": [
    "INPUT_SIZE = 150\n",
    "NUM_CLASSES = 120\n",
    "SEED = 223\n",
    "data_dir = 'dog-breed-identification'\n",
    "labels = pd.read_csv(join(data_dir, 'labels.csv'))\n",
    "sample_submission = pd.read_csv(join(data_dir, 'sample_submission.csv'))\n",
    "print(len(listdir(join(data_dir, 'train'))), len(labels))\n",
    "print(len(listdir(join(data_dir, 'test'))), len(sample_submission))\n"
   ]
  },
  {
   "cell_type": "code",
   "execution_count": 6,
   "metadata": {
    "collapsed": true
   },
   "outputs": [],
   "source": [
    "import numpy as np # linear algebra\n",
    "import pandas as pd # data processing, CSV file I/O (e.g. pd.read_csv)\n",
    "import keras\n",
    "from keras.applications.vgg19 import VGG19\n",
    "from keras.models import Model\n",
    "from keras.layers import Dense, Dropout, Flatten\n",
    "\n",
    "import os\n",
    "from tqdm import tqdm\n",
    "from sklearn import preprocessing\n",
    "from sklearn.model_selection import train_test_split\n",
    "import cv2\n",
    "# Input data files are available in the \"../input/\" directory.\n",
    "# For example, running this (by clicking run or pressing Shift+Enter) will list the files in the input directory\n",
    "\n",
    "from subprocess import check_output\n",
    "#print(check_output([\"ls\", \"../input\"]).decode(\"utf8\"))\n"
   ]
  },
  {
   "cell_type": "code",
   "execution_count": 7,
   "metadata": {
    "collapsed": true
   },
   "outputs": [],
   "source": [
    "df_train = pd.read_csv(join(data_dir, 'labels.csv'))\n",
    "df_test = pd.read_csv(join(data_dir, 'sample_submission.csv'))"
   ]
  },
  {
   "cell_type": "code",
   "execution_count": 8,
   "metadata": {},
   "outputs": [
    {
     "data": {
      "text/html": [
       "<div>\n",
       "<style scoped>\n",
       "    .dataframe tbody tr th:only-of-type {\n",
       "        vertical-align: middle;\n",
       "    }\n",
       "\n",
       "    .dataframe tbody tr th {\n",
       "        vertical-align: top;\n",
       "    }\n",
       "\n",
       "    .dataframe thead th {\n",
       "        text-align: right;\n",
       "    }\n",
       "</style>\n",
       "<table border=\"1\" class=\"dataframe\">\n",
       "  <thead>\n",
       "    <tr style=\"text-align: right;\">\n",
       "      <th></th>\n",
       "      <th>id</th>\n",
       "      <th>breed</th>\n",
       "    </tr>\n",
       "  </thead>\n",
       "  <tbody>\n",
       "    <tr>\n",
       "      <th>0</th>\n",
       "      <td>000bec180eb18c7604dcecc8fe0dba07</td>\n",
       "      <td>boston_bull</td>\n",
       "    </tr>\n",
       "    <tr>\n",
       "      <th>1</th>\n",
       "      <td>001513dfcb2ffafc82cccf4d8bbaba97</td>\n",
       "      <td>dingo</td>\n",
       "    </tr>\n",
       "    <tr>\n",
       "      <th>2</th>\n",
       "      <td>001cdf01b096e06d78e9e5112d419397</td>\n",
       "      <td>pekinese</td>\n",
       "    </tr>\n",
       "    <tr>\n",
       "      <th>3</th>\n",
       "      <td>00214f311d5d2247d5dfe4fe24b2303d</td>\n",
       "      <td>bluetick</td>\n",
       "    </tr>\n",
       "    <tr>\n",
       "      <th>4</th>\n",
       "      <td>0021f9ceb3235effd7fcde7f7538ed62</td>\n",
       "      <td>golden_retriever</td>\n",
       "    </tr>\n",
       "    <tr>\n",
       "      <th>5</th>\n",
       "      <td>002211c81b498ef88e1b40b9abf84e1d</td>\n",
       "      <td>bedlington_terrier</td>\n",
       "    </tr>\n",
       "    <tr>\n",
       "      <th>6</th>\n",
       "      <td>00290d3e1fdd27226ba27a8ce248ce85</td>\n",
       "      <td>bedlington_terrier</td>\n",
       "    </tr>\n",
       "    <tr>\n",
       "      <th>7</th>\n",
       "      <td>002a283a315af96eaea0e28e7163b21b</td>\n",
       "      <td>borzoi</td>\n",
       "    </tr>\n",
       "    <tr>\n",
       "      <th>8</th>\n",
       "      <td>003df8b8a8b05244b1d920bb6cf451f9</td>\n",
       "      <td>basenji</td>\n",
       "    </tr>\n",
       "    <tr>\n",
       "      <th>9</th>\n",
       "      <td>0042188c895a2f14ef64a918ed9c7b64</td>\n",
       "      <td>scottish_deerhound</td>\n",
       "    </tr>\n",
       "  </tbody>\n",
       "</table>\n",
       "</div>"
      ],
      "text/plain": [
       "                                 id               breed\n",
       "0  000bec180eb18c7604dcecc8fe0dba07         boston_bull\n",
       "1  001513dfcb2ffafc82cccf4d8bbaba97               dingo\n",
       "2  001cdf01b096e06d78e9e5112d419397            pekinese\n",
       "3  00214f311d5d2247d5dfe4fe24b2303d            bluetick\n",
       "4  0021f9ceb3235effd7fcde7f7538ed62    golden_retriever\n",
       "5  002211c81b498ef88e1b40b9abf84e1d  bedlington_terrier\n",
       "6  00290d3e1fdd27226ba27a8ce248ce85  bedlington_terrier\n",
       "7  002a283a315af96eaea0e28e7163b21b              borzoi\n",
       "8  003df8b8a8b05244b1d920bb6cf451f9             basenji\n",
       "9  0042188c895a2f14ef64a918ed9c7b64  scottish_deerhound"
      ]
     },
     "execution_count": 8,
     "metadata": {},
     "output_type": "execute_result"
    }
   ],
   "source": [
    "df_train.head(10)"
   ]
  },
  {
   "cell_type": "code",
   "execution_count": 9,
   "metadata": {
    "collapsed": true
   },
   "outputs": [],
   "source": [
    "targets_series = pd.Series(df_train['breed'])\n",
    "one_hot = pd.get_dummies(targets_series, sparse = True)"
   ]
  },
  {
   "cell_type": "code",
   "execution_count": 10,
   "metadata": {
    "collapsed": true
   },
   "outputs": [],
   "source": [
    "one_hot_labels = np.asarray(one_hot)"
   ]
  },
  {
   "cell_type": "code",
   "execution_count": 11,
   "metadata": {
    "collapsed": true
   },
   "outputs": [],
   "source": [
    "im_size = 150"
   ]
  },
  {
   "cell_type": "code",
   "execution_count": 12,
   "metadata": {
    "collapsed": true
   },
   "outputs": [],
   "source": [
    "x_train = []\n",
    "y_train = []\n",
    "x_test = []"
   ]
  },
  {
   "cell_type": "code",
   "execution_count": 13,
   "metadata": {},
   "outputs": [
    {
     "name": "stderr",
     "output_type": "stream",
     "text": [
      "100%|██████████| 10222/10222 [04:35<00:00, 37.15it/s]\n"
     ]
    }
   ],
   "source": [
    "i = 0 \n",
    "for f, breed in tqdm(df_train.values):\n",
    "    img = cv2.imread('dog-breed-identification/train/{}.jpg'.format(f))\n",
    "    label = one_hot_labels[i]\n",
    "    x_train.append(cv2.resize(img, (im_size, im_size)))\n",
    "    y_train.append(label)\n",
    "    i += 1"
   ]
  },
  {
   "cell_type": "code",
   "execution_count": 14,
   "metadata": {},
   "outputs": [
    {
     "name": "stderr",
     "output_type": "stream",
     "text": [
      "100%|██████████| 10357/10357 [04:36<00:00, 37.39it/s]\n"
     ]
    }
   ],
   "source": [
    "for f in tqdm(df_test['id'].values):\n",
    "    img = cv2.imread('dog-breed-identification/test/{}.jpg'.format(f))\n",
    "    x_test.append(cv2.resize(img, (im_size, im_size)))"
   ]
  },
  {
   "cell_type": "code",
   "execution_count": 15,
   "metadata": {
    "collapsed": true
   },
   "outputs": [],
   "source": [
    "y_train_raw = np.array(y_train, np.uint8)\n",
    "x_train_raw = np.array(x_train, np.float32) / 255.\n",
    "x_test  = np.array(x_test, np.float32) / 255."
   ]
  },
  {
   "cell_type": "code",
   "execution_count": 29,
   "metadata": {},
   "outputs": [
    {
     "name": "stdout",
     "output_type": "stream",
     "text": [
      "(10222, 150, 150, 3)\n",
      "(10222, 120)\n",
      "(10357, 150, 150, 3)\n"
     ]
    }
   ],
   "source": [
    "print(x_train_raw.shape)\n",
    "print(y_train_raw.shape)\n",
    "print(x_test.shape)"
   ]
  },
  {
   "cell_type": "code",
   "execution_count": 25,
   "metadata": {
    "collapsed": true
   },
   "outputs": [],
   "source": [
    "#save these arrays as pickle files in case kernel stops\n",
    "import pickle"
   ]
  },
  {
   "cell_type": "code",
   "execution_count": 26,
   "metadata": {},
   "outputs": [
    {
     "name": "stdout",
     "output_type": "stream",
     "text": [
      "colabtestjh_dogstart-Copy1.ipynb  Dogs_Start-Copy1.ipynb  test\r\n",
      "colabtestjh_dogstart-Copy2.ipynb  Dogs_Start.ipynb\t  x_train_raw.csv\r\n",
      "colabtestjh_dogstart.ipynb\t  examples\t\t  xtrainraw.pkl\r\n",
      "courses\t\t\t\t  May Dogs.ipynb\r\n",
      "dog-breed-identification\t  README.txt\r\n"
     ]
    }
   ],
   "source": [
    "output = open('xtrainraw.pkl', 'wb')\n",
    "pickle.dump(x_train_raw, output)\n",
    "output.close()\n",
    "!ls"
   ]
  },
  {
   "cell_type": "code",
   "execution_count": 27,
   "metadata": {},
   "outputs": [
    {
     "name": "stdout",
     "output_type": "stream",
     "text": [
      "colabtestjh_dogstart-Copy1.ipynb  Dogs_Start-Copy1.ipynb  test\r\n",
      "colabtestjh_dogstart-Copy2.ipynb  Dogs_Start.ipynb\t  x_train_raw.csv\r\n",
      "colabtestjh_dogstart.ipynb\t  examples\t\t  xtrainraw.pkl\r\n",
      "courses\t\t\t\t  May Dogs.ipynb\t  ytrainraw.pkl\r\n",
      "dog-breed-identification\t  README.txt\r\n"
     ]
    }
   ],
   "source": [
    "output = open('ytrainraw.pkl', 'wb')\n",
    "pickle.dump(y_train_raw, output)\n",
    "output.close()\n",
    "!ls"
   ]
  },
  {
   "cell_type": "code",
   "execution_count": 28,
   "metadata": {},
   "outputs": [
    {
     "name": "stdout",
     "output_type": "stream",
     "text": [
      "colabtestjh_dogstart-Copy1.ipynb  Dogs_Start-Copy1.ipynb  test\r\n",
      "colabtestjh_dogstart-Copy2.ipynb  Dogs_Start.ipynb\t  xtest.pkl\r\n",
      "colabtestjh_dogstart.ipynb\t  examples\t\t  x_train_raw.csv\r\n",
      "courses\t\t\t\t  May Dogs.ipynb\t  xtrainraw.pkl\r\n",
      "dog-breed-identification\t  README.txt\t\t  ytrainraw.pkl\r\n"
     ]
    }
   ],
   "source": [
    "output = open('xtest.pkl', 'wb')\n",
    "pickle.dump(x_test, output)\n",
    "output.close()\n",
    "!ls"
   ]
  },
  {
   "cell_type": "code",
   "execution_count": null,
   "metadata": {
    "collapsed": true
   },
   "outputs": [],
   "source": [
    "#reading back pickle\n",
    "import pprint, pickle\n",
    "\n",
    "pkl_file = open('xtrainraw.pkl', 'rb')\n",
    "\n",
    "x_train_raw = pickle.load(pkl_file)\n",
    "pprint.pprint(x_train_raw)\n",
    "\n",
    "pkl_file.close()"
   ]
  },
  {
   "cell_type": "code",
   "execution_count": 17,
   "metadata": {
    "collapsed": true
   },
   "outputs": [],
   "source": [
    "#120 Breeds in the class\n",
    "num_class = y_train_raw.shape[1]"
   ]
  },
  {
   "cell_type": "code",
   "execution_count": null,
   "metadata": {
    "collapsed": true
   },
   "outputs": [],
   "source": []
  },
  {
   "cell_type": "code",
   "execution_count": 18,
   "metadata": {
    "collapsed": true
   },
   "outputs": [],
   "source": [
    "X_train, X_valid, Y_train, Y_valid = train_test_split(x_train_raw,\n",
    "                                                      y_train_raw,\n",
    "                                                      test_size=0.3,\n",
    "                                                      random_state=1)"
   ]
  },
  {
   "cell_type": "code",
   "execution_count": 40,
   "metadata": {
    "collapsed": true
   },
   "outputs": [],
   "source": [
    "# Create the base pre-trained model\n",
    "# Can't download weights in the kernel\n",
    "base_model = VGG19(weights='imagenet', \n",
    "                   include_top=False, \n",
    "                   input_shape=(im_size, im_size, 3))\n",
    "\n"
   ]
  },
  {
   "cell_type": "code",
   "execution_count": 41,
   "metadata": {
    "collapsed": true
   },
   "outputs": [],
   "source": [
    "# Add a new top layer\n",
    "x = base_model.output\n",
    "x = Conv2D(32, 3, padding='same')(x)\n",
    "x = (Activation('relu'))(x)\n",
    "x = (BatchNormalization())(x)\n",
    "x = (Conv2D(32, 3, padding='same'))(x)\n",
    "x = (BatchNormalization())(x)\n",
    "x = (Activation('relu'))(x)\n",
    "x = (MaxPooling2D(pool_size=(2, 2)))(x)\n",
    "x = (Dropout(0.5))(x)\n",
    "x = (Flatten())(x)\n",
    "x = (Dense(256))(x)\n",
    "x = (Activation('relu'))(x)\n",
    "x = (BatchNormalization())(x)\n",
    "x = (Dropout(0.5))(x)\n",
    "x = (Dense(64))(x)\n",
    "x = (Activation('relu'))(x)\n",
    "x = (BatchNormalization())(x)\n",
    "x = Dropout(0.5)(x)\n",
    "predictions = Dense(num_class, activation='softmax')(x)"
   ]
  },
  {
   "cell_type": "code",
   "execution_count": 51,
   "metadata": {
    "collapsed": true
   },
   "outputs": [
    {
     "name": "stdout",
     "output_type": "stream",
     "text": [
      "_________________________________________________________________\n",
      "Layer (type)                 Output Shape              Param #   \n",
      "=================================================================\n",
      "input_4 (InputLayer)         (None, 150, 150, 3)       0         \n",
      "_________________________________________________________________\n",
      "block1_conv1 (Conv2D)        (None, 150, 150, 64)      1792      \n",
      "_________________________________________________________________\n",
      "block1_conv2 (Conv2D)        (None, 150, 150, 64)      36928     \n",
      "_________________________________________________________________\n",
      "block1_pool (MaxPooling2D)   (None, 75, 75, 64)        0         \n",
      "_________________________________________________________________\n",
      "block2_conv1 (Conv2D)        (None, 75, 75, 128)       73856     \n",
      "_________________________________________________________________\n",
      "block2_conv2 (Conv2D)        (None, 75, 75, 128)       147584    \n",
      "_________________________________________________________________\n",
      "block2_pool (MaxPooling2D)   (None, 37, 37, 128)       0         \n",
      "_________________________________________________________________\n",
      "block3_conv1 (Conv2D)        (None, 37, 37, 256)       295168    \n",
      "_________________________________________________________________\n",
      "block3_conv2 (Conv2D)        (None, 37, 37, 256)       590080    \n",
      "_________________________________________________________________\n",
      "block3_conv3 (Conv2D)        (None, 37, 37, 256)       590080    \n",
      "_________________________________________________________________\n",
      "block3_conv4 (Conv2D)        (None, 37, 37, 256)       590080    \n",
      "_________________________________________________________________\n",
      "block3_pool (MaxPooling2D)   (None, 18, 18, 256)       0         \n",
      "_________________________________________________________________\n",
      "block4_conv1 (Conv2D)        (None, 18, 18, 512)       1180160   \n",
      "_________________________________________________________________\n",
      "block4_conv2 (Conv2D)        (None, 18, 18, 512)       2359808   \n",
      "_________________________________________________________________\n",
      "block4_conv3 (Conv2D)        (None, 18, 18, 512)       2359808   \n",
      "_________________________________________________________________\n",
      "block4_conv4 (Conv2D)        (None, 18, 18, 512)       2359808   \n",
      "_________________________________________________________________\n",
      "block4_pool (MaxPooling2D)   (None, 9, 9, 512)         0         \n",
      "_________________________________________________________________\n",
      "block5_conv1 (Conv2D)        (None, 9, 9, 512)         2359808   \n",
      "_________________________________________________________________\n",
      "block5_conv2 (Conv2D)        (None, 9, 9, 512)         2359808   \n",
      "_________________________________________________________________\n",
      "block5_conv3 (Conv2D)        (None, 9, 9, 512)         2359808   \n",
      "_________________________________________________________________\n",
      "block5_conv4 (Conv2D)        (None, 9, 9, 512)         2359808   \n",
      "_________________________________________________________________\n",
      "block5_pool (MaxPooling2D)   (None, 4, 4, 512)         0         \n",
      "_________________________________________________________________\n",
      "conv2d_9 (Conv2D)            (None, 4, 4, 32)          147488    \n",
      "_________________________________________________________________\n",
      "activation_14 (Activation)   (None, 4, 4, 32)          0         \n",
      "_________________________________________________________________\n",
      "batch_normalization_14 (Batc (None, 4, 4, 32)          128       \n",
      "_________________________________________________________________\n",
      "conv2d_10 (Conv2D)           (None, 4, 4, 32)          9248      \n",
      "_________________________________________________________________\n",
      "batch_normalization_15 (Batc (None, 4, 4, 32)          128       \n",
      "_________________________________________________________________\n",
      "activation_15 (Activation)   (None, 4, 4, 32)          0         \n",
      "_________________________________________________________________\n",
      "max_pooling2d_4 (MaxPooling2 (None, 2, 2, 32)          0         \n",
      "_________________________________________________________________\n",
      "dropout_10 (Dropout)         (None, 2, 2, 32)          0         \n",
      "_________________________________________________________________\n",
      "flatten_4 (Flatten)          (None, 128)               0         \n",
      "_________________________________________________________________\n",
      "dense_9 (Dense)              (None, 256)               33024     \n",
      "_________________________________________________________________\n",
      "activation_16 (Activation)   (None, 256)               0         \n",
      "_________________________________________________________________\n",
      "batch_normalization_16 (Batc (None, 256)               1024      \n",
      "_________________________________________________________________\n",
      "dropout_11 (Dropout)         (None, 256)               0         \n",
      "_________________________________________________________________\n",
      "dense_10 (Dense)             (None, 64)                16448     \n",
      "_________________________________________________________________\n",
      "activation_17 (Activation)   (None, 64)                0         \n",
      "_________________________________________________________________\n",
      "batch_normalization_17 (Batc (None, 64)                256       \n",
      "_________________________________________________________________\n",
      "dropout_12 (Dropout)         (None, 64)                0         \n",
      "_________________________________________________________________\n",
      "dense_11 (Dense)             (None, 120)               7800      \n",
      "=================================================================\n",
      "Total params: 20,239,928\n",
      "Trainable params: 214,776\n",
      "Non-trainable params: 20,025,152\n",
      "_________________________________________________________________\n"
     ]
    }
   ],
   "source": [
    "from keras.optimizers import Adam\n",
    "# This is the model we will train\n",
    "model = Model(inputs=base_model.input, outputs=predictions)\n",
    "\n",
    "# First: train only the top layers (which were randomly initialized)\n",
    "for layer in base_model.layers:\n",
    "    layer.trainable = False\n",
    "    \n",
    "lr = 1e-6\n",
    "adam = Adam(lr)\n",
    "ep = 15\n",
    "\n",
    "model.compile(loss='categorical_crossentropy', \n",
    "              optimizer= adam, \n",
    "              metrics=['accuracy'])\n",
    "\n",
    "model.summary()"
   ]
  },
  {
   "cell_type": "code",
   "execution_count": 52,
   "metadata": {
    "collapsed": true
   },
   "outputs": [],
   "source": [
    "#Checkpoint Neural Network Model Improvements\n",
    "#https://machinelearningmastery.com/check-point-deep-learning-models-keras/\n",
    "filepath=\"weights-improvement-{epoch:02d}-{val_acc:.2f}.hdf5\"\n",
    "checkpoint = ModelCheckpoint(filepath, monitor='val_acc', \n",
    "                             verbose=1, save_best_only=True, mode='max')\n",
    "callbacks_list = [checkpoint]"
   ]
  },
  {
   "cell_type": "code",
   "execution_count": 54,
   "metadata": {
    "collapsed": true
   },
   "outputs": [
    {
     "name": "stdout",
     "output_type": "stream",
     "text": [
      "Train on 7155 samples, validate on 3067 samples\n",
      "Epoch 1/15\n",
      "7155/7155 [==============================] - 62s 9ms/step - loss: 5.2013 - acc: 0.0108 - val_loss: 4.8024 - val_acc: 0.0104\n",
      "\n",
      "Epoch 00001: val_acc improved from -inf to 0.01043, saving model to weights-improvement-01-0.01.hdf5\n",
      "Epoch 2/15\n",
      "7155/7155 [==============================] - 62s 9ms/step - loss: 5.1923 - acc: 0.0116 - val_loss: 4.8021 - val_acc: 0.0108\n",
      "\n",
      "Epoch 00002: val_acc improved from 0.01043 to 0.01076, saving model to weights-improvement-02-0.01.hdf5\n",
      "Epoch 3/15\n",
      "7155/7155 [==============================] - 62s 9ms/step - loss: 5.1890 - acc: 0.0122 - val_loss: 4.8012 - val_acc: 0.0108\n",
      "\n",
      "Epoch 00003: val_acc did not improve from 0.01076\n",
      "Epoch 4/15\n",
      "7155/7155 [==============================] - 62s 9ms/step - loss: 5.2043 - acc: 0.0102 - val_loss: 4.8013 - val_acc: 0.0111\n",
      "\n",
      "Epoch 00004: val_acc improved from 0.01076 to 0.01109, saving model to weights-improvement-04-0.01.hdf5\n",
      "Epoch 5/15\n",
      "7155/7155 [==============================] - 62s 9ms/step - loss: 5.1757 - acc: 0.0110 - val_loss: 4.8015 - val_acc: 0.0111\n",
      "\n",
      "Epoch 00005: val_acc did not improve from 0.01109\n",
      "Epoch 6/15\n",
      "7155/7155 [==============================] - 62s 9ms/step - loss: 5.1937 - acc: 0.0103 - val_loss: 4.8018 - val_acc: 0.0104\n",
      "\n",
      "Epoch 00006: val_acc did not improve from 0.01109\n",
      "Epoch 7/15\n",
      "7155/7155 [==============================] - 63s 9ms/step - loss: 5.1867 - acc: 0.0095 - val_loss: 4.8006 - val_acc: 0.0114\n",
      "\n",
      "Epoch 00007: val_acc improved from 0.01109 to 0.01141, saving model to weights-improvement-07-0.01.hdf5\n",
      "Epoch 8/15\n",
      "7155/7155 [==============================] - 62s 9ms/step - loss: 5.1741 - acc: 0.0140 - val_loss: 4.8004 - val_acc: 0.0108\n",
      "\n",
      "Epoch 00008: val_acc did not improve from 0.01141\n",
      "Epoch 9/15\n",
      "7155/7155 [==============================] - 62s 9ms/step - loss: 5.1896 - acc: 0.0122 - val_loss: 4.8008 - val_acc: 0.0111\n",
      "\n",
      "Epoch 00009: val_acc did not improve from 0.01141\n",
      "Epoch 10/15\n",
      "7155/7155 [==============================] - 63s 9ms/step - loss: 5.2024 - acc: 0.0108 - val_loss: 4.8002 - val_acc: 0.0111\n",
      "\n",
      "Epoch 00010: val_acc did not improve from 0.01141\n",
      "Epoch 11/15\n",
      "7155/7155 [==============================] - 63s 9ms/step - loss: 5.1759 - acc: 0.0116 - val_loss: 4.8007 - val_acc: 0.0111\n",
      "\n",
      "Epoch 00011: val_acc did not improve from 0.01141\n",
      "Epoch 12/15\n",
      "7155/7155 [==============================] - 63s 9ms/step - loss: 5.1800 - acc: 0.0106 - val_loss: 4.7995 - val_acc: 0.0104\n",
      "\n",
      "Epoch 00012: val_acc did not improve from 0.01141\n",
      "Epoch 13/15\n",
      "7155/7155 [==============================] - 63s 9ms/step - loss: 5.1867 - acc: 0.0101 - val_loss: 4.7993 - val_acc: 0.0108\n",
      "\n",
      "Epoch 00013: val_acc did not improve from 0.01141\n",
      "Epoch 14/15\n",
      "7155/7155 [==============================] - 63s 9ms/step - loss: 5.1855 - acc: 0.0126 - val_loss: 4.7994 - val_acc: 0.0108\n",
      "\n",
      "Epoch 00014: val_acc did not improve from 0.01141\n",
      "Epoch 15/15\n",
      "7155/7155 [==============================] - 63s 9ms/step - loss: 5.1910 - acc: 0.0103 - val_loss: 4.7998 - val_acc: 0.0108\n",
      "\n",
      "Epoch 00015: val_acc did not improve from 0.01141\n",
      "940.7899966239929  seconds\n"
     ]
    }
   ],
   "source": [
    "import time\n",
    "# Fit the model\n",
    "t0=time.time()\n",
    "log3 = model.fit(X_train, \n",
    "                 Y_train, \n",
    "                 epochs=ep, \n",
    "                 validation_data=(X_valid, Y_valid),\n",
    "                 callbacks=callbacks_list,\n",
    "                 verbose=1)\n",
    "t1=time.time()\n",
    "print(t1-t0,\" seconds\")"
   ]
  },
  {
   "cell_type": "code",
   "execution_count": 55,
   "metadata": {},
   "outputs": [
    {
     "name": "stdout",
     "output_type": "stream",
     "text": [
      "CNN Error: 98.92%\n"
     ]
    },
    {
     "data": {
      "image/png": "[encoded data removed]",
      "text/plain": [
       "<Figure size 432x288 with 1 Axes>"
      ]
     },
     "metadata": {},
     "output_type": "display_data"
    }
   ],
   "source": [
    "scores3 = model.evaluate(X_valid, Y_valid, verbose=0)\n",
    "print(\"CNN Error: %.2f%%\" % (100-scores3[1]*100))\n",
    "\n",
    "import matplotlib.pyplot as plt\n",
    "%matplotlib inline\n",
    "plt.plot(log3.history['acc'],'b') \n",
    "plt.plot(log3.history['val_acc'],'r')\n",
    "plt.show()"
   ]
  },
  {
   "cell_type": "code",
   "execution_count": 56,
   "metadata": {
    "collapsed": true
   },
   "outputs": [],
   "source": [
    "base_model = VGG19(weights='imagenet', \n",
    "                   include_top=False, \n",
    "                   input_shape=(im_size, im_size, 3))"
   ]
  },
  {
   "cell_type": "code",
   "execution_count": 57,
   "metadata": {
    "collapsed": true
   },
   "outputs": [],
   "source": [
    "x = base_model.output\n",
    "x = Flatten()(x)\n",
    "predictions = Dense(num_class, activation='softmax')(x)"
   ]
  },
  {
   "cell_type": "code",
   "execution_count": 58,
   "metadata": {},
   "outputs": [
    {
     "name": "stdout",
     "output_type": "stream",
     "text": [
      "_________________________________________________________________\n",
      "Layer (type)                 Output Shape              Param #   \n",
      "=================================================================\n",
      "input_5 (InputLayer)         (None, 150, 150, 3)       0         \n",
      "_________________________________________________________________\n",
      "block1_conv1 (Conv2D)        (None, 150, 150, 64)      1792      \n",
      "_________________________________________________________________\n",
      "block1_conv2 (Conv2D)        (None, 150, 150, 64)      36928     \n",
      "_________________________________________________________________\n",
      "block1_pool (MaxPooling2D)   (None, 75, 75, 64)        0         \n",
      "_________________________________________________________________\n",
      "block2_conv1 (Conv2D)        (None, 75, 75, 128)       73856     \n",
      "_________________________________________________________________\n",
      "block2_conv2 (Conv2D)        (None, 75, 75, 128)       147584    \n",
      "_________________________________________________________________\n",
      "block2_pool (MaxPooling2D)   (None, 37, 37, 128)       0         \n",
      "_________________________________________________________________\n",
      "block3_conv1 (Conv2D)        (None, 37, 37, 256)       295168    \n",
      "_________________________________________________________________\n",
      "block3_conv2 (Conv2D)        (None, 37, 37, 256)       590080    \n",
      "_________________________________________________________________\n",
      "block3_conv3 (Conv2D)        (None, 37, 37, 256)       590080    \n",
      "_________________________________________________________________\n",
      "block3_conv4 (Conv2D)        (None, 37, 37, 256)       590080    \n",
      "_________________________________________________________________\n",
      "block3_pool (MaxPooling2D)   (None, 18, 18, 256)       0         \n",
      "_________________________________________________________________\n",
      "block4_conv1 (Conv2D)        (None, 18, 18, 512)       1180160   \n",
      "_________________________________________________________________\n",
      "block4_conv2 (Conv2D)        (None, 18, 18, 512)       2359808   \n",
      "_________________________________________________________________\n",
      "block4_conv3 (Conv2D)        (None, 18, 18, 512)       2359808   \n",
      "_________________________________________________________________\n",
      "block4_conv4 (Conv2D)        (None, 18, 18, 512)       2359808   \n",
      "_________________________________________________________________\n",
      "block4_pool (MaxPooling2D)   (None, 9, 9, 512)         0         \n",
      "_________________________________________________________________\n",
      "block5_conv1 (Conv2D)        (None, 9, 9, 512)         2359808   \n",
      "_________________________________________________________________\n",
      "block5_conv2 (Conv2D)        (None, 9, 9, 512)         2359808   \n",
      "_________________________________________________________________\n",
      "block5_conv3 (Conv2D)        (None, 9, 9, 512)         2359808   \n",
      "_________________________________________________________________\n",
      "block5_conv4 (Conv2D)        (None, 9, 9, 512)         2359808   \n",
      "_________________________________________________________________\n",
      "block5_pool (MaxPooling2D)   (None, 4, 4, 512)         0         \n",
      "_________________________________________________________________\n",
      "flatten_5 (Flatten)          (None, 8192)              0         \n",
      "_________________________________________________________________\n",
      "dense_12 (Dense)             (None, 120)               983160    \n",
      "=================================================================\n",
      "Total params: 21,007,544\n",
      "Trainable params: 983,160\n",
      "Non-trainable params: 20,024,384\n",
      "_________________________________________________________________\n"
     ]
    }
   ],
   "source": [
    "# This is the model we will train\n",
    "model = Model(inputs=base_model.input, outputs=predictions)\n",
    "\n",
    "# First: train only the top layers (which were randomly initialized)\n",
    "for layer in base_model.layers:\n",
    "    layer.trainable = False\n",
    "\n",
    "model.compile(loss='categorical_crossentropy', \n",
    "              optimizer='adam', \n",
    "              metrics=['accuracy'])\n",
    "model.summary()"
   ]
  },
  {
   "cell_type": "code",
   "execution_count": 59,
   "metadata": {
    "collapsed": true
   },
   "outputs": [],
   "source": [
    "#Change checkpoint filepath to B\n",
    "filepath=\"weights-improvementB-{epoch:02d}-{val_acc:.2f}.hdf5\"\n",
    "checkpoint = ModelCheckpoint(filepath, monitor='val_acc', \n",
    "                             verbose=1, save_best_only=True, mode='max')\n",
    "callbacks_list = [checkpoint]"
   ]
  },
  {
   "cell_type": "code",
   "execution_count": 60,
   "metadata": {
    "collapsed": true
   },
   "outputs": [
    {
     "name": "stdout",
     "output_type": "stream",
     "text": [
      "Train on 7155 samples, validate on 3067 samples\n",
      "Epoch 1/15\n",
      "7155/7155 [==============================] - 61s 8ms/step - loss: 4.5574 - acc: 0.0935 - val_loss: 3.9671 - val_acc: 0.1585\n",
      "\n",
      "Epoch 00001: val_acc improved from -inf to 0.15846, saving model to weights-improvementB-01-0.16.hdf5\n",
      "Epoch 2/15\n",
      "7155/7155 [==============================] - 60s 8ms/step - loss: 2.1101 - acc: 0.4929 - val_loss: 3.7527 - val_acc: 0.1911\n",
      "\n",
      "Epoch 00002: val_acc improved from 0.15846 to 0.19107, saving model to weights-improvementB-02-0.19.hdf5\n",
      "Epoch 3/15\n",
      "7155/7155 [==============================] - 61s 8ms/step - loss: 1.1457 - acc: 0.7487 - val_loss: 3.7841 - val_acc: 0.1976\n",
      "\n",
      "Epoch 00003: val_acc improved from 0.19107 to 0.19759, saving model to weights-improvementB-03-0.20.hdf5\n",
      "Epoch 4/15\n",
      "7155/7155 [==============================] - 61s 9ms/step - loss: 0.6640 - acc: 0.8878 - val_loss: 3.7178 - val_acc: 0.1950\n",
      "\n",
      "Epoch 00004: val_acc did not improve from 0.19759\n",
      "Epoch 5/15\n",
      "7155/7155 [==============================] - 61s 9ms/step - loss: 0.3810 - acc: 0.9572 - val_loss: 3.7732 - val_acc: 0.2048\n",
      "\n",
      "Epoch 00005: val_acc improved from 0.19759 to 0.20476, saving model to weights-improvementB-05-0.20.hdf5\n",
      "Epoch 6/15\n",
      "7155/7155 [==============================] - 61s 9ms/step - loss: 0.2358 - acc: 0.9860 - val_loss: 3.7232 - val_acc: 0.2243\n",
      "\n",
      "Epoch 00006: val_acc improved from 0.20476 to 0.22432, saving model to weights-improvementB-06-0.22.hdf5\n",
      "Epoch 7/15\n",
      "7155/7155 [==============================] - 61s 9ms/step - loss: 0.1491 - acc: 0.9954 - val_loss: 3.6868 - val_acc: 0.2230\n",
      "\n",
      "Epoch 00007: val_acc did not improve from 0.22432\n",
      "Epoch 8/15\n",
      "7155/7155 [==============================] - 61s 9ms/step - loss: 0.0967 - acc: 0.9980 - val_loss: 3.6895 - val_acc: 0.2217\n",
      "\n",
      "Epoch 00008: val_acc did not improve from 0.22432\n",
      "Epoch 9/15\n",
      "7155/7155 [==============================] - 61s 9ms/step - loss: 0.0708 - acc: 0.9989 - val_loss: 3.6945 - val_acc: 0.2305\n",
      "\n",
      "Epoch 00009: val_acc improved from 0.22432 to 0.23052, saving model to weights-improvementB-09-0.23.hdf5\n",
      "Epoch 10/15\n",
      "7155/7155 [==============================] - 61s 9ms/step - loss: 0.0537 - acc: 0.9989 - val_loss: 3.7412 - val_acc: 0.2302\n",
      "\n",
      "Epoch 00010: val_acc did not improve from 0.23052\n",
      "Epoch 11/15\n",
      "7155/7155 [==============================] - 61s 9ms/step - loss: 0.0446 - acc: 0.9992 - val_loss: 3.7721 - val_acc: 0.2237\n",
      "\n",
      "Epoch 00011: val_acc did not improve from 0.23052\n",
      "Epoch 12/15\n",
      "7155/7155 [==============================] - 61s 9ms/step - loss: 0.0375 - acc: 0.9986 - val_loss: 3.8798 - val_acc: 0.2191\n",
      "\n",
      "Epoch 00012: val_acc did not improve from 0.23052\n",
      "Epoch 13/15\n",
      "7155/7155 [==============================] - 61s 9ms/step - loss: 0.0341 - acc: 0.9989 - val_loss: 3.8290 - val_acc: 0.2335\n",
      "\n",
      "Epoch 00013: val_acc improved from 0.23052 to 0.23345, saving model to weights-improvementB-13-0.23.hdf5\n",
      "Epoch 14/15\n",
      "7155/7155 [==============================] - 61s 9ms/step - loss: 0.0284 - acc: 0.9992 - val_loss: 3.8134 - val_acc: 0.2312\n",
      "\n",
      "Epoch 00014: val_acc did not improve from 0.23345\n",
      "Epoch 15/15\n",
      "7155/7155 [==============================] - 61s 9ms/step - loss: 0.0257 - acc: 0.9987 - val_loss: 3.9156 - val_acc: 0.2214\n",
      "\n",
      "Epoch 00015: val_acc did not improve from 0.23345\n",
      "920.4091217517853  seconds\n"
     ]
    }
   ],
   "source": [
    "t0=time.time()\n",
    "log3 = model.fit(X_train, Y_train, \n",
    "                 epochs=15,\n",
    "                 callbacks=callbacks_list,\n",
    "                 validation_data=(X_valid, Y_valid), \n",
    "                 verbose=1)\n",
    "t1=time.time()\n",
    "print(t1-t0,\" seconds\")"
   ]
  },
  {
   "cell_type": "code",
   "execution_count": 61,
   "metadata": {},
   "outputs": [
    {
     "name": "stdout",
     "output_type": "stream",
     "text": [
      "CNN Error: 77.86%\n"
     ]
    },
    {
     "data": {
      "image/png": "[encoded data removed]",
      "text/plain": [
       "<Figure size 432x288 with 1 Axes>"
      ]
     },
     "metadata": {},
     "output_type": "display_data"
    }
   ],
   "source": [
    "scores3 = model.evaluate(X_valid, Y_valid, verbose=0)\n",
    "print(\"CNN Error: %.2f%%\" % (100-scores3[1]*100))\n",
    "\n",
    "import matplotlib.pyplot as plt\n",
    "%matplotlib inline\n",
    "plt.plot(log3.history['acc'],'b') \n",
    "plt.plot(log3.history['val_acc'],'r')\n",
    "plt.show()"
   ]
  },
  {
   "cell_type": "markdown",
   "metadata": {},
   "source": [
    "### This model is overfitting, however lets save it and see if we can later improve it... \n",
    "# Best weights = weights-improvementB-09-0.23.hdf5"
   ]
  },
  {
   "cell_type": "markdown",
   "metadata": {},
   "source": [
    "## We have the weights saved, now save the model to recall"
   ]
  },
  {
   "cell_type": "code",
   "execution_count": 62,
   "metadata": {},
   "outputs": [
    {
     "name": "stdout",
     "output_type": "stream",
     "text": [
      "Saved model to disk\n"
     ]
    }
   ],
   "source": [
    "# serialize model to JSON\n",
    "# https://machinelearningmastery.com/save-load-keras-deep-learning-models/\n",
    "model_json = model.to_json()\n",
    "with open(\"modelVGGJH1.json\", \"w\") as json_file:\n",
    "    json_file.write(model_json)\n",
    "print(\"Saved model to disk\")"
   ]
  },
  {
   "cell_type": "code",
   "execution_count": null,
   "metadata": {
    "collapsed": true
   },
   "outputs": [],
   "source": [
    "# How to load this back later...\n",
    " \n",
    "# load json and create model\n",
    "json_file = open('model.json', 'r')\n",
    "loaded_model_json = json_file.read()\n",
    "json_file.close()\n",
    "loaded_model = model_from_json(loaded_model_json)\n",
    "# load weights into new model\n",
    "loaded_model.load_weights(\"model.h5\")\n",
    "print(\"Loaded model from disk\")\n",
    " \n",
    "# evaluate loaded model on test data\n",
    "loaded_model.compile(loss='binary_crossentropy', optimizer='rmsprop', metrics=['accuracy'])\n",
    "score = loaded_model.evaluate(X, Y, verbose=0)\n",
    "print(\"%s: %.2f%%\" % (loaded_model.metrics_names[1], score[1]*100))"
   ]
  },
  {
   "cell_type": "markdown",
   "metadata": {},
   "source": [
    "# Switch from flatten to global"
   ]
  },
  {
   "cell_type": "code",
   "execution_count": 65,
   "metadata": {
    "collapsed": true
   },
   "outputs": [],
   "source": [
    "from keras.layers import GlobalAveragePooling2D\n",
    "base_model = VGG19(weights='imagenet', \n",
    "                   include_top=False, \n",
    "                   input_shape=(im_size, im_size, 3))"
   ]
  },
  {
   "cell_type": "code",
   "execution_count": 67,
   "metadata": {
    "collapsed": true
   },
   "outputs": [],
   "source": [
    "x = base_model.output\n",
    "x = GlobalAveragePooling2D()(x)\n",
    "predictions = Dense(num_class, activation='softmax')(x)"
   ]
  },
  {
   "cell_type": "code",
   "execution_count": 68,
   "metadata": {
    "collapsed": true
   },
   "outputs": [
    {
     "name": "stdout",
     "output_type": "stream",
     "text": [
      "_________________________________________________________________\n",
      "Layer (type)                 Output Shape              Param #   \n",
      "=================================================================\n",
      "input_7 (InputLayer)         (None, 150, 150, 3)       0         \n",
      "_________________________________________________________________\n",
      "block1_conv1 (Conv2D)        (None, 150, 150, 64)      1792      \n",
      "_________________________________________________________________\n",
      "block1_conv2 (Conv2D)        (None, 150, 150, 64)      36928     \n",
      "_________________________________________________________________\n",
      "block1_pool (MaxPooling2D)   (None, 75, 75, 64)        0         \n",
      "_________________________________________________________________\n",
      "block2_conv1 (Conv2D)        (None, 75, 75, 128)       73856     \n",
      "_________________________________________________________________\n",
      "block2_conv2 (Conv2D)        (None, 75, 75, 128)       147584    \n",
      "_________________________________________________________________\n",
      "block2_pool (MaxPooling2D)   (None, 37, 37, 128)       0         \n",
      "_________________________________________________________________\n",
      "block3_conv1 (Conv2D)        (None, 37, 37, 256)       295168    \n",
      "_________________________________________________________________\n",
      "block3_conv2 (Conv2D)        (None, 37, 37, 256)       590080    \n",
      "_________________________________________________________________\n",
      "block3_conv3 (Conv2D)        (None, 37, 37, 256)       590080    \n",
      "_________________________________________________________________\n",
      "block3_conv4 (Conv2D)        (None, 37, 37, 256)       590080    \n",
      "_________________________________________________________________\n",
      "block3_pool (MaxPooling2D)   (None, 18, 18, 256)       0         \n",
      "_________________________________________________________________\n",
      "block4_conv1 (Conv2D)        (None, 18, 18, 512)       1180160   \n",
      "_________________________________________________________________\n",
      "block4_conv2 (Conv2D)        (None, 18, 18, 512)       2359808   \n",
      "_________________________________________________________________\n",
      "block4_conv3 (Conv2D)        (None, 18, 18, 512)       2359808   \n",
      "_________________________________________________________________\n",
      "block4_conv4 (Conv2D)        (None, 18, 18, 512)       2359808   \n",
      "_________________________________________________________________\n",
      "block4_pool (MaxPooling2D)   (None, 9, 9, 512)         0         \n",
      "_________________________________________________________________\n",
      "block5_conv1 (Conv2D)        (None, 9, 9, 512)         2359808   \n",
      "_________________________________________________________________\n",
      "block5_conv2 (Conv2D)        (None, 9, 9, 512)         2359808   \n",
      "_________________________________________________________________\n",
      "block5_conv3 (Conv2D)        (None, 9, 9, 512)         2359808   \n",
      "_________________________________________________________________\n",
      "block5_conv4 (Conv2D)        (None, 9, 9, 512)         2359808   \n",
      "_________________________________________________________________\n",
      "block5_pool (MaxPooling2D)   (None, 4, 4, 512)         0         \n",
      "_________________________________________________________________\n",
      "global_average_pooling2d_1 ( (None, 512)               0         \n",
      "_________________________________________________________________\n",
      "dense_13 (Dense)             (None, 120)               61560     \n",
      "=================================================================\n",
      "Total params: 20,085,944\n",
      "Trainable params: 61,560\n",
      "Non-trainable params: 20,024,384\n",
      "_________________________________________________________________\n"
     ]
    }
   ],
   "source": [
    "# This is the model we will train\n",
    "model = Model(inputs=base_model.input, outputs=predictions)\n",
    "\n",
    "# First: train only the top layers (which were randomly initialized)\n",
    "for layer in base_model.layers:\n",
    "    layer.trainable = False\n",
    "\n",
    "model.compile(loss='categorical_crossentropy', \n",
    "              optimizer='adam', \n",
    "              metrics=['accuracy'])\n",
    "model.summary()"
   ]
  },
  {
   "cell_type": "code",
   "execution_count": 69,
   "metadata": {
    "collapsed": true
   },
   "outputs": [],
   "source": [
    "#Change checkpoint filepath to B\n",
    "filepath=\"weights-improvementG-{epoch:02d}-{val_acc:.2f}.hdf5\"\n",
    "checkpoint = ModelCheckpoint(filepath, monitor='val_acc', \n",
    "                             verbose=1, save_best_only=True, mode='max')\n",
    "callbacks_list = [checkpoint]"
   ]
  },
  {
   "cell_type": "code",
   "execution_count": 70,
   "metadata": {
    "collapsed": true
   },
   "outputs": [
    {
     "name": "stdout",
     "output_type": "stream",
     "text": [
      "Train on 7155 samples, validate on 3067 samples\n",
      "Epoch 1/15\n",
      "7155/7155 [==============================] - 60s 8ms/step - loss: 4.6968 - acc: 0.0333 - val_loss: 4.5322 - val_acc: 0.0577\n",
      "\n",
      "Epoch 00001: val_acc improved from -inf to 0.05771, saving model to weights-improvementG-01-0.06.hdf5\n",
      "Epoch 2/15\n",
      "7155/7155 [==============================] - 60s 8ms/step - loss: 4.3387 - acc: 0.0948 - val_loss: 4.3039 - val_acc: 0.0913\n",
      "\n",
      "Epoch 00002: val_acc improved from 0.05771 to 0.09129, saving model to weights-improvementG-02-0.09.hdf5\n",
      "Epoch 3/15\n",
      "7155/7155 [==============================] - 60s 8ms/step - loss: 4.0891 - acc: 0.1474 - val_loss: 4.1500 - val_acc: 0.1246\n",
      "\n",
      "Epoch 00003: val_acc improved from 0.09129 to 0.12455, saving model to weights-improvementG-03-0.12.hdf5\n",
      "Epoch 4/15\n",
      "7155/7155 [==============================] - 61s 8ms/step - loss: 3.8897 - acc: 0.1800 - val_loss: 4.0193 - val_acc: 0.1461\n",
      "\n",
      "Epoch 00004: val_acc improved from 0.12455 to 0.14607, saving model to weights-improvementG-04-0.15.hdf5\n",
      "Epoch 5/15\n",
      "7155/7155 [==============================] - 61s 8ms/step - loss: 3.7211 - acc: 0.2222 - val_loss: 3.9325 - val_acc: 0.1435\n",
      "\n",
      "Epoch 00005: val_acc did not improve from 0.14607\n",
      "Epoch 6/15\n",
      "7155/7155 [==============================] - 61s 9ms/step - loss: 3.5764 - acc: 0.2478 - val_loss: 3.8391 - val_acc: 0.1529\n",
      "\n",
      "Epoch 00006: val_acc improved from 0.14607 to 0.15292, saving model to weights-improvementG-06-0.15.hdf5\n",
      "Epoch 7/15\n",
      "7155/7155 [==============================] - 61s 9ms/step - loss: 3.4559 - acc: 0.2653 - val_loss: 3.7684 - val_acc: 0.1637\n",
      "\n",
      "Epoch 00007: val_acc improved from 0.15292 to 0.16368, saving model to weights-improvementG-07-0.16.hdf5\n",
      "Epoch 8/15\n",
      "7155/7155 [==============================] - 61s 9ms/step - loss: 3.3466 - acc: 0.2929 - val_loss: 3.7197 - val_acc: 0.1806\n",
      "\n",
      "Epoch 00008: val_acc improved from 0.16368 to 0.18063, saving model to weights-improvementG-08-0.18.hdf5\n",
      "Epoch 9/15\n",
      "7155/7155 [==============================] - 61s 9ms/step - loss: 3.2528 - acc: 0.3057 - val_loss: 3.6636 - val_acc: 0.1819\n",
      "\n",
      "Epoch 00009: val_acc improved from 0.18063 to 0.18194, saving model to weights-improvementG-09-0.18.hdf5\n",
      "Epoch 10/15\n",
      "7155/7155 [==============================] - 61s 9ms/step - loss: 3.1655 - acc: 0.3248 - val_loss: 3.6226 - val_acc: 0.1803\n",
      "\n",
      "Epoch 00010: val_acc did not improve from 0.18194\n",
      "Epoch 11/15\n",
      "7155/7155 [==============================] - 61s 9ms/step - loss: 3.0836 - acc: 0.3409 - val_loss: 3.5726 - val_acc: 0.1937\n",
      "\n",
      "Epoch 00011: val_acc improved from 0.18194 to 0.19367, saving model to weights-improvementG-11-0.19.hdf5\n",
      "Epoch 12/15\n",
      "7155/7155 [==============================] - 61s 9ms/step - loss: 3.0158 - acc: 0.3504 - val_loss: 3.5421 - val_acc: 0.1862\n",
      "\n",
      "Epoch 00012: val_acc did not improve from 0.19367\n",
      "Epoch 13/15\n",
      "7155/7155 [==============================] - 61s 9ms/step - loss: 2.9446 - acc: 0.3715 - val_loss: 3.5259 - val_acc: 0.1999\n",
      "\n",
      "Epoch 00013: val_acc improved from 0.19367 to 0.19987, saving model to weights-improvementG-13-0.20.hdf5\n",
      "Epoch 14/15\n",
      "7155/7155 [==============================] - 61s 9ms/step - loss: 2.8858 - acc: 0.3790 - val_loss: 3.4895 - val_acc: 0.1960\n",
      "\n",
      "Epoch 00014: val_acc did not improve from 0.19987\n",
      "Epoch 15/15\n",
      "7155/7155 [==============================] - 61s 9ms/step - loss: 2.8259 - acc: 0.3827 - val_loss: 3.4602 - val_acc: 0.2080\n",
      "\n",
      "Epoch 00015: val_acc improved from 0.19987 to 0.20802, saving model to weights-improvementG-15-0.21.hdf5\n",
      "919.1634137630463  seconds\n"
     ]
    }
   ],
   "source": [
    "t0=time.time()\n",
    "log3 = model.fit(X_train, Y_train, \n",
    "                 epochs=15,\n",
    "                 callbacks=callbacks_list,\n",
    "                 validation_data=(X_valid, Y_valid), \n",
    "                 verbose=1)\n",
    "t1=time.time()\n",
    "print(t1-t0,\" seconds\")"
   ]
  },
  {
   "cell_type": "code",
   "execution_count": 71,
   "metadata": {},
   "outputs": [
    {
     "name": "stdout",
     "output_type": "stream",
     "text": [
      "CNN Error: 79.20%\n"
     ]
    },
    {
     "data": {
      "image/png": "[encoded data removed]",
      "text/plain": [
       "<Figure size 432x288 with 1 Axes>"
      ]
     },
     "metadata": {},
     "output_type": "display_data"
    }
   ],
   "source": [
    "scores3 = model.evaluate(X_valid, Y_valid, verbose=0)\n",
    "print(\"Accuracy: %.2f%%\" % (scores3[1]*100))\n",
    "print(\"CNN Error: %.2f%%\" % (100-scores3[1]*100))\n",
    "\n",
    "import matplotlib.pyplot as plt\n",
    "%matplotlib inline\n",
    "plt.plot(log3.history['acc'],'b') \n",
    "plt.plot(log3.history['val_acc'],'r')\n",
    "plt.show()"
   ]
  },
  {
   "cell_type": "code",
   "execution_count": 72,
   "metadata": {},
   "outputs": [
    {
     "name": "stdout",
     "output_type": "stream",
     "text": [
      "Accuracy: 20.80%\n"
     ]
    }
   ],
   "source": [
    "print(\"Accuracy: %.2f%%\" % (scores3[1]*100))"
   ]
  },
  {
   "cell_type": "markdown",
   "metadata": {},
   "source": [
    "## We see that Global Pooling reduces how overfit the model becomes! Decrease in train accuracy with not much decrease in the test accuracy."
   ]
  },
  {
   "cell_type": "code",
   "execution_count": null,
   "metadata": {
    "collapsed": true
   },
   "outputs": [],
   "source": [
    "#Lets add another fully-connected layer"
   ]
  },
  {
   "cell_type": "code",
   "execution_count": 79,
   "metadata": {
    "collapsed": true
   },
   "outputs": [],
   "source": [
    "from keras.layers import GlobalAveragePooling2D\n",
    "base_model = VGG19(weights='imagenet', \n",
    "                   include_top=False, \n",
    "                   input_shape=(im_size, im_size, 3))"
   ]
  },
  {
   "cell_type": "code",
   "execution_count": 81,
   "metadata": {
    "collapsed": true
   },
   "outputs": [],
   "source": [
    "x = base_model.output\n",
    "x = GlobalAveragePooling2D()(x)\n",
    "x = Dense(1024)(x)\n",
    "x = BatchNormalization()(x)\n",
    "x = Activation('relu')(x)\n",
    "x = Dropout(0.5)(x)\n",
    "x = Dense(1024)(x)\n",
    "x = BatchNormalization()(x)\n",
    "x = Activation('relu')(x)\n",
    "x = Dropout(0.5)(x)\n",
    "predictions = Dense(num_class, activation='softmax')(x)"
   ]
  },
  {
   "cell_type": "code",
   "execution_count": 82,
   "metadata": {
    "collapsed": true
   },
   "outputs": [],
   "source": [
    "# This is the model we will train\n",
    "model = Model(inputs=base_model.input, outputs=predictions)\n",
    "\n",
    "# First: train only the top layers (which were randomly initialized)\n",
    "for layer in base_model.layers:\n",
    "    layer.trainable = False\n",
    "\n",
    "model.compile(loss='categorical_crossentropy', \n",
    "              optimizer='adam', \n",
    "              metrics=['accuracy'])\n",
    "#model.summary()"
   ]
  },
  {
   "cell_type": "code",
   "execution_count": 83,
   "metadata": {
    "collapsed": true
   },
   "outputs": [],
   "source": [
    "#Change checkpoint filepath and now only save the best val accuracy (not multi)\n",
    "filepath=\"JH_weights.best.hdf5\"\n",
    "checkpoint = ModelCheckpoint(filepath, monitor='val_acc', verbose=1, save_best_only=True, mode='max')\n",
    "callbacks_list = [checkpoint]"
   ]
  },
  {
   "cell_type": "code",
   "execution_count": 84,
   "metadata": {
    "scrolled": true
   },
   "outputs": [
    {
     "name": "stdout",
     "output_type": "stream",
     "text": [
      "Train on 7155 samples, validate on 3067 samples\n",
      "Epoch 1/15\n",
      "7155/7155 [==============================] - 62s 9ms/step - loss: 4.8259 - acc: 0.0528 - val_loss: 3.9196 - val_acc: 0.1213\n",
      "\n",
      "Epoch 00001: val_acc improved from -inf to 0.12129, saving model to JH_weights.best.hdf5\n",
      "Epoch 2/15\n",
      "7155/7155 [==============================] - 61s 9ms/step - loss: 3.7919 - acc: 0.1470 - val_loss: 3.5892 - val_acc: 0.1620\n",
      "\n",
      "Epoch 00002: val_acc improved from 0.12129 to 0.16205, saving model to JH_weights.best.hdf5\n",
      "Epoch 3/15\n",
      "7155/7155 [==============================] - 61s 9ms/step - loss: 3.3668 - acc: 0.2043 - val_loss: 3.4726 - val_acc: 0.1839\n",
      "\n",
      "Epoch 00003: val_acc improved from 0.16205 to 0.18389, saving model to JH_weights.best.hdf5\n",
      "Epoch 4/15\n",
      "7155/7155 [==============================] - 62s 9ms/step - loss: 3.0931 - acc: 0.2607 - val_loss: 3.3080 - val_acc: 0.2002\n",
      "\n",
      "Epoch 00004: val_acc improved from 0.18389 to 0.20020, saving model to JH_weights.best.hdf5\n",
      "Epoch 5/15\n",
      "7155/7155 [==============================] - 62s 9ms/step - loss: 2.8705 - acc: 0.2883 - val_loss: 3.3306 - val_acc: 0.2051\n",
      "\n",
      "Epoch 00005: val_acc improved from 0.20020 to 0.20509, saving model to JH_weights.best.hdf5\n",
      "Epoch 6/15\n",
      "7155/7155 [==============================] - 62s 9ms/step - loss: 2.6844 - acc: 0.3244 - val_loss: 3.3044 - val_acc: 0.2083\n",
      "\n",
      "Epoch 00006: val_acc improved from 0.20509 to 0.20835, saving model to JH_weights.best.hdf5\n",
      "Epoch 7/15\n",
      "7155/7155 [==============================] - 62s 9ms/step - loss: 2.5152 - acc: 0.3592 - val_loss: 3.2968 - val_acc: 0.2194\n",
      "\n",
      "Epoch 00007: val_acc improved from 0.20835 to 0.21943, saving model to JH_weights.best.hdf5\n",
      "Epoch 8/15\n",
      "7155/7155 [==============================] - 62s 9ms/step - loss: 2.3931 - acc: 0.3737 - val_loss: 3.2665 - val_acc: 0.2348\n",
      "\n",
      "Epoch 00008: val_acc improved from 0.21943 to 0.23476, saving model to JH_weights.best.hdf5\n",
      "Epoch 9/15\n",
      "7155/7155 [==============================] - 62s 9ms/step - loss: 2.2471 - acc: 0.4082 - val_loss: 3.2878 - val_acc: 0.2282\n",
      "\n",
      "Epoch 00009: val_acc did not improve from 0.23476\n",
      "Epoch 10/15\n",
      "7155/7155 [==============================] - 62s 9ms/step - loss: 2.1415 - acc: 0.4328 - val_loss: 3.4341 - val_acc: 0.1995\n",
      "\n",
      "Epoch 00010: val_acc did not improve from 0.23476\n",
      "Epoch 11/15\n",
      "7155/7155 [==============================] - 62s 9ms/step - loss: 2.0622 - acc: 0.4475 - val_loss: 3.4725 - val_acc: 0.2097\n",
      "\n",
      "Epoch 00011: val_acc did not improve from 0.23476\n",
      "Epoch 12/15\n",
      "7155/7155 [==============================] - 62s 9ms/step - loss: 1.9259 - acc: 0.4839 - val_loss: 3.5226 - val_acc: 0.2012\n",
      "\n",
      "Epoch 00012: val_acc did not improve from 0.23476\n",
      "Epoch 13/15\n",
      "7155/7155 [==============================] - 62s 9ms/step - loss: 1.8399 - acc: 0.5036 - val_loss: 3.3857 - val_acc: 0.2256\n",
      "\n",
      "Epoch 00013: val_acc did not improve from 0.23476\n",
      "Epoch 14/15\n",
      "7155/7155 [==============================] - 62s 9ms/step - loss: 1.7233 - acc: 0.5256 - val_loss: 3.3843 - val_acc: 0.2282\n",
      "\n",
      "Epoch 00014: val_acc did not improve from 0.23476\n",
      "Epoch 15/15\n",
      "7155/7155 [==============================] - 62s 9ms/step - loss: 1.6357 - acc: 0.5423 - val_loss: 3.4708 - val_acc: 0.2227\n",
      "\n",
      "Epoch 00015: val_acc did not improve from 0.23476\n",
      "935.1246995925903  seconds\n"
     ]
    }
   ],
   "source": [
    "t0=time.time()\n",
    "log3 = model.fit(X_train, Y_train, \n",
    "                 epochs=15,\n",
    "                 callbacks=callbacks_list,\n",
    "                 validation_data=(X_valid, Y_valid), \n",
    "                 verbose=1)\n",
    "t1=time.time()\n",
    "print(t1-t0,\" seconds\")"
   ]
  },
  {
   "cell_type": "code",
   "execution_count": 85,
   "metadata": {},
   "outputs": [
    {
     "name": "stdout",
     "output_type": "stream",
     "text": [
      "Accuracy: 22.27%\n",
      "CNN Error: 77.73%\n"
     ]
    },
    {
     "data": {
      "image/png": "[encoded data removed]",
      "text/plain": [
       "<Figure size 432x288 with 1 Axes>"
      ]
     },
     "metadata": {},
     "output_type": "display_data"
    }
   ],
   "source": [
    "scores3 = model.evaluate(X_valid, Y_valid, verbose=0)\n",
    "print(\"Accuracy: %.2f%%\" % (scores3[1]*100))\n",
    "print(\"CNN Error: %.2f%%\" % (100-scores3[1]*100))\n",
    "\n",
    "import matplotlib.pyplot as plt\n",
    "%matplotlib inline\n",
    "plt.plot(log3.history['acc'],'b') \n",
    "plt.plot(log3.history['val_acc'],'r')\n",
    "plt.show()"
   ]
  },
  {
   "cell_type": "code",
   "execution_count": null,
   "metadata": {
    "collapsed": true
   },
   "outputs": [],
   "source": [
    "# Now we chose to train the top"
   ]
  },
  {
   "cell_type": "code",
   "execution_count": 86,
   "metadata": {},
   "outputs": [
    {
     "name": "stdout",
     "output_type": "stream",
     "text": [
      "0 input_9\n",
      "1 block1_conv1\n",
      "2 block1_conv2\n",
      "3 block1_pool\n",
      "4 block2_conv1\n",
      "5 block2_conv2\n",
      "6 block2_pool\n",
      "7 block3_conv1\n",
      "8 block3_conv2\n",
      "9 block3_conv3\n",
      "10 block3_conv4\n",
      "11 block3_pool\n",
      "12 block4_conv1\n",
      "13 block4_conv2\n",
      "14 block4_conv3\n",
      "15 block4_conv4\n",
      "16 block4_pool\n",
      "17 block5_conv1\n",
      "18 block5_conv2\n",
      "19 block5_conv3\n",
      "20 block5_conv4\n",
      "21 block5_pool\n"
     ]
    }
   ],
   "source": [
    "#visualize the layers to choose layers to unfreeze\n",
    "for i, layer in enumerate(base_model.layers):\n",
    "   print(i, layer.name)"
   ]
  },
  {
   "cell_type": "code",
   "execution_count": 89,
   "metadata": {
    "collapsed": true
   },
   "outputs": [],
   "source": [
    "for layer in model.layers[:17]:\n",
    "   layer.trainable = False\n",
    "for layer in model.layers[17:]:\n",
    "   layer.trainable = True"
   ]
  },
  {
   "cell_type": "code",
   "execution_count": 90,
   "metadata": {
    "collapsed": true
   },
   "outputs": [],
   "source": [
    "# we need to recompile the model for these modifications to take effect\n",
    "model.compile(loss='categorical_crossentropy', \n",
    "              optimizer='adam', \n",
    "              metrics=['accuracy'])\n",
    "#model.summary()"
   ]
  },
  {
   "cell_type": "code",
   "execution_count": 91,
   "metadata": {
    "collapsed": true
   },
   "outputs": [],
   "source": [
    "#Change checkpoint filepath and now only save the best val accuracy (not multi)\n",
    "filepath=\"JH2_weights.best.hdf5\"\n",
    "checkpoint = ModelCheckpoint(filepath, monitor='val_acc', verbose=1, save_best_only=True, mode='max')\n",
    "callbacks_list = [checkpoint]"
   ]
  },
  {
   "cell_type": "code",
   "execution_count": 93,
   "metadata": {
    "scrolled": true
   },
   "outputs": [
    {
     "name": "stdout",
     "output_type": "stream",
     "text": [
      "Train on 7155 samples, validate on 3067 samples\n",
      "Epoch 1/150\n",
      "7155/7155 [==============================] - 71s 10ms/step - loss: 2.6196 - acc: 0.2904 - val_loss: 3.3225 - val_acc: 0.2097\n",
      "\n",
      "Epoch 00001: val_acc improved from 0.16726 to 0.20965, saving model to JH2_weights.best.hdf5\n",
      "Epoch 2/150\n",
      "7155/7155 [==============================] - 71s 10ms/step - loss: 2.3157 - acc: 0.3498 - val_loss: 3.5651 - val_acc: 0.1901\n",
      "\n",
      "Epoch 00002: val_acc did not improve from 0.20965\n",
      "Epoch 3/150\n",
      "7155/7155 [==============================] - 72s 10ms/step - loss: 2.0242 - acc: 0.4165 - val_loss: 3.5702 - val_acc: 0.2022\n",
      "\n",
      "Epoch 00003: val_acc did not improve from 0.20965\n",
      "Epoch 4/150\n",
      "7155/7155 [==============================] - 72s 10ms/step - loss: 1.7697 - acc: 0.4784 - val_loss: 3.7212 - val_acc: 0.2253\n",
      "\n",
      "Epoch 00004: val_acc improved from 0.20965 to 0.22530, saving model to JH2_weights.best.hdf5\n",
      "Epoch 5/150\n",
      "7155/7155 [==============================] - 72s 10ms/step - loss: 1.5574 - acc: 0.5208 - val_loss: 3.5781 - val_acc: 0.2370\n",
      "\n",
      "Epoch 00005: val_acc improved from 0.22530 to 0.23704, saving model to JH2_weights.best.hdf5\n",
      "Epoch 6/150\n",
      "7155/7155 [==============================] - 72s 10ms/step - loss: 1.2566 - acc: 0.6066 - val_loss: 3.8829 - val_acc: 0.2273\n",
      "\n",
      "Epoch 00006: val_acc did not improve from 0.23704\n",
      "Epoch 7/150\n",
      "7155/7155 [==============================] - 72s 10ms/step - loss: 1.0402 - acc: 0.6674 - val_loss: 4.0332 - val_acc: 0.2380\n",
      "\n",
      "Epoch 00007: val_acc improved from 0.23704 to 0.23802, saving model to JH2_weights.best.hdf5\n",
      "Epoch 8/150\n",
      "7155/7155 [==============================] - 72s 10ms/step - loss: 0.8867 - acc: 0.7059 - val_loss: 3.9833 - val_acc: 0.2527\n",
      "\n",
      "Epoch 00008: val_acc improved from 0.23802 to 0.25269, saving model to JH2_weights.best.hdf5\n",
      "Epoch 9/150\n",
      "7155/7155 [==============================] - 72s 10ms/step - loss: 0.7344 - acc: 0.7571 - val_loss: 4.1910 - val_acc: 0.2566\n",
      "\n",
      "Epoch 00009: val_acc improved from 0.25269 to 0.25660, saving model to JH2_weights.best.hdf5\n",
      "Epoch 10/150\n",
      "7155/7155 [==============================] - 72s 10ms/step - loss: 0.6228 - acc: 0.7936 - val_loss: 4.4759 - val_acc: 0.2338\n",
      "\n",
      "Epoch 00010: val_acc did not improve from 0.25660\n",
      "Epoch 11/150\n",
      "7155/7155 [==============================] - 72s 10ms/step - loss: 0.5286 - acc: 0.8285 - val_loss: 4.7102 - val_acc: 0.2426\n",
      "\n",
      "Epoch 00011: val_acc did not improve from 0.25660\n",
      "Epoch 12/150\n",
      "7155/7155 [==============================] - 72s 10ms/step - loss: 0.4572 - acc: 0.8488 - val_loss: 5.0932 - val_acc: 0.2321\n",
      "\n",
      "Epoch 00012: val_acc did not improve from 0.25660\n",
      "Epoch 13/150\n",
      "7155/7155 [==============================] - 72s 10ms/step - loss: 0.4230 - acc: 0.8608 - val_loss: 4.4838 - val_acc: 0.2723\n",
      "\n",
      "Epoch 00013: val_acc improved from 0.25660 to 0.27225, saving model to JH2_weights.best.hdf5\n",
      "Epoch 14/150\n",
      "7155/7155 [==============================] - 72s 10ms/step - loss: 0.3860 - acc: 0.8700 - val_loss: 5.0127 - val_acc: 0.2504\n",
      "\n",
      "Epoch 00014: val_acc did not improve from 0.27225\n",
      "Epoch 15/150\n",
      "7155/7155 [==============================] - 72s 10ms/step - loss: 0.3466 - acc: 0.8874 - val_loss: 5.4369 - val_acc: 0.2325\n",
      "\n",
      "Epoch 00015: val_acc did not improve from 0.27225\n",
      "Epoch 16/150\n",
      "7155/7155 [==============================] - 72s 10ms/step - loss: 0.3011 - acc: 0.8994 - val_loss: 5.3851 - val_acc: 0.2393\n",
      "\n",
      "Epoch 00016: val_acc did not improve from 0.27225\n",
      "Epoch 17/150\n",
      "7155/7155 [==============================] - 72s 10ms/step - loss: 0.2894 - acc: 0.9016 - val_loss: 5.3927 - val_acc: 0.2530\n",
      "\n",
      "Epoch 00017: val_acc did not improve from 0.27225\n",
      "Epoch 18/150\n",
      "7155/7155 [==============================] - 72s 10ms/step - loss: 0.2692 - acc: 0.9145 - val_loss: 4.9889 - val_acc: 0.2758\n",
      "\n",
      "Epoch 00018: val_acc improved from 0.27225 to 0.27584, saving model to JH2_weights.best.hdf5\n",
      "Epoch 19/150\n",
      "7155/7155 [==============================] - 72s 10ms/step - loss: 0.2807 - acc: 0.9087 - val_loss: 5.6767 - val_acc: 0.2491\n",
      "\n",
      "Epoch 00019: val_acc did not improve from 0.27584\n",
      "Epoch 20/150\n",
      "7155/7155 [==============================] - 72s 10ms/step - loss: 0.2361 - acc: 0.9216 - val_loss: 5.3793 - val_acc: 0.2644\n",
      "\n",
      "Epoch 00020: val_acc did not improve from 0.27584\n",
      "Epoch 21/150\n",
      "7155/7155 [==============================] - 72s 10ms/step - loss: 0.2747 - acc: 0.9086 - val_loss: 5.6056 - val_acc: 0.2566\n",
      "\n",
      "Epoch 00021: val_acc did not improve from 0.27584\n",
      "Epoch 22/150\n",
      "7155/7155 [==============================] - 72s 10ms/step - loss: 0.2449 - acc: 0.9188 - val_loss: 5.4152 - val_acc: 0.2560\n",
      "\n",
      "Epoch 00022: val_acc did not improve from 0.27584\n",
      "Epoch 23/150\n",
      "7155/7155 [==============================] - 72s 10ms/step - loss: 0.2408 - acc: 0.9224 - val_loss: 5.9338 - val_acc: 0.2269\n",
      "\n",
      "Epoch 00023: val_acc did not improve from 0.27584\n",
      "Epoch 24/150\n",
      "7155/7155 [==============================] - 72s 10ms/step - loss: 0.2220 - acc: 0.9272 - val_loss: 6.0483 - val_acc: 0.2429\n",
      "\n",
      "Epoch 00024: val_acc did not improve from 0.27584\n",
      "Epoch 25/150\n",
      "7155/7155 [==============================] - 72s 10ms/step - loss: 0.1882 - acc: 0.9386 - val_loss: 5.8864 - val_acc: 0.2563\n",
      "\n",
      "Epoch 00025: val_acc did not improve from 0.27584\n",
      "Epoch 26/150\n",
      "7155/7155 [==============================] - 72s 10ms/step - loss: 0.1634 - acc: 0.9454 - val_loss: 5.9698 - val_acc: 0.2530\n",
      "\n",
      "Epoch 00026: val_acc did not improve from 0.27584\n",
      "Epoch 27/150\n",
      "7155/7155 [==============================] - 72s 10ms/step - loss: 0.2183 - acc: 0.9254 - val_loss: 5.9874 - val_acc: 0.2426\n",
      "\n",
      "Epoch 00027: val_acc did not improve from 0.27584\n",
      "Epoch 28/150\n",
      "7155/7155 [==============================] - 72s 10ms/step - loss: 0.2041 - acc: 0.9350 - val_loss: 5.8401 - val_acc: 0.2667\n",
      "\n",
      "Epoch 00028: val_acc did not improve from 0.27584\n",
      "Epoch 29/150\n",
      "7155/7155 [==============================] - 72s 10ms/step - loss: 0.1573 - acc: 0.9501 - val_loss: 6.3431 - val_acc: 0.2403\n",
      "\n",
      "Epoch 00029: val_acc did not improve from 0.27584\n",
      "Epoch 30/150\n",
      "7155/7155 [==============================] - 72s 10ms/step - loss: 0.1758 - acc: 0.9406 - val_loss: 6.3560 - val_acc: 0.2442\n",
      "\n",
      "Epoch 00030: val_acc did not improve from 0.27584\n",
      "Epoch 31/150\n",
      "7155/7155 [==============================] - 72s 10ms/step - loss: 0.1688 - acc: 0.9431 - val_loss: 5.7361 - val_acc: 0.2592\n",
      "\n",
      "Epoch 00031: val_acc did not improve from 0.27584\n",
      "Epoch 32/150\n",
      "7155/7155 [==============================] - 72s 10ms/step - loss: 0.1867 - acc: 0.9391 - val_loss: 6.0345 - val_acc: 0.2586\n",
      "\n",
      "Epoch 00032: val_acc did not improve from 0.27584\n",
      "Epoch 33/150\n",
      "7155/7155 [==============================] - 72s 10ms/step - loss: 0.1814 - acc: 0.9419 - val_loss: 6.9149 - val_acc: 0.2201\n",
      "\n",
      "Epoch 00033: val_acc did not improve from 0.27584\n",
      "Epoch 34/150\n",
      "7155/7155 [==============================] - 72s 10ms/step - loss: 0.1578 - acc: 0.9493 - val_loss: 6.3166 - val_acc: 0.2494\n",
      "\n",
      "Epoch 00034: val_acc did not improve from 0.27584\n",
      "Epoch 35/150\n",
      "7155/7155 [==============================] - 72s 10ms/step - loss: 0.1605 - acc: 0.9473 - val_loss: 5.9491 - val_acc: 0.2520\n",
      "\n",
      "Epoch 00035: val_acc did not improve from 0.27584\n",
      "Epoch 36/150\n",
      "7155/7155 [==============================] - 72s 10ms/step - loss: 0.1400 - acc: 0.9551 - val_loss: 6.5207 - val_acc: 0.2471\n",
      "\n",
      "Epoch 00036: val_acc did not improve from 0.27584\n",
      "Epoch 37/150\n",
      "7155/7155 [==============================] - 72s 10ms/step - loss: 0.1689 - acc: 0.9454 - val_loss: 6.6808 - val_acc: 0.2416\n",
      "\n",
      "Epoch 00037: val_acc did not improve from 0.27584\n",
      "Epoch 38/150\n",
      "7155/7155 [==============================] - 72s 10ms/step - loss: 0.1384 - acc: 0.9563 - val_loss: 6.2591 - val_acc: 0.2576\n",
      "\n",
      "Epoch 00038: val_acc did not improve from 0.27584\n",
      "Epoch 39/150\n",
      "7155/7155 [==============================] - 72s 10ms/step - loss: 0.1407 - acc: 0.9563 - val_loss: 6.4945 - val_acc: 0.2419\n",
      "\n",
      "Epoch 00039: val_acc did not improve from 0.27584\n",
      "Epoch 40/150\n",
      "7155/7155 [==============================] - 72s 10ms/step - loss: 0.1257 - acc: 0.9607 - val_loss: 6.4784 - val_acc: 0.2416\n",
      "\n",
      "Epoch 00040: val_acc did not improve from 0.27584\n",
      "Epoch 41/150\n",
      "7155/7155 [==============================] - 72s 10ms/step - loss: 0.1164 - acc: 0.9637 - val_loss: 6.8156 - val_acc: 0.2367\n",
      "\n",
      "Epoch 00041: val_acc did not improve from 0.27584\n",
      "Epoch 42/150\n",
      "7155/7155 [==============================] - 72s 10ms/step - loss: 0.1185 - acc: 0.9620 - val_loss: 7.8342 - val_acc: 0.2064\n",
      "\n",
      "Epoch 00042: val_acc did not improve from 0.27584\n",
      "Epoch 43/150\n",
      "7155/7155 [==============================] - 72s 10ms/step - loss: 0.1405 - acc: 0.9535 - val_loss: 6.4219 - val_acc: 0.2507\n",
      "\n",
      "Epoch 00043: val_acc did not improve from 0.27584\n",
      "Epoch 44/150\n",
      "7155/7155 [==============================] - 72s 10ms/step - loss: 0.1484 - acc: 0.9536 - val_loss: 6.3207 - val_acc: 0.2618\n",
      "\n",
      "Epoch 00044: val_acc did not improve from 0.27584\n",
      "Epoch 45/150\n",
      "7155/7155 [==============================] - 72s 10ms/step - loss: 0.1336 - acc: 0.9577 - val_loss: 6.3272 - val_acc: 0.2599\n",
      "\n",
      "Epoch 00045: val_acc did not improve from 0.27584\n",
      "Epoch 46/150\n",
      "7155/7155 [==============================] - 72s 10ms/step - loss: 0.1288 - acc: 0.9579 - val_loss: 7.9241 - val_acc: 0.1894\n",
      "\n",
      "Epoch 00046: val_acc did not improve from 0.27584\n",
      "Epoch 47/150\n",
      "7155/7155 [==============================] - 72s 10ms/step - loss: 0.1350 - acc: 0.9582 - val_loss: 6.5617 - val_acc: 0.2481\n",
      "\n",
      "Epoch 00047: val_acc did not improve from 0.27584\n",
      "Epoch 48/150\n",
      "7155/7155 [==============================] - 72s 10ms/step - loss: 0.1326 - acc: 0.9578 - val_loss: 6.9530 - val_acc: 0.2380\n",
      "\n",
      "Epoch 00048: val_acc did not improve from 0.27584\n",
      "Epoch 49/150\n",
      "7155/7155 [==============================] - 72s 10ms/step - loss: 0.1057 - acc: 0.9673 - val_loss: 7.2857 - val_acc: 0.2224\n",
      "\n",
      "Epoch 00049: val_acc did not improve from 0.27584\n",
      "Epoch 50/150\n",
      "7155/7155 [==============================] - 72s 10ms/step - loss: 0.1239 - acc: 0.9621 - val_loss: 7.0673 - val_acc: 0.2292\n",
      "\n",
      "Epoch 00050: val_acc did not improve from 0.27584\n",
      "Epoch 51/150\n",
      "7155/7155 [==============================] - 72s 10ms/step - loss: 0.1312 - acc: 0.9565 - val_loss: 6.9682 - val_acc: 0.2387\n",
      "\n",
      "Epoch 00051: val_acc did not improve from 0.27584\n",
      "Epoch 52/150\n",
      "7155/7155 [==============================] - 72s 10ms/step - loss: 0.1047 - acc: 0.9672 - val_loss: 6.6292 - val_acc: 0.2432\n",
      "\n",
      "Epoch 00052: val_acc did not improve from 0.27584\n",
      "Epoch 53/150\n",
      "7155/7155 [==============================] - 72s 10ms/step - loss: 0.0984 - acc: 0.9666 - val_loss: 6.7367 - val_acc: 0.2533\n",
      "\n",
      "Epoch 00053: val_acc did not improve from 0.27584\n",
      "Epoch 54/150\n",
      "7155/7155 [==============================] - 72s 10ms/step - loss: 0.0965 - acc: 0.9698 - val_loss: 6.8761 - val_acc: 0.2393\n",
      "\n",
      "Epoch 00054: val_acc did not improve from 0.27584\n",
      "Epoch 55/150\n",
      "7155/7155 [==============================] - 72s 10ms/step - loss: 0.0962 - acc: 0.9688 - val_loss: 6.6562 - val_acc: 0.2582\n",
      "\n",
      "Epoch 00055: val_acc did not improve from 0.27584\n",
      "Epoch 56/150\n",
      "7155/7155 [==============================] - 72s 10ms/step - loss: 0.0811 - acc: 0.9734 - val_loss: 6.6744 - val_acc: 0.2546\n",
      "\n",
      "Epoch 00056: val_acc did not improve from 0.27584\n",
      "Epoch 57/150\n",
      "7155/7155 [==============================] - 72s 10ms/step - loss: 0.1140 - acc: 0.9635 - val_loss: 6.7407 - val_acc: 0.2455\n",
      "\n",
      "Epoch 00057: val_acc did not improve from 0.27584\n",
      "Epoch 58/150\n",
      "7155/7155 [==============================] - 72s 10ms/step - loss: 0.1067 - acc: 0.9684 - val_loss: 7.1035 - val_acc: 0.2276\n",
      "\n",
      "Epoch 00058: val_acc did not improve from 0.27584\n",
      "Epoch 59/150\n",
      "7155/7155 [==============================] - 72s 10ms/step - loss: 0.1084 - acc: 0.9674 - val_loss: 8.2547 - val_acc: 0.1933\n",
      "\n",
      "Epoch 00059: val_acc did not improve from 0.27584\n",
      "Epoch 60/150\n",
      "7155/7155 [==============================] - 72s 10ms/step - loss: 0.1115 - acc: 0.9670 - val_loss: 6.5332 - val_acc: 0.2595\n",
      "\n",
      "Epoch 00060: val_acc did not improve from 0.27584\n",
      "Epoch 61/150\n",
      "7155/7155 [==============================] - 72s 10ms/step - loss: 0.1065 - acc: 0.9646 - val_loss: 6.8112 - val_acc: 0.2527\n",
      "\n",
      "Epoch 00061: val_acc did not improve from 0.27584\n",
      "Epoch 62/150\n",
      "7155/7155 [==============================] - 72s 10ms/step - loss: 0.0895 - acc: 0.9730 - val_loss: 7.1543 - val_acc: 0.2416\n",
      "\n",
      "Epoch 00062: val_acc did not improve from 0.27584\n",
      "Epoch 63/150\n",
      "7155/7155 [==============================] - 72s 10ms/step - loss: 0.1010 - acc: 0.9688 - val_loss: 6.6188 - val_acc: 0.2670\n",
      "\n",
      "Epoch 00063: val_acc did not improve from 0.27584\n",
      "Epoch 64/150\n",
      "7155/7155 [==============================] - 72s 10ms/step - loss: 0.1051 - acc: 0.9672 - val_loss: 6.7411 - val_acc: 0.2618\n",
      "\n",
      "Epoch 00064: val_acc did not improve from 0.27584\n",
      "Epoch 65/150\n",
      "7155/7155 [==============================] - 72s 10ms/step - loss: 0.0674 - acc: 0.9792 - val_loss: 6.6729 - val_acc: 0.2608\n",
      "\n",
      "Epoch 00065: val_acc did not improve from 0.27584\n",
      "Epoch 66/150\n",
      "7155/7155 [==============================] - 72s 10ms/step - loss: 0.0785 - acc: 0.9732 - val_loss: 7.1359 - val_acc: 0.2292\n",
      "\n",
      "Epoch 00066: val_acc did not improve from 0.27584\n",
      "Epoch 67/150\n",
      "7155/7155 [==============================] - 72s 10ms/step - loss: 0.0885 - acc: 0.9743 - val_loss: 7.0752 - val_acc: 0.2537\n",
      "\n",
      "Epoch 00067: val_acc did not improve from 0.27584\n",
      "Epoch 68/150\n",
      "7155/7155 [==============================] - 72s 10ms/step - loss: 0.0968 - acc: 0.9697 - val_loss: 6.5436 - val_acc: 0.2657\n",
      "\n",
      "Epoch 00068: val_acc did not improve from 0.27584\n",
      "Epoch 69/150\n",
      "7155/7155 [==============================] - 72s 10ms/step - loss: 0.0903 - acc: 0.9719 - val_loss: 7.2286 - val_acc: 0.2396\n",
      "\n",
      "Epoch 00069: val_acc did not improve from 0.27584\n",
      "Epoch 70/150\n",
      "7155/7155 [==============================] - 72s 10ms/step - loss: 0.0908 - acc: 0.9716 - val_loss: 6.5625 - val_acc: 0.2608\n",
      "\n",
      "Epoch 00070: val_acc did not improve from 0.27584\n",
      "Epoch 71/150\n",
      "7155/7155 [==============================] - 72s 10ms/step - loss: 0.0757 - acc: 0.9746 - val_loss: 6.5669 - val_acc: 0.2677\n",
      "\n",
      "Epoch 00071: val_acc did not improve from 0.27584\n",
      "Epoch 72/150\n",
      "7155/7155 [==============================] - 72s 10ms/step - loss: 0.0853 - acc: 0.9704 - val_loss: 7.4478 - val_acc: 0.2396\n",
      "\n",
      "Epoch 00072: val_acc did not improve from 0.27584\n",
      "Epoch 73/150\n",
      "7155/7155 [==============================] - 72s 10ms/step - loss: 0.0841 - acc: 0.9740 - val_loss: 6.9653 - val_acc: 0.2462\n",
      "\n",
      "Epoch 00073: val_acc did not improve from 0.27584\n",
      "Epoch 74/150\n",
      "7155/7155 [==============================] - 72s 10ms/step - loss: 0.0829 - acc: 0.9769 - val_loss: 6.7523 - val_acc: 0.2615\n",
      "\n",
      "Epoch 00074: val_acc did not improve from 0.27584\n",
      "Epoch 75/150\n",
      "7155/7155 [==============================] - 72s 10ms/step - loss: 0.0861 - acc: 0.9746 - val_loss: 7.0300 - val_acc: 0.2573\n",
      "\n",
      "Epoch 00075: val_acc did not improve from 0.27584\n",
      "Epoch 76/150\n",
      "7155/7155 [==============================] - 72s 10ms/step - loss: 0.0993 - acc: 0.9679 - val_loss: 7.4221 - val_acc: 0.2263\n",
      "\n",
      "Epoch 00076: val_acc did not improve from 0.27584\n",
      "Epoch 77/150\n",
      "7155/7155 [==============================] - 72s 10ms/step - loss: 0.0648 - acc: 0.9790 - val_loss: 7.0604 - val_acc: 0.2527\n",
      "\n",
      "Epoch 00077: val_acc did not improve from 0.27584\n",
      "Epoch 78/150\n",
      "7155/7155 [==============================] - 72s 10ms/step - loss: 0.0661 - acc: 0.9790 - val_loss: 7.6263 - val_acc: 0.2302\n",
      "\n",
      "Epoch 00078: val_acc did not improve from 0.27584\n",
      "Epoch 79/150\n",
      "7155/7155 [==============================] - 72s 10ms/step - loss: 0.0744 - acc: 0.9771 - val_loss: 7.5041 - val_acc: 0.2243\n",
      "\n",
      "Epoch 00079: val_acc did not improve from 0.27584\n",
      "Epoch 80/150\n",
      "7155/7155 [==============================] - 72s 10ms/step - loss: 0.0816 - acc: 0.9718 - val_loss: 6.8726 - val_acc: 0.2550\n",
      "\n",
      "Epoch 00080: val_acc did not improve from 0.27584\n",
      "Epoch 81/150\n",
      "7155/7155 [==============================] - 72s 10ms/step - loss: 0.0856 - acc: 0.9739 - val_loss: 6.8208 - val_acc: 0.2573\n",
      "\n",
      "Epoch 00081: val_acc did not improve from 0.27584\n",
      "Epoch 82/150\n",
      "7155/7155 [==============================] - 72s 10ms/step - loss: 0.0902 - acc: 0.9697 - val_loss: 7.2281 - val_acc: 0.2439\n",
      "\n",
      "Epoch 00082: val_acc did not improve from 0.27584\n",
      "Epoch 83/150\n",
      "7155/7155 [==============================] - 72s 10ms/step - loss: 0.0880 - acc: 0.9725 - val_loss: 7.0022 - val_acc: 0.2380\n",
      "\n",
      "Epoch 00083: val_acc did not improve from 0.27584\n",
      "Epoch 84/150\n",
      "7155/7155 [==============================] - 72s 10ms/step - loss: 0.0528 - acc: 0.9835 - val_loss: 6.9113 - val_acc: 0.2507\n",
      "\n",
      "Epoch 00084: val_acc did not improve from 0.27584\n",
      "Epoch 85/150\n"
     ]
    },
    {
     "name": "stdout",
     "output_type": "stream",
     "text": [
      "7155/7155 [==============================] - 72s 10ms/step - loss: 0.0684 - acc: 0.9806 - val_loss: 6.8382 - val_acc: 0.2661\n",
      "\n",
      "Epoch 00085: val_acc did not improve from 0.27584\n",
      "Epoch 86/150\n",
      "7155/7155 [==============================] - 72s 10ms/step - loss: 0.0800 - acc: 0.9734 - val_loss: 6.9691 - val_acc: 0.2648\n",
      "\n",
      "Epoch 00086: val_acc did not improve from 0.27584\n",
      "Epoch 87/150\n",
      "7155/7155 [==============================] - 72s 10ms/step - loss: 0.0730 - acc: 0.9753 - val_loss: 7.0114 - val_acc: 0.2579\n",
      "\n",
      "Epoch 00087: val_acc did not improve from 0.27584\n",
      "Epoch 88/150\n",
      "7155/7155 [==============================] - 72s 10ms/step - loss: 0.0737 - acc: 0.9782 - val_loss: 7.2229 - val_acc: 0.2445\n",
      "\n",
      "Epoch 00088: val_acc did not improve from 0.27584\n",
      "Epoch 89/150\n",
      "7155/7155 [==============================] - 72s 10ms/step - loss: 0.0554 - acc: 0.9813 - val_loss: 6.6642 - val_acc: 0.2648\n",
      "\n",
      "Epoch 00089: val_acc did not improve from 0.27584\n",
      "Epoch 90/150\n",
      "7155/7155 [==============================] - 72s 10ms/step - loss: 0.0655 - acc: 0.9786 - val_loss: 6.7900 - val_acc: 0.2543\n",
      "\n",
      "Epoch 00090: val_acc did not improve from 0.27584\n",
      "Epoch 91/150\n",
      "7155/7155 [==============================] - 72s 10ms/step - loss: 0.0686 - acc: 0.9765 - val_loss: 7.3062 - val_acc: 0.2354\n",
      "\n",
      "Epoch 00091: val_acc did not improve from 0.27584\n",
      "Epoch 92/150\n",
      "7155/7155 [==============================] - 72s 10ms/step - loss: 0.0743 - acc: 0.9779 - val_loss: 6.9720 - val_acc: 0.2752\n",
      "\n",
      "Epoch 00092: val_acc did not improve from 0.27584\n",
      "Epoch 93/150\n",
      "7155/7155 [==============================] - 72s 10ms/step - loss: 0.0599 - acc: 0.9809 - val_loss: 6.8127 - val_acc: 0.2553\n",
      "\n",
      "Epoch 00093: val_acc did not improve from 0.27584\n",
      "Epoch 94/150\n",
      "7155/7155 [==============================] - 72s 10ms/step - loss: 0.0808 - acc: 0.9729 - val_loss: 7.0533 - val_acc: 0.2615\n",
      "\n",
      "Epoch 00094: val_acc did not improve from 0.27584\n",
      "Epoch 95/150\n",
      "7155/7155 [==============================] - 72s 10ms/step - loss: 0.0649 - acc: 0.9788 - val_loss: 6.6176 - val_acc: 0.2843\n",
      "\n",
      "Epoch 00095: val_acc improved from 0.27584 to 0.28432, saving model to JH2_weights.best.hdf5\n",
      "Epoch 96/150\n",
      "7155/7155 [==============================] - 72s 10ms/step - loss: 0.0633 - acc: 0.9796 - val_loss: 6.9678 - val_acc: 0.2781\n",
      "\n",
      "Epoch 00096: val_acc did not improve from 0.28432\n",
      "Epoch 97/150\n",
      "7155/7155 [==============================] - 72s 10ms/step - loss: 0.0672 - acc: 0.9809 - val_loss: 7.6439 - val_acc: 0.2370\n",
      "\n",
      "Epoch 00097: val_acc did not improve from 0.28432\n",
      "Epoch 98/150\n",
      "7155/7155 [==============================] - 72s 10ms/step - loss: 0.0666 - acc: 0.9788 - val_loss: 7.2082 - val_acc: 0.2628\n",
      "\n",
      "Epoch 00098: val_acc did not improve from 0.28432\n",
      "Epoch 99/150\n",
      "7155/7155 [==============================] - 72s 10ms/step - loss: 0.0928 - acc: 0.9730 - val_loss: 7.2322 - val_acc: 0.2569\n",
      "\n",
      "Epoch 00099: val_acc did not improve from 0.28432\n",
      "Epoch 100/150\n",
      "7155/7155 [==============================] - 72s 10ms/step - loss: 0.0660 - acc: 0.9782 - val_loss: 7.1573 - val_acc: 0.2674\n",
      "\n",
      "Epoch 00100: val_acc did not improve from 0.28432\n",
      "Epoch 101/150\n",
      "7155/7155 [==============================] - 72s 10ms/step - loss: 0.0527 - acc: 0.9843 - val_loss: 6.9541 - val_acc: 0.2634\n",
      "\n",
      "Epoch 00101: val_acc did not improve from 0.28432\n",
      "Epoch 102/150\n",
      "7155/7155 [==============================] - 72s 10ms/step - loss: 0.0460 - acc: 0.9860 - val_loss: 7.2492 - val_acc: 0.2566\n",
      "\n",
      "Epoch 00102: val_acc did not improve from 0.28432\n",
      "Epoch 103/150\n",
      "7155/7155 [==============================] - 72s 10ms/step - loss: 0.0510 - acc: 0.9849 - val_loss: 6.9120 - val_acc: 0.2475\n",
      "\n",
      "Epoch 00103: val_acc did not improve from 0.28432\n",
      "Epoch 104/150\n",
      "7155/7155 [==============================] - 72s 10ms/step - loss: 0.0366 - acc: 0.9866 - val_loss: 6.9176 - val_acc: 0.2794\n",
      "\n",
      "Epoch 00104: val_acc did not improve from 0.28432\n",
      "Epoch 105/150\n",
      "7155/7155 [==============================] - 72s 10ms/step - loss: 0.0582 - acc: 0.9824 - val_loss: 7.1579 - val_acc: 0.2436\n",
      "\n",
      "Epoch 00105: val_acc did not improve from 0.28432\n",
      "Epoch 106/150\n",
      "7155/7155 [==============================] - 72s 10ms/step - loss: 0.0884 - acc: 0.9729 - val_loss: 7.2055 - val_acc: 0.2661\n",
      "\n",
      "Epoch 00106: val_acc did not improve from 0.28432\n",
      "Epoch 107/150\n",
      "7155/7155 [==============================] - 72s 10ms/step - loss: 0.0692 - acc: 0.9757 - val_loss: 7.1878 - val_acc: 0.2527\n",
      "\n",
      "Epoch 00107: val_acc did not improve from 0.28432\n",
      "Epoch 108/150\n",
      "7155/7155 [==============================] - 72s 10ms/step - loss: 0.0588 - acc: 0.9803 - val_loss: 7.0716 - val_acc: 0.2586\n",
      "\n",
      "Epoch 00108: val_acc did not improve from 0.28432\n",
      "Epoch 109/150\n",
      "7155/7155 [==============================] - 72s 10ms/step - loss: 0.0504 - acc: 0.9831 - val_loss: 6.7572 - val_acc: 0.2599\n",
      "\n",
      "Epoch 00109: val_acc did not improve from 0.28432\n",
      "Epoch 110/150\n",
      "7155/7155 [==============================] - 72s 10ms/step - loss: 0.0426 - acc: 0.9883 - val_loss: 7.2428 - val_acc: 0.2550\n",
      "\n",
      "Epoch 00110: val_acc did not improve from 0.28432\n",
      "Epoch 111/150\n",
      "7155/7155 [==============================] - 72s 10ms/step - loss: 0.0651 - acc: 0.9804 - val_loss: 7.7281 - val_acc: 0.2393\n",
      "\n",
      "Epoch 00111: val_acc did not improve from 0.28432\n",
      "Epoch 112/150\n",
      "7155/7155 [==============================] - 72s 10ms/step - loss: 0.0556 - acc: 0.9807 - val_loss: 7.0806 - val_acc: 0.2520\n",
      "\n",
      "Epoch 00112: val_acc did not improve from 0.28432\n",
      "Epoch 113/150\n",
      "7155/7155 [==============================] - 72s 10ms/step - loss: 0.0624 - acc: 0.9820 - val_loss: 7.5473 - val_acc: 0.2357\n",
      "\n",
      "Epoch 00113: val_acc did not improve from 0.28432\n",
      "Epoch 114/150\n",
      "7155/7155 [==============================] - 72s 10ms/step - loss: 0.0578 - acc: 0.9824 - val_loss: 7.5681 - val_acc: 0.2475\n",
      "\n",
      "Epoch 00114: val_acc did not improve from 0.28432\n",
      "Epoch 115/150\n",
      "7155/7155 [==============================] - 72s 10ms/step - loss: 0.0482 - acc: 0.9849 - val_loss: 7.0615 - val_acc: 0.2471\n",
      "\n",
      "Epoch 00115: val_acc did not improve from 0.28432\n",
      "Epoch 116/150\n",
      "7155/7155 [==============================] - 72s 10ms/step - loss: 0.0535 - acc: 0.9832 - val_loss: 6.7689 - val_acc: 0.2579\n",
      "\n",
      "Epoch 00116: val_acc did not improve from 0.28432\n",
      "Epoch 117/150\n",
      "7155/7155 [==============================] - 72s 10ms/step - loss: 0.0613 - acc: 0.9817 - val_loss: 7.1447 - val_acc: 0.2579\n",
      "\n",
      "Epoch 00117: val_acc did not improve from 0.28432\n",
      "Epoch 118/150\n",
      "7155/7155 [==============================] - 72s 10ms/step - loss: 0.0562 - acc: 0.9835 - val_loss: 7.2716 - val_acc: 0.2546\n",
      "\n",
      "Epoch 00118: val_acc did not improve from 0.28432\n",
      "Epoch 119/150\n",
      "7155/7155 [==============================] - 72s 10ms/step - loss: 0.0393 - acc: 0.9864 - val_loss: 7.2069 - val_acc: 0.2700\n",
      "\n",
      "Epoch 00119: val_acc did not improve from 0.28432\n",
      "Epoch 120/150\n",
      "7155/7155 [==============================] - 72s 10ms/step - loss: 0.0386 - acc: 0.9878 - val_loss: 7.8124 - val_acc: 0.2367\n",
      "\n",
      "Epoch 00120: val_acc did not improve from 0.28432\n",
      "Epoch 121/150\n",
      "7155/7155 [==============================] - 72s 10ms/step - loss: 0.0664 - acc: 0.9796 - val_loss: 7.4319 - val_acc: 0.2436\n",
      "\n",
      "Epoch 00121: val_acc did not improve from 0.28432\n",
      "Epoch 122/150\n",
      "7155/7155 [==============================] - 72s 10ms/step - loss: 0.0535 - acc: 0.9832 - val_loss: 7.4120 - val_acc: 0.2605\n",
      "\n",
      "Epoch 00122: val_acc did not improve from 0.28432\n",
      "Epoch 123/150\n",
      "7155/7155 [==============================] - 72s 10ms/step - loss: 0.0541 - acc: 0.9825 - val_loss: 7.7069 - val_acc: 0.2403\n",
      "\n",
      "Epoch 00123: val_acc did not improve from 0.28432\n",
      "Epoch 124/150\n",
      "7155/7155 [==============================] - 72s 10ms/step - loss: 0.0527 - acc: 0.9820 - val_loss: 7.4366 - val_acc: 0.2481\n",
      "\n",
      "Epoch 00124: val_acc did not improve from 0.28432\n",
      "Epoch 125/150\n",
      "7155/7155 [==============================] - 72s 10ms/step - loss: 0.0495 - acc: 0.9836 - val_loss: 7.2459 - val_acc: 0.2520\n",
      "\n",
      "Epoch 00125: val_acc did not improve from 0.28432\n",
      "Epoch 126/150\n",
      "7155/7155 [==============================] - 72s 10ms/step - loss: 0.0533 - acc: 0.9848 - val_loss: 7.0572 - val_acc: 0.2788\n",
      "\n",
      "Epoch 00126: val_acc did not improve from 0.28432\n",
      "Epoch 127/150\n",
      "7155/7155 [==============================] - 72s 10ms/step - loss: 0.0662 - acc: 0.9803 - val_loss: 7.7828 - val_acc: 0.2325\n",
      "\n",
      "Epoch 00127: val_acc did not improve from 0.28432\n",
      "Epoch 128/150\n"
     ]
    },
    {
     "name": "stdout",
     "output_type": "stream",
     "text": [
      "7155/7155 [==============================] - 72s 10ms/step - loss: 0.0702 - acc: 0.9800 - val_loss: 6.9786 - val_acc: 0.2739\n",
      "\n",
      "Epoch 00128: val_acc did not improve from 0.28432\n",
      "Epoch 129/150\n",
      "7155/7155 [==============================] - 72s 10ms/step - loss: 0.0606 - acc: 0.9823 - val_loss: 7.3734 - val_acc: 0.2501\n",
      "\n",
      "Epoch 00129: val_acc did not improve from 0.28432\n",
      "Epoch 130/150\n",
      "7155/7155 [==============================] - 72s 10ms/step - loss: 0.0563 - acc: 0.9841 - val_loss: 7.5901 - val_acc: 0.2478\n",
      "\n",
      "Epoch 00130: val_acc did not improve from 0.28432\n",
      "Epoch 131/150\n",
      "7155/7155 [==============================] - 72s 10ms/step - loss: 0.0324 - acc: 0.9898 - val_loss: 6.8032 - val_acc: 0.2657\n",
      "\n",
      "Epoch 00131: val_acc did not improve from 0.28432\n",
      "Epoch 132/150\n",
      "7155/7155 [==============================] - 72s 10ms/step - loss: 0.0431 - acc: 0.9881 - val_loss: 7.3876 - val_acc: 0.2485\n",
      "\n",
      "Epoch 00132: val_acc did not improve from 0.28432\n",
      "Epoch 133/150\n",
      "7155/7155 [==============================] - 72s 10ms/step - loss: 0.0386 - acc: 0.9878 - val_loss: 7.5707 - val_acc: 0.2410\n",
      "\n",
      "Epoch 00133: val_acc did not improve from 0.28432\n",
      "Epoch 134/150\n",
      "7155/7155 [==============================] - 72s 10ms/step - loss: 0.0500 - acc: 0.9845 - val_loss: 7.2224 - val_acc: 0.2556\n",
      "\n",
      "Epoch 00134: val_acc did not improve from 0.28432\n",
      "Epoch 135/150\n",
      "7155/7155 [==============================] - 72s 10ms/step - loss: 0.0680 - acc: 0.9781 - val_loss: 7.0917 - val_acc: 0.2488\n",
      "\n",
      "Epoch 00135: val_acc did not improve from 0.28432\n",
      "Epoch 136/150\n",
      "7155/7155 [==============================] - 72s 10ms/step - loss: 0.0477 - acc: 0.9839 - val_loss: 7.4355 - val_acc: 0.2478\n",
      "\n",
      "Epoch 00136: val_acc did not improve from 0.28432\n",
      "Epoch 137/150\n",
      "7155/7155 [==============================] - 72s 10ms/step - loss: 0.0542 - acc: 0.9849 - val_loss: 7.2551 - val_acc: 0.2618\n",
      "\n",
      "Epoch 00137: val_acc did not improve from 0.28432\n",
      "Epoch 138/150\n",
      "7155/7155 [==============================] - 72s 10ms/step - loss: 0.0455 - acc: 0.9857 - val_loss: 7.3977 - val_acc: 0.2462\n",
      "\n",
      "Epoch 00138: val_acc did not improve from 0.28432\n",
      "Epoch 139/150\n",
      "7155/7155 [==============================] - 72s 10ms/step - loss: 0.0519 - acc: 0.9852 - val_loss: 7.0057 - val_acc: 0.2543\n",
      "\n",
      "Epoch 00139: val_acc did not improve from 0.28432\n",
      "Epoch 140/150\n",
      "7155/7155 [==============================] - 72s 10ms/step - loss: 0.0426 - acc: 0.9867 - val_loss: 7.2642 - val_acc: 0.2573\n",
      "\n",
      "Epoch 00140: val_acc did not improve from 0.28432\n",
      "Epoch 141/150\n",
      "7155/7155 [==============================] - 72s 10ms/step - loss: 0.0373 - acc: 0.9887 - val_loss: 6.9564 - val_acc: 0.2683\n",
      "\n",
      "Epoch 00141: val_acc did not improve from 0.28432\n",
      "Epoch 142/150\n",
      "7155/7155 [==============================] - 72s 10ms/step - loss: 0.0518 - acc: 0.9832 - val_loss: 7.5415 - val_acc: 0.2563\n",
      "\n",
      "Epoch 00142: val_acc did not improve from 0.28432\n",
      "Epoch 143/150\n",
      "7155/7155 [==============================] - 72s 10ms/step - loss: 0.0450 - acc: 0.9846 - val_loss: 8.3979 - val_acc: 0.2220\n",
      "\n",
      "Epoch 00143: val_acc did not improve from 0.28432\n",
      "Epoch 144/150\n",
      "7155/7155 [==============================] - 72s 10ms/step - loss: 0.0394 - acc: 0.9871 - val_loss: 7.3469 - val_acc: 0.2546\n",
      "\n",
      "Epoch 00144: val_acc did not improve from 0.28432\n",
      "Epoch 145/150\n",
      "7155/7155 [==============================] - 72s 10ms/step - loss: 0.0450 - acc: 0.9863 - val_loss: 7.4376 - val_acc: 0.2543\n",
      "\n",
      "Epoch 00145: val_acc did not improve from 0.28432\n",
      "Epoch 146/150\n",
      "7155/7155 [==============================] - 72s 10ms/step - loss: 0.0562 - acc: 0.9818 - val_loss: 7.3698 - val_acc: 0.2485\n",
      "\n",
      "Epoch 00146: val_acc did not improve from 0.28432\n",
      "Epoch 147/150\n",
      "7155/7155 [==============================] - 72s 10ms/step - loss: 0.0356 - acc: 0.9884 - val_loss: 7.4019 - val_acc: 0.2458\n",
      "\n",
      "Epoch 00147: val_acc did not improve from 0.28432\n",
      "Epoch 148/150\n",
      "7155/7155 [==============================] - 72s 10ms/step - loss: 0.0423 - acc: 0.9876 - val_loss: 7.5250 - val_acc: 0.2582\n",
      "\n",
      "Epoch 00148: val_acc did not improve from 0.28432\n",
      "Epoch 149/150\n",
      "7155/7155 [==============================] - 72s 10ms/step - loss: 0.0441 - acc: 0.9860 - val_loss: 7.6187 - val_acc: 0.2406\n",
      "\n",
      "Epoch 00149: val_acc did not improve from 0.28432\n",
      "Epoch 150/150\n",
      "7155/7155 [==============================] - 72s 10ms/step - loss: 0.0558 - acc: 0.9828 - val_loss: 7.2117 - val_acc: 0.2540\n",
      "\n",
      "Epoch 00150: val_acc did not improve from 0.28432\n",
      "10774.815852880478  seconds\n"
     ]
    }
   ],
   "source": [
    "t0=time.time()\n",
    "log3 = model.fit(X_train, Y_train, \n",
    "                 epochs=150,\n",
    "                 callbacks=callbacks_list,\n",
    "                 validation_data=(X_valid, Y_valid), \n",
    "                 verbose=1)\n",
    "t1=time.time()\n",
    "print(t1-t0,\" seconds\")"
   ]
  },
  {
   "cell_type": "code",
   "execution_count": 95,
   "metadata": {},
   "outputs": [
    {
     "data": {
      "image/png": "[encoded data removed]",
      "text/plain": [
       "<Figure size 432x288 with 1 Axes>"
      ]
     },
     "metadata": {},
     "output_type": "display_data"
    }
   ],
   "source": [
    "import matplotlib.pyplot as plt\n",
    "%matplotlib inline\n",
    "plt.plot(log3.history['acc'],'b') \n",
    "plt.plot(log3.history['val_acc'],'r')\n",
    "plt.show()"
   ]
  },
  {
   "cell_type": "code",
   "execution_count": 96,
   "metadata": {},
   "outputs": [
    {
     "name": "stdout",
     "output_type": "stream",
     "text": [
      "Saved model to disk\n"
     ]
    }
   ],
   "source": [
    "# serialize model to JSON\n",
    "# https://machinelearningmastery.com/save-load-keras-deep-learning-models/\n",
    "model_json = model.to_json()\n",
    "with open(\"modelVGGJH_f.json\", \"w\") as json_file:\n",
    "    json_file.write(model_json)\n",
    "print(\"Saved model to disk\")"
   ]
  },
  {
   "cell_type": "markdown",
   "metadata": {},
   "source": [
    "# Model name: \"modelVGGJH_f.json\"\n",
    "# Model Weights: \"JH2_weights.best.hdf5\""
   ]
  },
  {
   "cell_type": "code",
   "execution_count": 100,
   "metadata": {
    "collapsed": true
   },
   "outputs": [],
   "source": [
    "# MLP for Pima Indians Dataset Serialize to JSON and HDF5\n",
    "from keras.models import Sequential\n",
    "from keras.layers import Dense\n",
    "from keras.models import model_from_json\n",
    "import numpy\n",
    "import os\n",
    "# load json and create model\n",
    "json_file = open('modelVGGJH_f.json', 'r')\n",
    "loaded_model_json = json_file.read()\n",
    "json_file.close()"
   ]
  },
  {
   "cell_type": "code",
   "execution_count": 101,
   "metadata": {},
   "outputs": [
    {
     "name": "stdout",
     "output_type": "stream",
     "text": [
      "Loaded model from disk\n"
     ]
    }
   ],
   "source": [
    "loaded_model = model_from_json(loaded_model_json)\n",
    "# load weights into new model\n",
    "loaded_model.load_weights(\"JH2_weights.best.hdf5\")\n",
    "print(\"Loaded model from disk\")"
   ]
  },
  {
   "cell_type": "code",
   "execution_count": 102,
   "metadata": {
    "collapsed": true
   },
   "outputs": [],
   "source": [
    "loaded_model=model"
   ]
  },
  {
   "cell_type": "code",
   "execution_count": 103,
   "metadata": {
    "collapsed": true
   },
   "outputs": [],
   "source": [
    "model.compile(loss='categorical_crossentropy', \n",
    "              optimizer='adam', \n",
    "              metrics=['accuracy'])"
   ]
  },
  {
   "cell_type": "code",
   "execution_count": 104,
   "metadata": {},
   "outputs": [
    {
     "name": "stdout",
     "output_type": "stream",
     "text": [
      "Accuracy: 25.40%\n",
      "CNN Error: 74.60%\n"
     ]
    }
   ],
   "source": [
    "scores = model.evaluate(X_valid, Y_valid, verbose=0)\n",
    "print(\"Accuracy: %.2f%%\" % (scores3[1]*100))\n",
    "print(\"CNN Error: %.2f%%\" % (100-scores3[1]*100))\n"
   ]
  },
  {
   "cell_type": "markdown",
   "metadata": {},
   "source": [
    "# Per-Class Classification Report"
   ]
  },
  {
   "cell_type": "code",
   "execution_count": null,
   "metadata": {
    "collapsed": true
   },
   "outputs": [],
   "source": [
    "from sklearn.metrics import classification_report\n",
    "import numpy as np\n",
    "\n",
    "Y_test = np.argmax(Y_valid, axis=1) # Convert one-hot to index\n",
    "y_pred = model.predict(X_valid)\n"
   ]
  },
  {
   "cell_type": "markdown",
   "metadata": {},
   "source": [
    "# Data augmentation would help us more with this overfitting. In the future I will further look into that path"
   ]
  },
  {
   "cell_type": "code",
   "execution_count": 114,
   "metadata": {},
   "outputs": [
    {
     "name": "stdout",
     "output_type": "stream",
     "text": [
      "10357/10357 [==============================] - 61s 6ms/step\n"
     ]
    }
   ],
   "source": [
    "preds = model.predict(x_test, verbose=1)"
   ]
  },
  {
   "cell_type": "code",
   "execution_count": 131,
   "metadata": {},
   "outputs": [
    {
     "data": {
      "text/html": [
       "<div>\n",
       "<style scoped>\n",
       "    .dataframe tbody tr th:only-of-type {\n",
       "        vertical-align: middle;\n",
       "    }\n",
       "\n",
       "    .dataframe tbody tr th {\n",
       "        vertical-align: top;\n",
       "    }\n",
       "\n",
       "    .dataframe thead th {\n",
       "        text-align: right;\n",
       "    }\n",
       "</style>\n",
       "<table border=\"1\" class=\"dataframe\">\n",
       "  <thead>\n",
       "    <tr style=\"text-align: right;\">\n",
       "      <th></th>\n",
       "      <th>id</th>\n",
       "      <th>affenpinscher</th>\n",
       "      <th>afghan_hound</th>\n",
       "      <th>african_hunting_dog</th>\n",
       "      <th>airedale</th>\n",
       "      <th>american_staffordshire_terrier</th>\n",
       "      <th>appenzeller</th>\n",
       "      <th>australian_terrier</th>\n",
       "      <th>basenji</th>\n",
       "      <th>basset</th>\n",
       "      <th>...</th>\n",
       "      <th>toy_poodle</th>\n",
       "      <th>toy_terrier</th>\n",
       "      <th>vizsla</th>\n",
       "      <th>walker_hound</th>\n",
       "      <th>weimaraner</th>\n",
       "      <th>welsh_springer_spaniel</th>\n",
       "      <th>west_highland_white_terrier</th>\n",
       "      <th>whippet</th>\n",
       "      <th>wire-haired_fox_terrier</th>\n",
       "      <th>yorkshire_terrier</th>\n",
       "    </tr>\n",
       "  </thead>\n",
       "  <tbody>\n",
       "    <tr>\n",
       "      <th>0</th>\n",
       "      <td>000621fb3cbb32d8935728e48679680e</td>\n",
       "      <td>2.881818e-16</td>\n",
       "      <td>2.908174e-08</td>\n",
       "      <td>1.485948e-15</td>\n",
       "      <td>5.260022e-26</td>\n",
       "      <td>1.312033e-18</td>\n",
       "      <td>7.904721e-20</td>\n",
       "      <td>1.966133e-19</td>\n",
       "      <td>1.035951e-15</td>\n",
       "      <td>1.714397e-06</td>\n",
       "      <td>...</td>\n",
       "      <td>1.835488e-16</td>\n",
       "      <td>7.433293e-13</td>\n",
       "      <td>6.715178e-09</td>\n",
       "      <td>1.387655e-12</td>\n",
       "      <td>1.615858e-11</td>\n",
       "      <td>1.703199e-12</td>\n",
       "      <td>1.428662e-16</td>\n",
       "      <td>2.761828e-13</td>\n",
       "      <td>5.402162e-20</td>\n",
       "      <td>8.985655e-14</td>\n",
       "    </tr>\n",
       "    <tr>\n",
       "      <th>1</th>\n",
       "      <td>00102ee9d8eb90812350685311fe5890</td>\n",
       "      <td>5.471807e-20</td>\n",
       "      <td>8.622066e-27</td>\n",
       "      <td>2.167321e-20</td>\n",
       "      <td>4.712811e-31</td>\n",
       "      <td>3.252753e-27</td>\n",
       "      <td>6.964546e-25</td>\n",
       "      <td>1.497292e-25</td>\n",
       "      <td>1.874541e-16</td>\n",
       "      <td>8.246404e-26</td>\n",
       "      <td>...</td>\n",
       "      <td>3.175559e-21</td>\n",
       "      <td>2.045968e-12</td>\n",
       "      <td>1.412971e-24</td>\n",
       "      <td>7.501035e-30</td>\n",
       "      <td>3.237801e-25</td>\n",
       "      <td>3.618380e-36</td>\n",
       "      <td>1.769004e-19</td>\n",
       "      <td>6.582500e-22</td>\n",
       "      <td>6.630120e-25</td>\n",
       "      <td>3.445946e-28</td>\n",
       "    </tr>\n",
       "    <tr>\n",
       "      <th>2</th>\n",
       "      <td>0012a730dfa437f5f3613fb75efcd4ce</td>\n",
       "      <td>7.951010e-12</td>\n",
       "      <td>9.640616e-01</td>\n",
       "      <td>1.256216e-18</td>\n",
       "      <td>9.964610e-15</td>\n",
       "      <td>8.002052e-16</td>\n",
       "      <td>2.294173e-25</td>\n",
       "      <td>7.634658e-14</td>\n",
       "      <td>9.093982e-15</td>\n",
       "      <td>5.708836e-20</td>\n",
       "      <td>...</td>\n",
       "      <td>2.025825e-14</td>\n",
       "      <td>6.476934e-20</td>\n",
       "      <td>1.358308e-12</td>\n",
       "      <td>1.647347e-16</td>\n",
       "      <td>3.798201e-12</td>\n",
       "      <td>7.184224e-15</td>\n",
       "      <td>7.401529e-14</td>\n",
       "      <td>8.591923e-17</td>\n",
       "      <td>1.825602e-07</td>\n",
       "      <td>4.933122e-15</td>\n",
       "    </tr>\n",
       "    <tr>\n",
       "      <th>3</th>\n",
       "      <td>001510bc8570bbeee98c8d80c8a95ec1</td>\n",
       "      <td>1.456681e-10</td>\n",
       "      <td>4.009769e-06</td>\n",
       "      <td>1.768721e-12</td>\n",
       "      <td>5.467740e-12</td>\n",
       "      <td>7.499619e-08</td>\n",
       "      <td>4.626663e-18</td>\n",
       "      <td>8.390158e-16</td>\n",
       "      <td>1.537492e-04</td>\n",
       "      <td>7.523833e-08</td>\n",
       "      <td>...</td>\n",
       "      <td>4.152906e-09</td>\n",
       "      <td>5.165719e-11</td>\n",
       "      <td>5.565976e-05</td>\n",
       "      <td>3.105618e-08</td>\n",
       "      <td>2.574121e-05</td>\n",
       "      <td>3.486394e-13</td>\n",
       "      <td>2.834392e-13</td>\n",
       "      <td>3.544496e-06</td>\n",
       "      <td>8.353056e-11</td>\n",
       "      <td>3.038352e-10</td>\n",
       "    </tr>\n",
       "    <tr>\n",
       "      <th>4</th>\n",
       "      <td>001a5f3114548acdefa3d4da05474c2e</td>\n",
       "      <td>2.913965e-04</td>\n",
       "      <td>3.322342e-09</td>\n",
       "      <td>6.447556e-08</td>\n",
       "      <td>2.621117e-15</td>\n",
       "      <td>1.625657e-24</td>\n",
       "      <td>1.105635e-09</td>\n",
       "      <td>1.461371e-07</td>\n",
       "      <td>6.597204e-24</td>\n",
       "      <td>1.068852e-16</td>\n",
       "      <td>...</td>\n",
       "      <td>3.059969e-15</td>\n",
       "      <td>1.321735e-17</td>\n",
       "      <td>8.410933e-22</td>\n",
       "      <td>2.349734e-22</td>\n",
       "      <td>3.284758e-16</td>\n",
       "      <td>1.213148e-11</td>\n",
       "      <td>6.294596e-15</td>\n",
       "      <td>1.055343e-19</td>\n",
       "      <td>5.223358e-17</td>\n",
       "      <td>2.032516e-12</td>\n",
       "    </tr>\n",
       "  </tbody>\n",
       "</table>\n",
       "<p>5 rows × 121 columns</p>\n",
       "</div>"
      ],
      "text/plain": [
       "                                 id  affenpinscher  afghan_hound  \\\n",
       "0  000621fb3cbb32d8935728e48679680e   2.881818e-16  2.908174e-08   \n",
       "1  00102ee9d8eb90812350685311fe5890   5.471807e-20  8.622066e-27   \n",
       "2  0012a730dfa437f5f3613fb75efcd4ce   7.951010e-12  9.640616e-01   \n",
       "3  001510bc8570bbeee98c8d80c8a95ec1   1.456681e-10  4.009769e-06   \n",
       "4  001a5f3114548acdefa3d4da05474c2e   2.913965e-04  3.322342e-09   \n",
       "\n",
       "   african_hunting_dog      airedale  american_staffordshire_terrier  \\\n",
       "0         1.485948e-15  5.260022e-26                    1.312033e-18   \n",
       "1         2.167321e-20  4.712811e-31                    3.252753e-27   \n",
       "2         1.256216e-18  9.964610e-15                    8.002052e-16   \n",
       "3         1.768721e-12  5.467740e-12                    7.499619e-08   \n",
       "4         6.447556e-08  2.621117e-15                    1.625657e-24   \n",
       "\n",
       "    appenzeller  australian_terrier       basenji        basset  \\\n",
       "0  7.904721e-20        1.966133e-19  1.035951e-15  1.714397e-06   \n",
       "1  6.964546e-25        1.497292e-25  1.874541e-16  8.246404e-26   \n",
       "2  2.294173e-25        7.634658e-14  9.093982e-15  5.708836e-20   \n",
       "3  4.626663e-18        8.390158e-16  1.537492e-04  7.523833e-08   \n",
       "4  1.105635e-09        1.461371e-07  6.597204e-24  1.068852e-16   \n",
       "\n",
       "         ...            toy_poodle   toy_terrier        vizsla  walker_hound  \\\n",
       "0        ...          1.835488e-16  7.433293e-13  6.715178e-09  1.387655e-12   \n",
       "1        ...          3.175559e-21  2.045968e-12  1.412971e-24  7.501035e-30   \n",
       "2        ...          2.025825e-14  6.476934e-20  1.358308e-12  1.647347e-16   \n",
       "3        ...          4.152906e-09  5.165719e-11  5.565976e-05  3.105618e-08   \n",
       "4        ...          3.059969e-15  1.321735e-17  8.410933e-22  2.349734e-22   \n",
       "\n",
       "     weimaraner  welsh_springer_spaniel  west_highland_white_terrier  \\\n",
       "0  1.615858e-11            1.703199e-12                 1.428662e-16   \n",
       "1  3.237801e-25            3.618380e-36                 1.769004e-19   \n",
       "2  3.798201e-12            7.184224e-15                 7.401529e-14   \n",
       "3  2.574121e-05            3.486394e-13                 2.834392e-13   \n",
       "4  3.284758e-16            1.213148e-11                 6.294596e-15   \n",
       "\n",
       "        whippet  wire-haired_fox_terrier  yorkshire_terrier  \n",
       "0  2.761828e-13             5.402162e-20       8.985655e-14  \n",
       "1  6.582500e-22             6.630120e-25       3.445946e-28  \n",
       "2  8.591923e-17             1.825602e-07       4.933122e-15  \n",
       "3  3.544496e-06             8.353056e-11       3.038352e-10  \n",
       "4  1.055343e-19             5.223358e-17       2.032516e-12  \n",
       "\n",
       "[5 rows x 121 columns]"
      ]
     },
     "execution_count": 131,
     "metadata": {},
     "output_type": "execute_result"
    }
   ],
   "source": [
    "sub = pd.DataFrame(preds)\n",
    "# Set column names to those generated by the one-hot encoding earlier\n",
    "col_names = one_hot.columns.values\n",
    "sub.columns = col_names\n",
    "# Insert the column id from the sample_submission at the start of the data frame\n",
    "sub.insert(0, 'id', df_test['id'])\n",
    "sub.head(5)"
   ]
  },
  {
   "cell_type": "code",
   "execution_count": 130,
   "metadata": {},
   "outputs": [
    {
     "data": {
      "text/html": [
       "<div>\n",
       "<style scoped>\n",
       "    .dataframe tbody tr th:only-of-type {\n",
       "        vertical-align: middle;\n",
       "    }\n",
       "\n",
       "    .dataframe tbody tr th {\n",
       "        vertical-align: top;\n",
       "    }\n",
       "\n",
       "    .dataframe thead th {\n",
       "        text-align: right;\n",
       "    }\n",
       "</style>\n",
       "<table border=\"1\" class=\"dataframe\">\n",
       "  <thead>\n",
       "    <tr style=\"text-align: right;\">\n",
       "      <th></th>\n",
       "      <th>id</th>\n",
       "      <th>affenpinscher</th>\n",
       "      <th>afghan_hound</th>\n",
       "      <th>african_hunting_dog</th>\n",
       "      <th>airedale</th>\n",
       "      <th>american_staffordshire_terrier</th>\n",
       "      <th>appenzeller</th>\n",
       "      <th>australian_terrier</th>\n",
       "      <th>basenji</th>\n",
       "      <th>basset</th>\n",
       "      <th>...</th>\n",
       "      <th>toy_poodle</th>\n",
       "      <th>toy_terrier</th>\n",
       "      <th>vizsla</th>\n",
       "      <th>walker_hound</th>\n",
       "      <th>weimaraner</th>\n",
       "      <th>welsh_springer_spaniel</th>\n",
       "      <th>west_highland_white_terrier</th>\n",
       "      <th>whippet</th>\n",
       "      <th>wire-haired_fox_terrier</th>\n",
       "      <th>yorkshire_terrier</th>\n",
       "    </tr>\n",
       "  </thead>\n",
       "  <tbody>\n",
       "    <tr>\n",
       "      <th>0</th>\n",
       "      <td>000621fb3cbb32d8935728e48679680e</td>\n",
       "      <td>2.881818e-16</td>\n",
       "      <td>2.908174e-08</td>\n",
       "      <td>1.485948e-15</td>\n",
       "      <td>5.260022e-26</td>\n",
       "      <td>1.312033e-18</td>\n",
       "      <td>7.904721e-20</td>\n",
       "      <td>1.966133e-19</td>\n",
       "      <td>1.035951e-15</td>\n",
       "      <td>1.714397e-06</td>\n",
       "      <td>...</td>\n",
       "      <td>1.835488e-16</td>\n",
       "      <td>7.433293e-13</td>\n",
       "      <td>6.715178e-09</td>\n",
       "      <td>1.387655e-12</td>\n",
       "      <td>1.615858e-11</td>\n",
       "      <td>1.703199e-12</td>\n",
       "      <td>1.428662e-16</td>\n",
       "      <td>2.761828e-13</td>\n",
       "      <td>5.402162e-20</td>\n",
       "      <td>8.985655e-14</td>\n",
       "    </tr>\n",
       "    <tr>\n",
       "      <th>1</th>\n",
       "      <td>00102ee9d8eb90812350685311fe5890</td>\n",
       "      <td>5.471807e-20</td>\n",
       "      <td>8.622066e-27</td>\n",
       "      <td>2.167321e-20</td>\n",
       "      <td>4.712811e-31</td>\n",
       "      <td>3.252753e-27</td>\n",
       "      <td>6.964546e-25</td>\n",
       "      <td>1.497292e-25</td>\n",
       "      <td>1.874541e-16</td>\n",
       "      <td>8.246404e-26</td>\n",
       "      <td>...</td>\n",
       "      <td>3.175559e-21</td>\n",
       "      <td>2.045968e-12</td>\n",
       "      <td>1.412971e-24</td>\n",
       "      <td>7.501035e-30</td>\n",
       "      <td>3.237801e-25</td>\n",
       "      <td>3.618380e-36</td>\n",
       "      <td>1.769004e-19</td>\n",
       "      <td>6.582500e-22</td>\n",
       "      <td>6.630120e-25</td>\n",
       "      <td>3.445946e-28</td>\n",
       "    </tr>\n",
       "    <tr>\n",
       "      <th>2</th>\n",
       "      <td>0012a730dfa437f5f3613fb75efcd4ce</td>\n",
       "      <td>7.951010e-12</td>\n",
       "      <td>9.640616e-01</td>\n",
       "      <td>1.256216e-18</td>\n",
       "      <td>9.964610e-15</td>\n",
       "      <td>8.002052e-16</td>\n",
       "      <td>2.294173e-25</td>\n",
       "      <td>7.634658e-14</td>\n",
       "      <td>9.093982e-15</td>\n",
       "      <td>5.708836e-20</td>\n",
       "      <td>...</td>\n",
       "      <td>2.025825e-14</td>\n",
       "      <td>6.476934e-20</td>\n",
       "      <td>1.358308e-12</td>\n",
       "      <td>1.647347e-16</td>\n",
       "      <td>3.798201e-12</td>\n",
       "      <td>7.184224e-15</td>\n",
       "      <td>7.401529e-14</td>\n",
       "      <td>8.591923e-17</td>\n",
       "      <td>1.825602e-07</td>\n",
       "      <td>4.933122e-15</td>\n",
       "    </tr>\n",
       "    <tr>\n",
       "      <th>3</th>\n",
       "      <td>001510bc8570bbeee98c8d80c8a95ec1</td>\n",
       "      <td>1.456681e-10</td>\n",
       "      <td>4.009769e-06</td>\n",
       "      <td>1.768721e-12</td>\n",
       "      <td>5.467740e-12</td>\n",
       "      <td>7.499619e-08</td>\n",
       "      <td>4.626663e-18</td>\n",
       "      <td>8.390158e-16</td>\n",
       "      <td>1.537492e-04</td>\n",
       "      <td>7.523833e-08</td>\n",
       "      <td>...</td>\n",
       "      <td>4.152906e-09</td>\n",
       "      <td>5.165719e-11</td>\n",
       "      <td>5.565976e-05</td>\n",
       "      <td>3.105618e-08</td>\n",
       "      <td>2.574121e-05</td>\n",
       "      <td>3.486394e-13</td>\n",
       "      <td>2.834392e-13</td>\n",
       "      <td>3.544496e-06</td>\n",
       "      <td>8.353056e-11</td>\n",
       "      <td>3.038352e-10</td>\n",
       "    </tr>\n",
       "    <tr>\n",
       "      <th>4</th>\n",
       "      <td>001a5f3114548acdefa3d4da05474c2e</td>\n",
       "      <td>2.913965e-04</td>\n",
       "      <td>3.322342e-09</td>\n",
       "      <td>6.447556e-08</td>\n",
       "      <td>2.621117e-15</td>\n",
       "      <td>1.625657e-24</td>\n",
       "      <td>1.105635e-09</td>\n",
       "      <td>1.461371e-07</td>\n",
       "      <td>6.597204e-24</td>\n",
       "      <td>1.068852e-16</td>\n",
       "      <td>...</td>\n",
       "      <td>3.059969e-15</td>\n",
       "      <td>1.321735e-17</td>\n",
       "      <td>8.410933e-22</td>\n",
       "      <td>2.349734e-22</td>\n",
       "      <td>3.284758e-16</td>\n",
       "      <td>1.213148e-11</td>\n",
       "      <td>6.294596e-15</td>\n",
       "      <td>1.055343e-19</td>\n",
       "      <td>5.223358e-17</td>\n",
       "      <td>2.032516e-12</td>\n",
       "    </tr>\n",
       "  </tbody>\n",
       "</table>\n",
       "<p>5 rows × 121 columns</p>\n",
       "</div>"
      ],
      "text/plain": [
       "                                 id  affenpinscher  afghan_hound  \\\n",
       "0  000621fb3cbb32d8935728e48679680e   2.881818e-16  2.908174e-08   \n",
       "1  00102ee9d8eb90812350685311fe5890   5.471807e-20  8.622066e-27   \n",
       "2  0012a730dfa437f5f3613fb75efcd4ce   7.951010e-12  9.640616e-01   \n",
       "3  001510bc8570bbeee98c8d80c8a95ec1   1.456681e-10  4.009769e-06   \n",
       "4  001a5f3114548acdefa3d4da05474c2e   2.913965e-04  3.322342e-09   \n",
       "\n",
       "   african_hunting_dog      airedale  american_staffordshire_terrier  \\\n",
       "0         1.485948e-15  5.260022e-26                    1.312033e-18   \n",
       "1         2.167321e-20  4.712811e-31                    3.252753e-27   \n",
       "2         1.256216e-18  9.964610e-15                    8.002052e-16   \n",
       "3         1.768721e-12  5.467740e-12                    7.499619e-08   \n",
       "4         6.447556e-08  2.621117e-15                    1.625657e-24   \n",
       "\n",
       "    appenzeller  australian_terrier       basenji        basset  \\\n",
       "0  7.904721e-20        1.966133e-19  1.035951e-15  1.714397e-06   \n",
       "1  6.964546e-25        1.497292e-25  1.874541e-16  8.246404e-26   \n",
       "2  2.294173e-25        7.634658e-14  9.093982e-15  5.708836e-20   \n",
       "3  4.626663e-18        8.390158e-16  1.537492e-04  7.523833e-08   \n",
       "4  1.105635e-09        1.461371e-07  6.597204e-24  1.068852e-16   \n",
       "\n",
       "         ...            toy_poodle   toy_terrier        vizsla  walker_hound  \\\n",
       "0        ...          1.835488e-16  7.433293e-13  6.715178e-09  1.387655e-12   \n",
       "1        ...          3.175559e-21  2.045968e-12  1.412971e-24  7.501035e-30   \n",
       "2        ...          2.025825e-14  6.476934e-20  1.358308e-12  1.647347e-16   \n",
       "3        ...          4.152906e-09  5.165719e-11  5.565976e-05  3.105618e-08   \n",
       "4        ...          3.059969e-15  1.321735e-17  8.410933e-22  2.349734e-22   \n",
       "\n",
       "     weimaraner  welsh_springer_spaniel  west_highland_white_terrier  \\\n",
       "0  1.615858e-11            1.703199e-12                 1.428662e-16   \n",
       "1  3.237801e-25            3.618380e-36                 1.769004e-19   \n",
       "2  3.798201e-12            7.184224e-15                 7.401529e-14   \n",
       "3  2.574121e-05            3.486394e-13                 2.834392e-13   \n",
       "4  3.284758e-16            1.213148e-11                 6.294596e-15   \n",
       "\n",
       "        whippet  wire-haired_fox_terrier  yorkshire_terrier  \n",
       "0  2.761828e-13             5.402162e-20       8.985655e-14  \n",
       "1  6.582500e-22             6.630120e-25       3.445946e-28  \n",
       "2  8.591923e-17             1.825602e-07       4.933122e-15  \n",
       "3  3.544496e-06             8.353056e-11       3.038352e-10  \n",
       "4  1.055343e-19             5.223358e-17       2.032516e-12  \n",
       "\n",
       "[5 rows x 121 columns]"
      ]
     },
     "execution_count": 130,
     "metadata": {},
     "output_type": "execute_result"
    }
   ],
   "source": [
    "sub.head(5)"
   ]
  },
  {
   "cell_type": "code",
   "execution_count": 132,
   "metadata": {
    "collapsed": true
   },
   "outputs": [],
   "source": [
    "sub.to_csv('JHSub.csv', index = False)"
   ]
  },
  {
   "cell_type": "code",
   "execution_count": 116,
   "metadata": {
    "collapsed": true
   },
   "outputs": [],
   "source": [
    "float_formatter = lambda x: \"%.2f\" % x"
   ]
  },
  {
   "cell_type": "code",
   "execution_count": 120,
   "metadata": {},
   "outputs": [
    {
     "name": "stdout",
     "output_type": "stream",
     "text": [
      "(10357, 120)\n"
     ]
    }
   ],
   "source": [
    "print(preds.shape)"
   ]
  },
  {
   "cell_type": "code",
   "execution_count": null,
   "metadata": {
    "collapsed": true
   },
   "outputs": [],
   "source": []
  }
 ],
 "metadata": {
  "kernelspec": {
   "display_name": "Python 3",
   "language": "python",
   "name": "python3"
  },
  "language_info": {
   "codemirror_mode": {
    "name": "ipython",
    "version": 3
   },
   "file_extension": ".py",
   "mimetype": "text/x-python",
   "name": "python",
   "nbconvert_exporter": "python",
   "pygments_lexer": "ipython3",
   "version": "3.6.1"
  }
 },
 "nbformat": 4,
 "nbformat_minor": 2
}
