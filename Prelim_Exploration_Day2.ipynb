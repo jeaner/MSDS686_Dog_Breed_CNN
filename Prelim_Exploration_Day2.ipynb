{
 "cells": [
  {
   "cell_type": "code",
   "execution_count": 1,
   "metadata": {
    "colab": {
     "autoexec": {
      "startup": false,
      "wait_interval": 0
     }
    },
    "colab_type": "code",
    "id": "znDe_7gO_Z4G",
    "scrolled": true
   },
   "outputs": [
    {
     "name": "stderr",
     "output_type": "stream",
     "text": [
      "/usr/local/lib/python3.6/dist-packages/h5py/__init__.py:36: FutureWarning: Conversion of the second argument of issubdtype from `float` to `np.floating` is deprecated. In future, it will be treated as `np.float64 == np.dtype(float).type`.\n",
      "  from ._conv import register_converters as _register_converters\n",
      "Using TensorFlow backend.\n"
     ]
    }
   ],
   "source": [
    "%matplotlib inline\n",
    "import numpy as np\n",
    "import pandas as pd\n",
    "import datetime as dt\n",
    "import matplotlib.pyplot as plt\n",
    "from mpl_toolkits.axes_grid1 import ImageGrid\n",
    "from os import listdir, makedirs\n",
    "from os.path import join, exists, expanduser\n",
    "from tqdm import tqdm\n",
    "from sklearn.metrics import log_loss, accuracy_score\n",
    "from keras.preprocessing import image\n",
    "from keras.applications.vgg16 import VGG16\n",
    "from keras.applications.resnet50 import ResNet50\n",
    "from keras.applications import xception\n",
    "from keras.applications import inception_v3\n",
    "from keras.applications.vgg16 import preprocess_input, decode_predictions\n",
    "from sklearn.linear_model import LogisticRegression"
   ]
  },
  {
   "cell_type": "code",
   "execution_count": 2,
   "metadata": {
    "colab": {
     "autoexec": {
      "startup": false,
      "wait_interval": 0
     },
     "base_uri": "https://localhost:8080/",
     "height": 34
    },
    "colab_type": "code",
    "executionInfo": {
     "elapsed": 296,
     "status": "ok",
     "timestamp": 1524714609596,
     "user": {
      "displayName": "Jean Henry",
      "photoUrl": "https://lh3.googleusercontent.com/a/default-user=s128",
      "userId": "106988864916439513838"
     },
     "user_tz": 360
    },
    "id": "od8qnOS__Z6z",
    "outputId": "4ac03303-5a95-48bb-8358-0ff0c76763a6",
    "scrolled": true
   },
   "outputs": [
    {
     "name": "stdout",
     "output_type": "stream",
     "text": [
      "10222 10222\n",
      "10358 10357\n"
     ]
    }
   ],
   "source": [
    "INPUT_SIZE = 224\n",
    "NUM_CLASSES = 120\n",
    "SEED = 1987\n",
    "data_dir = 'dog-breed-identification'\n",
    "labels = pd.read_csv(join(data_dir, 'labels.csv'))\n",
    "sample_submission = pd.read_csv(join(data_dir, 'sample_submission.csv'))\n",
    "print(len(listdir(join(data_dir, 'train'))), len(labels))\n",
    "print(len(listdir(join(data_dir, 'test'))), len(sample_submission))\n"
   ]
  },
  {
   "cell_type": "code",
   "execution_count": null,
   "metadata": {
    "collapsed": true
   },
   "outputs": [],
   "source": [
    "# preparing the train dataset\n",
    "\n",
    "train_img=[]\n",
    "for i in range(len(train)):\n",
    "    temp_img=image.load_img(data_dir+train['filename'][i],target_size=(224,224))\n",
    "    temp_img=image.img_to_array(temp_img)\n",
    "    train_img.append(temp_img)\n",
    "\n",
    "#converting train images to array and applying mean subtraction processing\n",
    "train_img=np.array(train_img) \n",
    "train_img=preprocess_input(train_img)\n",
    "# applying the same procedure with the test dataset\n",
    "\n",
    "test_img=[]\n",
    "for i in range(len(test)):\n",
    "    temp_img=image.load_img(data_dir+test['filename'][i],target_size=(224,224))\n",
    "    temp_img=image.img_to_array(temp_img)\n",
    "    test_img.append(temp_img)\n",
    "\n",
    "test_img=np.array(test_img) \n",
    "test_img=preprocess_input(test_img)"
   ]
  },
  {
   "cell_type": "code",
   "execution_count": 3,
   "metadata": {
    "colab": {
     "autoexec": {
      "startup": false,
      "wait_interval": 0
     },
     "base_uri": "https://localhost:8080/",
     "height": 34
    },
    "colab_type": "code",
    "executionInfo": {
     "elapsed": 546,
     "status": "ok",
     "timestamp": 1524714613513,
     "user": {
      "displayName": "Jean Henry",
      "photoUrl": "https://lh3.googleusercontent.com/a/default-user=s128",
      "userId": "106988864916439513838"
     },
     "user_tz": 360
    },
    "id": "fLx62E-H-m9I",
    "outputId": "38ba2c8c-a9bd-45f7-cd51-db65f46d40c0",
    "scrolled": true
   },
   "outputs": [
    {
     "name": "stdout",
     "output_type": "stream",
     "text": [
      "(10222, 120)\n"
     ]
    }
   ],
   "source": [
    "selected_breed_list = list(labels.groupby('breed').count().sort_values(by='id', ascending=False).head(NUM_CLASSES).index)\n",
    "labels = labels[labels['breed'].isin(selected_breed_list)]\n",
    "labels['target'] = 1\n",
    "labels['rank'] = labels.groupby('breed').rank()['id']\n",
    "labels_pivot = labels.pivot('id', 'breed', 'target').reset_index().fillna(0)\n",
    "np.random.seed(seed=SEED)\n",
    "rnd = np.random.random(len(labels))\n",
    "train_idx = rnd < 0.8\n",
    "valid_idx = rnd >= 0.8\n",
    "y_train = labels_pivot[selected_breed_list].values\n",
    "ytr = y_train[train_idx]\n",
    "yv = y_train[valid_idx]\n",
    "print(y_train.shape)"
   ]
  },
  {
   "cell_type": "code",
   "execution_count": 4,
   "metadata": {
    "collapsed": true
   },
   "outputs": [],
   "source": [
    "Y_train = ytr\n",
    "Y_valid = yv"
   ]
  },
  {
   "cell_type": "code",
   "execution_count": 6,
   "metadata": {
    "colab": {
     "autoexec": {
      "startup": false,
      "wait_interval": 0
     }
    },
    "colab_type": "code",
    "collapsed": true,
    "id": "T7freYhj-m_5",
    "scrolled": true
   },
   "outputs": [],
   "source": [
    "def read_img(img_id, train_or_test, size):\n",
    "\n",
    "    img = image.load_img(join(data_dir, train_or_test, '%s.jpg' % img_id), target_size=size)\n",
    "    img = image.img_to_array(img)\n",
    "    return img"
   ]
  },
  {
   "cell_type": "code",
   "execution_count": null,
   "metadata": {
    "colab": {
     "autoexec": {
      "startup": false,
      "wait_interval": 0
     },
     "base_uri": "https://localhost:8080/",
     "height": 941
    },
    "colab_type": "code",
    "executionInfo": {
     "elapsed": 21122,
     "status": "ok",
     "timestamp": 1524714671420,
     "user": {
      "displayName": "Jean Henry",
      "photoUrl": "https://lh3.googleusercontent.com/a/default-user=s128",
      "userId": "106988864916439513838"
     },
     "user_tz": 360
    },
    "id": "3fRHScll-nCa",
    "outputId": "84a4182f-4377-41e3-cba9-e55762b4d52f",
    "scrolled": true
   },
   "outputs": [],
   "source": [
    "#test on ResNet make sure everything is loading right\n",
    "model = VGG16(weights='imagenet', include_top=False)\n",
    "j = int(np.sqrt(NUM_CLASSES))\n",
    "i = int(np.ceil(1. * NUM_CLASSES / j))\n",
    "fig = plt.figure(1, figsize=(16, 16))\n",
    "grid = ImageGrid(fig, 111, nrows_ncols=(i, j), axes_pad=0.05)\n",
    "for i, (img_id, breed) in enumerate(labels.loc[labels['rank'] == 1, ['id', 'breed']].values):\n",
    "    ax = grid[i]\n",
    "    img = read_img(img_id, 'train', (224, 224))\n",
    "    ax.imshow(img / 255.)\n",
    "    x = preprocess_input(np.expand_dims(img.copy(), axis=0))\n",
    "    preds = model.predict(x)\n",
    "    _, imagenet_class_name, prob = decode_predictions(preds, top=1)[0][0]\n",
    "    ax.text(10, 180, 'ResNet50: %s (%.2f)' % (imagenet_class_name , prob), color='w', backgroundcolor='k', alpha=0.8)\n",
    "    ax.text(10, 200, 'LABEL: %s' % breed, color='k', backgroundcolor='w', alpha=0.8)\n",
    "    ax.axis('off')\n",
    "plt.show()"
   ]
  },
  {
   "cell_type": "code",
   "execution_count": 12,
   "metadata": {
    "colab": {
     "autoexec": {
      "startup": false,
      "wait_interval": 0
     },
     "base_uri": "https://localhost:8080/",
     "height": 51
    },
    "colab_type": "code",
    "collapsed": true,
    "executionInfo": {
     "elapsed": 6837,
     "status": "ok",
     "timestamp": 1524718469190,
     "user": {
      "displayName": "Jean Henry",
      "photoUrl": "https://lh3.googleusercontent.com/a/default-user=s128",
      "userId": "106988864916439513838"
     },
     "user_tz": 360
    },
    "id": "m8CxdVgu-nKw",
    "outputId": "a68d09a1-2083-41ef-a603-f53d4aa666fb",
    "scrolled": true
   },
   "outputs": [
    {
     "name": "stderr",
     "output_type": "stream",
     "text": [
      "10222it [03:02, 56.16it/s]"
     ]
    },
    {
     "name": "stdout",
     "output_type": "stream",
     "text": [
      "Train Images shape: (10222, 125, 125, 3) size: 479,156,250\n"
     ]
    },
    {
     "name": "stderr",
     "output_type": "stream",
     "text": [
      "\n"
     ]
    }
   ],
   "source": [
    "INPUT_SIZE = 224\n",
    "POOLING = 'avg'\n",
    "x_train = np.zeros((len(labels), INPUT_SIZE, INPUT_SIZE, 3), dtype='float32')\n",
    "for i, img_id in tqdm(enumerate(labels['id'])):\n",
    "    img = read_img(img_id, 'train', (INPUT_SIZE, INPUT_SIZE))\n",
    "    x = preprocess_input(np.expand_dims(img.copy(), axis=0))\n",
    "    x_train[i] = x\n",
    "print('Train Images shape: {} size: {:,}'.format(x_train.shape, x_train.size))"
   ]
  },
  {
   "cell_type": "code",
   "execution_count": 50,
   "metadata": {
    "colab": {
     "autoexec": {
      "startup": false,
      "wait_interval": 0
     },
     "base_uri": "https://localhost:8080/",
     "height": 34
    },
    "colab_type": "code",
    "collapsed": true,
    "executionInfo": {
     "elapsed": 309,
     "status": "ok",
     "timestamp": 1524718469678,
     "user": {
      "displayName": "Jean Henry",
      "photoUrl": "https://lh3.googleusercontent.com/a/default-user=s128",
      "userId": "106988864916439513838"
     },
     "user_tz": 360
    },
    "id": "TBIUStjv-nNs",
    "outputId": "1c346dec-1390-4594-80d4-c015946c2a9c",
    "scrolled": true
   },
   "outputs": [
    {
     "name": "stdout",
     "output_type": "stream",
     "text": [
      "((8140, 125, 125, 3), (2082, 125, 125, 3), (8140, 120), (2082, 120))\n"
     ]
    }
   ],
   "source": [
    "Xtr = x_train[train_idx]\n",
    "Xv = x_train[valid_idx]\n",
    "print((Xtr.shape, Xv.shape, ytr.shape, yv.shape))"
   ]
  },
  {
   "cell_type": "code",
   "execution_count": 14,
   "metadata": {
    "colab": {
     "autoexec": {
      "startup": false,
      "wait_interval": 0
     }
    },
    "colab_type": "code",
    "collapsed": true,
    "id": "X-d9kPnpKU4m",
    "scrolled": true
   },
   "outputs": [],
   "source": [
    "import time\n",
    "import numpy\n",
    "from keras.datasets import mnist\n",
    "from keras.models import Model\n",
    "from keras.layers import Input, Concatenate, Dense, Dropout, Flatten, Activation\n",
    "from keras.layers.convolutional import Conv2D, MaxPooling2D\n",
    "from keras.layers.normalization import BatchNormalization\n",
    "from keras.utils import to_categorical\n",
    "from keras import backend as K\n",
    "from keras.optimizers import Adam\n",
    "\n",
    "K.set_image_dim_ordering( 'tf' )\n"
   ]
  },
  {
   "cell_type": "code",
   "execution_count": 22,
   "metadata": {
    "colab": {
     "autoexec": {
      "startup": false,
      "wait_interval": 0
     }
    },
    "colab_type": "code",
    "collapsed": true,
    "id": "rHhBpXkYPDE0",
    "scrolled": true
   },
   "outputs": [],
   "source": [
    "def inception2BN(x, n = 32):\n",
    "    p1 = Conv2D(n, 1, padding='same')(x)\n",
    "    p1 = BatchNormalization()(p1)\n",
    "    p1 = Activation('relu')(p1)\n",
    "    p2 = Conv2D(n, 1, padding='same')(x)\n",
    "    p2 = BatchNormalization()(p2)\n",
    "    p2 = Activation('relu')(p2)\n",
    "    p2 = Conv2D(n, 3, padding='same')(p2)\n",
    "    p2 = BatchNormalization()(p2)\n",
    "    p2 = Activation('relu')(p2)    \n",
    "    p3 = Conv2D(n, 1, padding='same')(x)\n",
    "    p3 = BatchNormalization()(p3)\n",
    "    p3 = Activation('relu')(p3)    \n",
    "    p3 = Conv2D(n, 5, padding='same')(p3)\n",
    "    p3 = BatchNormalization()(p3)\n",
    "    p3 = Activation('relu')(p3)  \n",
    "    p4 = MaxPooling2D((3,3), strides=(1, 1), padding='same')(x)    \n",
    "    p4 = Conv2D(n, 1, padding='same')(p4)\n",
    "    p4 = BatchNormalization()(p4)\n",
    "    p4 = Activation('relu')(p4)     \n",
    "\n",
    "    c =  Concatenate(axis=-1)([p1,p2,p3,p4])\n",
    "    return c"
   ]
  },
  {
   "cell_type": "code",
   "execution_count": 23,
   "metadata": {
    "colab": {
     "autoexec": {
      "startup": false,
      "wait_interval": 0
     }
    },
    "colab_type": "code",
    "collapsed": true,
    "id": "GGFTvCVzPEDu",
    "scrolled": true
   },
   "outputs": [],
   "source": [
    "def model3():\n",
    "    inputs = Input(Xtr.shape[1:])\n",
    "    i1 = inception2BN(inputs)\n",
    "    mp1 = MaxPooling2D((2,2))(i1)\n",
    "    i2 = inception2BN(mp1)\n",
    "    mp2 = MaxPooling2D((2,2))(i2)\n",
    "    i3 = inception2BN(mp2)\n",
    "    mp3 = MaxPooling2D((2,2))(i3) \n",
    "    i4 = inception2BN(mp3)\n",
    "    mp4 = MaxPooling2D((2,2))(i4) \n",
    "    f = Flatten()(mp4)\n",
    "    d = Dense(128)(f)\n",
    "    d = BatchNormalization()(d)\n",
    "    d = Activation('relu')(d)\n",
    "    out = Dense(120, activation='softmax')(d)\n",
    "    model = Model(inputs, out)\n",
    "    return model"
   ]
  },
  {
   "cell_type": "code",
   "execution_count": 24,
   "metadata": {
    "collapsed": true,
    "scrolled": true
   },
   "outputs": [
    {
     "name": "stdout",
     "output_type": "stream",
     "text": [
      "__________________________________________________________________________________________________\n",
      "Layer (type)                    Output Shape         Param #     Connected to                     \n",
      "==================================================================================================\n",
      "input_4 (InputLayer)            (None, 125, 125, 3)  0                                            \n",
      "__________________________________________________________________________________________________\n",
      "conv2d_50 (Conv2D)              (None, 125, 125, 32) 128         input_4[0][0]                    \n",
      "__________________________________________________________________________________________________\n",
      "conv2d_52 (Conv2D)              (None, 125, 125, 32) 128         input_4[0][0]                    \n",
      "__________________________________________________________________________________________________\n",
      "batch_normalization_52 (BatchNo (None, 125, 125, 32) 128         conv2d_50[0][0]                  \n",
      "__________________________________________________________________________________________________\n",
      "batch_normalization_54 (BatchNo (None, 125, 125, 32) 128         conv2d_52[0][0]                  \n",
      "__________________________________________________________________________________________________\n",
      "activation_101 (Activation)     (None, 125, 125, 32) 0           batch_normalization_52[0][0]     \n",
      "__________________________________________________________________________________________________\n",
      "activation_103 (Activation)     (None, 125, 125, 32) 0           batch_normalization_54[0][0]     \n",
      "__________________________________________________________________________________________________\n",
      "max_pooling2d_18 (MaxPooling2D) (None, 125, 125, 3)  0           input_4[0][0]                    \n",
      "__________________________________________________________________________________________________\n",
      "conv2d_49 (Conv2D)              (None, 125, 125, 32) 128         input_4[0][0]                    \n",
      "__________________________________________________________________________________________________\n",
      "conv2d_51 (Conv2D)              (None, 125, 125, 32) 9248        activation_101[0][0]             \n",
      "__________________________________________________________________________________________________\n",
      "conv2d_53 (Conv2D)              (None, 125, 125, 32) 25632       activation_103[0][0]             \n",
      "__________________________________________________________________________________________________\n",
      "conv2d_54 (Conv2D)              (None, 125, 125, 32) 128         max_pooling2d_18[0][0]           \n",
      "__________________________________________________________________________________________________\n",
      "batch_normalization_51 (BatchNo (None, 125, 125, 32) 128         conv2d_49[0][0]                  \n",
      "__________________________________________________________________________________________________\n",
      "batch_normalization_53 (BatchNo (None, 125, 125, 32) 128         conv2d_51[0][0]                  \n",
      "__________________________________________________________________________________________________\n",
      "batch_normalization_55 (BatchNo (None, 125, 125, 32) 128         conv2d_53[0][0]                  \n",
      "__________________________________________________________________________________________________\n",
      "batch_normalization_56 (BatchNo (None, 125, 125, 32) 128         conv2d_54[0][0]                  \n",
      "__________________________________________________________________________________________________\n",
      "activation_100 (Activation)     (None, 125, 125, 32) 0           batch_normalization_51[0][0]     \n",
      "__________________________________________________________________________________________________\n",
      "activation_102 (Activation)     (None, 125, 125, 32) 0           batch_normalization_53[0][0]     \n",
      "__________________________________________________________________________________________________\n",
      "activation_104 (Activation)     (None, 125, 125, 32) 0           batch_normalization_55[0][0]     \n",
      "__________________________________________________________________________________________________\n",
      "activation_105 (Activation)     (None, 125, 125, 32) 0           batch_normalization_56[0][0]     \n",
      "__________________________________________________________________________________________________\n",
      "concatenate_9 (Concatenate)     (None, 125, 125, 128 0           activation_100[0][0]             \n",
      "                                                                 activation_102[0][0]             \n",
      "                                                                 activation_104[0][0]             \n",
      "                                                                 activation_105[0][0]             \n",
      "__________________________________________________________________________________________________\n",
      "max_pooling2d_19 (MaxPooling2D) (None, 62, 62, 128)  0           concatenate_9[0][0]              \n",
      "__________________________________________________________________________________________________\n",
      "conv2d_56 (Conv2D)              (None, 62, 62, 32)   4128        max_pooling2d_19[0][0]           \n",
      "__________________________________________________________________________________________________\n",
      "conv2d_58 (Conv2D)              (None, 62, 62, 32)   4128        max_pooling2d_19[0][0]           \n",
      "__________________________________________________________________________________________________\n",
      "batch_normalization_58 (BatchNo (None, 62, 62, 32)   128         conv2d_56[0][0]                  \n",
      "__________________________________________________________________________________________________\n",
      "batch_normalization_60 (BatchNo (None, 62, 62, 32)   128         conv2d_58[0][0]                  \n",
      "__________________________________________________________________________________________________\n",
      "activation_107 (Activation)     (None, 62, 62, 32)   0           batch_normalization_58[0][0]     \n",
      "__________________________________________________________________________________________________\n",
      "activation_109 (Activation)     (None, 62, 62, 32)   0           batch_normalization_60[0][0]     \n",
      "__________________________________________________________________________________________________\n",
      "max_pooling2d_20 (MaxPooling2D) (None, 62, 62, 128)  0           max_pooling2d_19[0][0]           \n",
      "__________________________________________________________________________________________________\n",
      "conv2d_55 (Conv2D)              (None, 62, 62, 32)   4128        max_pooling2d_19[0][0]           \n",
      "__________________________________________________________________________________________________\n",
      "conv2d_57 (Conv2D)              (None, 62, 62, 32)   9248        activation_107[0][0]             \n",
      "__________________________________________________________________________________________________\n",
      "conv2d_59 (Conv2D)              (None, 62, 62, 32)   25632       activation_109[0][0]             \n",
      "__________________________________________________________________________________________________\n",
      "conv2d_60 (Conv2D)              (None, 62, 62, 32)   4128        max_pooling2d_20[0][0]           \n",
      "__________________________________________________________________________________________________\n",
      "batch_normalization_57 (BatchNo (None, 62, 62, 32)   128         conv2d_55[0][0]                  \n",
      "__________________________________________________________________________________________________\n",
      "batch_normalization_59 (BatchNo (None, 62, 62, 32)   128         conv2d_57[0][0]                  \n",
      "__________________________________________________________________________________________________\n",
      "batch_normalization_61 (BatchNo (None, 62, 62, 32)   128         conv2d_59[0][0]                  \n",
      "__________________________________________________________________________________________________\n",
      "batch_normalization_62 (BatchNo (None, 62, 62, 32)   128         conv2d_60[0][0]                  \n",
      "__________________________________________________________________________________________________\n",
      "activation_106 (Activation)     (None, 62, 62, 32)   0           batch_normalization_57[0][0]     \n",
      "__________________________________________________________________________________________________\n",
      "activation_108 (Activation)     (None, 62, 62, 32)   0           batch_normalization_59[0][0]     \n",
      "__________________________________________________________________________________________________\n",
      "activation_110 (Activation)     (None, 62, 62, 32)   0           batch_normalization_61[0][0]     \n",
      "__________________________________________________________________________________________________\n",
      "activation_111 (Activation)     (None, 62, 62, 32)   0           batch_normalization_62[0][0]     \n",
      "__________________________________________________________________________________________________\n",
      "concatenate_10 (Concatenate)    (None, 62, 62, 128)  0           activation_106[0][0]             \n",
      "                                                                 activation_108[0][0]             \n",
      "                                                                 activation_110[0][0]             \n",
      "                                                                 activation_111[0][0]             \n",
      "__________________________________________________________________________________________________\n",
      "max_pooling2d_21 (MaxPooling2D) (None, 31, 31, 128)  0           concatenate_10[0][0]             \n",
      "__________________________________________________________________________________________________\n",
      "conv2d_62 (Conv2D)              (None, 31, 31, 32)   4128        max_pooling2d_21[0][0]           \n",
      "__________________________________________________________________________________________________\n",
      "conv2d_64 (Conv2D)              (None, 31, 31, 32)   4128        max_pooling2d_21[0][0]           \n",
      "__________________________________________________________________________________________________\n",
      "batch_normalization_64 (BatchNo (None, 31, 31, 32)   128         conv2d_62[0][0]                  \n",
      "__________________________________________________________________________________________________\n",
      "batch_normalization_66 (BatchNo (None, 31, 31, 32)   128         conv2d_64[0][0]                  \n",
      "__________________________________________________________________________________________________\n",
      "activation_113 (Activation)     (None, 31, 31, 32)   0           batch_normalization_64[0][0]     \n",
      "__________________________________________________________________________________________________\n",
      "activation_115 (Activation)     (None, 31, 31, 32)   0           batch_normalization_66[0][0]     \n",
      "__________________________________________________________________________________________________\n",
      "max_pooling2d_22 (MaxPooling2D) (None, 31, 31, 128)  0           max_pooling2d_21[0][0]           \n",
      "__________________________________________________________________________________________________\n",
      "conv2d_61 (Conv2D)              (None, 31, 31, 32)   4128        max_pooling2d_21[0][0]           \n",
      "__________________________________________________________________________________________________\n",
      "conv2d_63 (Conv2D)              (None, 31, 31, 32)   9248        activation_113[0][0]             \n",
      "__________________________________________________________________________________________________\n",
      "conv2d_65 (Conv2D)              (None, 31, 31, 32)   25632       activation_115[0][0]             \n",
      "__________________________________________________________________________________________________\n",
      "conv2d_66 (Conv2D)              (None, 31, 31, 32)   4128        max_pooling2d_22[0][0]           \n",
      "__________________________________________________________________________________________________\n",
      "batch_normalization_63 (BatchNo (None, 31, 31, 32)   128         conv2d_61[0][0]                  \n",
      "__________________________________________________________________________________________________\n",
      "batch_normalization_65 (BatchNo (None, 31, 31, 32)   128         conv2d_63[0][0]                  \n",
      "__________________________________________________________________________________________________\n",
      "batch_normalization_67 (BatchNo (None, 31, 31, 32)   128         conv2d_65[0][0]                  \n",
      "__________________________________________________________________________________________________\n",
      "batch_normalization_68 (BatchNo (None, 31, 31, 32)   128         conv2d_66[0][0]                  \n",
      "__________________________________________________________________________________________________\n",
      "activation_112 (Activation)     (None, 31, 31, 32)   0           batch_normalization_63[0][0]     \n",
      "__________________________________________________________________________________________________\n",
      "activation_114 (Activation)     (None, 31, 31, 32)   0           batch_normalization_65[0][0]     \n",
      "__________________________________________________________________________________________________\n",
      "activation_116 (Activation)     (None, 31, 31, 32)   0           batch_normalization_67[0][0]     \n",
      "__________________________________________________________________________________________________\n",
      "activation_117 (Activation)     (None, 31, 31, 32)   0           batch_normalization_68[0][0]     \n",
      "__________________________________________________________________________________________________\n",
      "concatenate_11 (Concatenate)    (None, 31, 31, 128)  0           activation_112[0][0]             \n",
      "                                                                 activation_114[0][0]             \n",
      "                                                                 activation_116[0][0]             \n",
      "                                                                 activation_117[0][0]             \n",
      "__________________________________________________________________________________________________\n",
      "max_pooling2d_23 (MaxPooling2D) (None, 15, 15, 128)  0           concatenate_11[0][0]             \n",
      "__________________________________________________________________________________________________\n",
      "conv2d_68 (Conv2D)              (None, 15, 15, 32)   4128        max_pooling2d_23[0][0]           \n",
      "__________________________________________________________________________________________________\n",
      "conv2d_70 (Conv2D)              (None, 15, 15, 32)   4128        max_pooling2d_23[0][0]           \n",
      "__________________________________________________________________________________________________\n",
      "batch_normalization_70 (BatchNo (None, 15, 15, 32)   128         conv2d_68[0][0]                  \n",
      "__________________________________________________________________________________________________\n",
      "batch_normalization_72 (BatchNo (None, 15, 15, 32)   128         conv2d_70[0][0]                  \n",
      "__________________________________________________________________________________________________\n",
      "activation_119 (Activation)     (None, 15, 15, 32)   0           batch_normalization_70[0][0]     \n",
      "__________________________________________________________________________________________________\n",
      "activation_121 (Activation)     (None, 15, 15, 32)   0           batch_normalization_72[0][0]     \n",
      "__________________________________________________________________________________________________\n",
      "max_pooling2d_24 (MaxPooling2D) (None, 15, 15, 128)  0           max_pooling2d_23[0][0]           \n",
      "__________________________________________________________________________________________________\n",
      "conv2d_67 (Conv2D)              (None, 15, 15, 32)   4128        max_pooling2d_23[0][0]           \n",
      "__________________________________________________________________________________________________\n",
      "conv2d_69 (Conv2D)              (None, 15, 15, 32)   9248        activation_119[0][0]             \n",
      "__________________________________________________________________________________________________\n",
      "conv2d_71 (Conv2D)              (None, 15, 15, 32)   25632       activation_121[0][0]             \n",
      "__________________________________________________________________________________________________\n",
      "conv2d_72 (Conv2D)              (None, 15, 15, 32)   4128        max_pooling2d_24[0][0]           \n",
      "__________________________________________________________________________________________________\n",
      "batch_normalization_69 (BatchNo (None, 15, 15, 32)   128         conv2d_67[0][0]                  \n",
      "__________________________________________________________________________________________________\n",
      "batch_normalization_71 (BatchNo (None, 15, 15, 32)   128         conv2d_69[0][0]                  \n",
      "__________________________________________________________________________________________________\n",
      "batch_normalization_73 (BatchNo (None, 15, 15, 32)   128         conv2d_71[0][0]                  \n",
      "__________________________________________________________________________________________________\n",
      "batch_normalization_74 (BatchNo (None, 15, 15, 32)   128         conv2d_72[0][0]                  \n",
      "__________________________________________________________________________________________________\n",
      "activation_118 (Activation)     (None, 15, 15, 32)   0           batch_normalization_69[0][0]     \n",
      "__________________________________________________________________________________________________\n",
      "activation_120 (Activation)     (None, 15, 15, 32)   0           batch_normalization_71[0][0]     \n",
      "__________________________________________________________________________________________________\n",
      "activation_122 (Activation)     (None, 15, 15, 32)   0           batch_normalization_73[0][0]     \n",
      "__________________________________________________________________________________________________\n",
      "activation_123 (Activation)     (None, 15, 15, 32)   0           batch_normalization_74[0][0]     \n",
      "__________________________________________________________________________________________________\n",
      "concatenate_12 (Concatenate)    (None, 15, 15, 128)  0           activation_118[0][0]             \n",
      "                                                                 activation_120[0][0]             \n",
      "                                                                 activation_122[0][0]             \n",
      "                                                                 activation_123[0][0]             \n",
      "__________________________________________________________________________________________________\n",
      "max_pooling2d_25 (MaxPooling2D) (None, 7, 7, 128)    0           concatenate_12[0][0]             \n",
      "__________________________________________________________________________________________________\n",
      "flatten_4 (Flatten)             (None, 6272)         0           max_pooling2d_25[0][0]           \n",
      "__________________________________________________________________________________________________\n",
      "dense_5 (Dense)                 (None, 128)          802944      flatten_4[0][0]                  \n",
      "__________________________________________________________________________________________________\n",
      "batch_normalization_75 (BatchNo (None, 128)          512         dense_5[0][0]                    \n",
      "__________________________________________________________________________________________________\n",
      "activation_124 (Activation)     (None, 128)          0           batch_normalization_75[0][0]     \n",
      "__________________________________________________________________________________________________\n",
      "dense_6 (Dense)                 (None, 120)          15480       activation_124[0][0]             \n",
      "==================================================================================================\n",
      "Total params: 1,011,576\n",
      "Trainable params: 1,009,784\n",
      "Non-trainable params: 1,792\n",
      "__________________________________________________________________________________________________\n"
     ]
    }
   ],
   "source": [
    "model3=model3()\n",
    "model3.summary()"
   ]
  },
  {
   "cell_type": "code",
   "execution_count": 20,
   "metadata": {
    "colab": {
     "autoexec": {
      "startup": false,
      "wait_interval": 0
     },
     "base_uri": "https://localhost:8080/",
     "height": 2016
    },
    "colab_type": "code",
    "collapsed": true,
    "executionInfo": {
     "elapsed": 342451,
     "status": "ok",
     "timestamp": 1524717921127,
     "user": {
      "displayName": "Jean Henry",
      "photoUrl": "https://lh3.googleusercontent.com/a/default-user=s128",
      "userId": "106988864916439513838"
     },
     "user_tz": 360
    },
    "id": "zF1c2awxPHyi",
    "outputId": "e160918b-ab5f-4ada-9283-b2ed7056c2ab",
    "scrolled": false
   },
   "outputs": [
    {
     "name": "stdout",
     "output_type": "stream",
     "text": [
      "Train on 6512 samples, validate on 1628 samples\n",
      "Epoch 1/30\n",
      " - 75s - loss: 4.9456 - acc: 0.0114 - val_loss: 4.8481 - val_acc: 0.0147\n",
      "Epoch 2/30\n",
      " - 61s - loss: 4.5299 - acc: 0.0433 - val_loss: 4.7359 - val_acc: 0.0240\n",
      "Epoch 3/30\n",
      " - 61s - loss: 4.2641 - acc: 0.0977 - val_loss: 4.6825 - val_acc: 0.0338\n",
      "Epoch 4/30\n",
      " - 61s - loss: 4.0165 - acc: 0.1744 - val_loss: 4.6519 - val_acc: 0.0393\n",
      "Epoch 5/30\n",
      " - 61s - loss: 3.7969 - acc: 0.2621 - val_loss: 4.6173 - val_acc: 0.0479\n",
      "Epoch 6/30\n",
      " - 61s - loss: 3.5816 - acc: 0.3561 - val_loss: 4.6035 - val_acc: 0.0485\n",
      "Epoch 7/30\n",
      " - 61s - loss: 3.3753 - acc: 0.4622 - val_loss: 4.5892 - val_acc: 0.0461\n",
      "Epoch 8/30\n",
      " - 61s - loss: 3.1684 - acc: 0.5630 - val_loss: 4.5808 - val_acc: 0.0491\n",
      "Epoch 9/30\n",
      " - 61s - loss: 2.9820 - acc: 0.6505 - val_loss: 4.5757 - val_acc: 0.0522\n",
      "Epoch 10/30\n",
      " - 61s - loss: 2.7947 - acc: 0.7185 - val_loss: 4.5763 - val_acc: 0.0522\n",
      "Epoch 11/30\n",
      " - 61s - loss: 2.6111 - acc: 0.7927 - val_loss: 4.5667 - val_acc: 0.0522\n",
      "Epoch 12/30\n",
      " - 61s - loss: 2.4182 - acc: 0.8514 - val_loss: 4.5733 - val_acc: 0.0541\n",
      "Epoch 13/30\n",
      " - 61s - loss: 2.2479 - acc: 0.8838 - val_loss: 4.5654 - val_acc: 0.0528\n",
      "Epoch 14/30\n",
      " - 61s - loss: 2.0781 - acc: 0.9194 - val_loss: 4.5713 - val_acc: 0.0565\n",
      "Epoch 15/30\n",
      " - 61s - loss: 1.9181 - acc: 0.9398 - val_loss: 4.5718 - val_acc: 0.0534\n",
      "Epoch 16/30\n",
      " - 61s - loss: 1.7624 - acc: 0.9601 - val_loss: 4.5701 - val_acc: 0.0522\n",
      "Epoch 17/30\n",
      " - 61s - loss: 1.6096 - acc: 0.9725 - val_loss: 4.5762 - val_acc: 0.0516\n",
      "Epoch 18/30\n",
      " - 61s - loss: 1.4702 - acc: 0.9828 - val_loss: 4.5831 - val_acc: 0.0491\n",
      "Epoch 19/30\n",
      " - 61s - loss: 1.3465 - acc: 0.9871 - val_loss: 4.5922 - val_acc: 0.0522\n",
      "Epoch 20/30\n",
      " - 61s - loss: 1.2146 - acc: 0.9903 - val_loss: 4.5886 - val_acc: 0.0479\n",
      "Epoch 21/30\n",
      " - 61s - loss: 1.0830 - acc: 0.9945 - val_loss: 4.5923 - val_acc: 0.0577\n",
      "Epoch 22/30\n",
      " - 61s - loss: 0.9663 - acc: 0.9965 - val_loss: 4.5934 - val_acc: 0.0516\n",
      "Epoch 23/30\n",
      " - 61s - loss: 0.8953 - acc: 0.9969 - val_loss: 4.6165 - val_acc: 0.0461\n",
      "Epoch 24/30\n",
      " - 61s - loss: 0.7811 - acc: 0.9983 - val_loss: 4.6172 - val_acc: 0.0516\n",
      "Epoch 25/30\n",
      " - 61s - loss: 0.7104 - acc: 0.9989 - val_loss: 4.6064 - val_acc: 0.0504\n",
      "Epoch 26/30\n",
      " - 61s - loss: 0.6251 - acc: 0.9991 - val_loss: 4.6231 - val_acc: 0.0547\n",
      "Epoch 27/30\n",
      " - 61s - loss: 0.5611 - acc: 0.9992 - val_loss: 4.6341 - val_acc: 0.0442\n",
      "Epoch 28/30\n",
      " - 61s - loss: 0.5082 - acc: 0.9992 - val_loss: 4.6372 - val_acc: 0.0510\n",
      "Epoch 29/30\n",
      " - 61s - loss: 0.4541 - acc: 0.9992 - val_loss: 4.6444 - val_acc: 0.0479\n",
      "Epoch 30/30\n",
      " - 61s - loss: 0.4052 - acc: 0.9992 - val_loss: 4.6584 - val_acc: 0.0461\n",
      "1861.5432224273682  seconds\n",
      "CNN Error: 95.05%\n"
     ]
    },
    {
     "data": {
      "image/png": "[encoded data removed]",
      "text/plain": [
       "<Figure size 432x288 with 1 Axes>"
      ]
     },
     "metadata": {},
     "output_type": "display_data"
    }
   ],
   "source": [
    "model3 = model3()\n",
    "adam = Adam(lr=0.0001)\n",
    "model3.compile(loss= 'categorical_crossentropy' , optimizer= adam , metrics=[ 'accuracy' ])\n",
    "\n",
    "# Fit the model\n",
    "t0=time.time()\n",
    "log3 = model3.fit(Xtr, ytr, validation_split=0.2, epochs=30, batch_size=150, verbose=2)\n",
    "t1=time.time()\n",
    "print(t1-t0,\" seconds\")\n",
    "\n",
    "# Final evaluation of the model\n",
    "scores3 = model3.evaluate(Xv, yv, verbose=0)\n",
    "print(\"CNN Error: %.2f%%\" % (100-scores3[1]*100))\n",
    "\n",
    "import matplotlib.pyplot as plt\n",
    "%matplotlib inline\n",
    "plt.plot(log3.history['acc'],'b') \n",
    "plt.plot(log3.history['val_acc'],'r')\n",
    "plt.show()"
   ]
  },
  {
   "cell_type": "code",
   "execution_count": null,
   "metadata": {
    "collapsed": true,
    "scrolled": true
   },
   "outputs": [],
   "source": [
    "#CNN Error: 95.05%\n",
    "#Overfit- add some dropout and \n",
    "#try sigmoid rather than softmax and \n",
    "#try with larger batchsize"
   ]
  },
  {
   "cell_type": "code",
   "execution_count": 39,
   "metadata": {
    "collapsed": true,
    "scrolled": true
   },
   "outputs": [],
   "source": [
    "def inception2DO(x, n = 32):\n",
    "    p1 = Conv2D(n, 1, padding='same')(x)\n",
    "    p1 = BatchNormalization()(p1)\n",
    "    p1 = Activation('relu')(p1)\n",
    "    p1 = Dropout(0.01)(p1)\n",
    "    p2 = Conv2D(n, 1, padding='same')(x)\n",
    "    p2 = BatchNormalization()(p2)\n",
    "    p2 = Activation('relu')(p2)\n",
    "    p2 = Conv2D(n, 3, padding='same')(p2)\n",
    "    p2 = BatchNormalization()(p2)\n",
    "    p2 = Activation('relu')(p2)\n",
    "    p2 = Dropout(0.01)(p2)\n",
    "    p3 = Conv2D(n, 1, padding='same')(x)\n",
    "    p3 = BatchNormalization()(p3)\n",
    "    p3 = Activation('relu')(p3)    \n",
    "    p3 = Conv2D(n, 5, padding='same')(p3)\n",
    "    p3 = BatchNormalization()(p3)\n",
    "    p3 = Activation('relu')(p3)\n",
    "    p3 = Dropout(0.01)(p3)\n",
    "    p4 = MaxPooling2D((3,3), strides=(1, 1), padding='same')(x)    \n",
    "    p4 = Conv2D(n, 1, padding='same')(p4)\n",
    "    p4 = BatchNormalization()(p4)\n",
    "    p4 = Activation('relu')(p4)\n",
    "    p4 = Dropout(0.01)(p4)\n",
    "\n",
    "    c =  Concatenate(axis=-1)([p1,p2,p3,p4])\n",
    "    return c"
   ]
  },
  {
   "cell_type": "code",
   "execution_count": 43,
   "metadata": {
    "collapsed": true,
    "scrolled": true
   },
   "outputs": [],
   "source": [
    "def model4():\n",
    "    inputs=Input(Xtr.shape[1:])\n",
    "    c2 = Conv2D(32, 7, padding='same')(inputs)\n",
    "    c2 = MaxPooling2D((2,2))(c2)\n",
    "    c2 = Conv2D(32, 1, padding='same')(c2)\n",
    "    c2 = MaxPooling2D((2,2))(c2)\n",
    "    i1 = inception2DO(c2)\n",
    "    mp1 = MaxPooling2D((2,2))(i1)\n",
    "    i2 = inception2DO(mp1)\n",
    "    mp2 = MaxPooling2D((2,2))(i2)\n",
    "    i3 = inception2DO(mp2)\n",
    "    mp3 = MaxPooling2D((2,2))(i3) \n",
    "    i4 = inception2DO(mp3)\n",
    "    mp4 = MaxPooling2D((2,2))(i4) \n",
    "    f = Flatten()(mp4)\n",
    "    d = Dense(128)(f)\n",
    "    d = BatchNormalization()(d)\n",
    "    d = Activation('relu')(d)\n",
    "    out = Dense(120, activation='sigmoid')(d)\n",
    "    model = Model(inputs, out)\n",
    "    return model"
   ]
  },
  {
   "cell_type": "code",
   "execution_count": 44,
   "metadata": {
    "collapsed": true,
    "scrolled": false
   },
   "outputs": [
    {
     "name": "stdout",
     "output_type": "stream",
     "text": [
      "__________________________________________________________________________________________________\n",
      "Layer (type)                    Output Shape         Param #     Connected to                     \n",
      "==================================================================================================\n",
      "input_9 (InputLayer)            (None, 125, 125, 3)  0                                            \n",
      "__________________________________________________________________________________________________\n",
      "conv2d_177 (Conv2D)             (None, 125, 125, 32) 4736        input_9[0][0]                    \n",
      "__________________________________________________________________________________________________\n",
      "max_pooling2d_66 (MaxPooling2D) (None, 62, 62, 32)   0           conv2d_177[0][0]                 \n",
      "__________________________________________________________________________________________________\n",
      "conv2d_178 (Conv2D)             (None, 62, 62, 32)   1056        max_pooling2d_66[0][0]           \n",
      "__________________________________________________________________________________________________\n",
      "max_pooling2d_67 (MaxPooling2D) (None, 31, 31, 32)   0           conv2d_178[0][0]                 \n",
      "__________________________________________________________________________________________________\n",
      "conv2d_180 (Conv2D)             (None, 31, 31, 32)   1056        max_pooling2d_67[0][0]           \n",
      "__________________________________________________________________________________________________\n",
      "conv2d_182 (Conv2D)             (None, 31, 31, 32)   1056        max_pooling2d_67[0][0]           \n",
      "__________________________________________________________________________________________________\n",
      "batch_normalization_177 (BatchN (None, 31, 31, 32)   128         conv2d_180[0][0]                 \n",
      "__________________________________________________________________________________________________\n",
      "batch_normalization_179 (BatchN (None, 31, 31, 32)   128         conv2d_182[0][0]                 \n",
      "__________________________________________________________________________________________________\n",
      "activation_226 (Activation)     (None, 31, 31, 32)   0           batch_normalization_177[0][0]    \n",
      "__________________________________________________________________________________________________\n",
      "activation_228 (Activation)     (None, 31, 31, 32)   0           batch_normalization_179[0][0]    \n",
      "__________________________________________________________________________________________________\n",
      "max_pooling2d_68 (MaxPooling2D) (None, 31, 31, 32)   0           max_pooling2d_67[0][0]           \n",
      "__________________________________________________________________________________________________\n",
      "conv2d_179 (Conv2D)             (None, 31, 31, 32)   1056        max_pooling2d_67[0][0]           \n",
      "__________________________________________________________________________________________________\n",
      "conv2d_181 (Conv2D)             (None, 31, 31, 32)   9248        activation_226[0][0]             \n",
      "__________________________________________________________________________________________________\n",
      "conv2d_183 (Conv2D)             (None, 31, 31, 32)   25632       activation_228[0][0]             \n",
      "__________________________________________________________________________________________________\n",
      "conv2d_184 (Conv2D)             (None, 31, 31, 32)   1056        max_pooling2d_68[0][0]           \n",
      "__________________________________________________________________________________________________\n",
      "batch_normalization_176 (BatchN (None, 31, 31, 32)   128         conv2d_179[0][0]                 \n",
      "__________________________________________________________________________________________________\n",
      "batch_normalization_178 (BatchN (None, 31, 31, 32)   128         conv2d_181[0][0]                 \n",
      "__________________________________________________________________________________________________\n",
      "batch_normalization_180 (BatchN (None, 31, 31, 32)   128         conv2d_183[0][0]                 \n",
      "__________________________________________________________________________________________________\n",
      "batch_normalization_181 (BatchN (None, 31, 31, 32)   128         conv2d_184[0][0]                 \n",
      "__________________________________________________________________________________________________\n",
      "activation_225 (Activation)     (None, 31, 31, 32)   0           batch_normalization_176[0][0]    \n",
      "__________________________________________________________________________________________________\n",
      "activation_227 (Activation)     (None, 31, 31, 32)   0           batch_normalization_178[0][0]    \n",
      "__________________________________________________________________________________________________\n",
      "activation_229 (Activation)     (None, 31, 31, 32)   0           batch_normalization_180[0][0]    \n",
      "__________________________________________________________________________________________________\n",
      "activation_230 (Activation)     (None, 31, 31, 32)   0           batch_normalization_181[0][0]    \n",
      "__________________________________________________________________________________________________\n",
      "dropout_65 (Dropout)            (None, 31, 31, 32)   0           activation_225[0][0]             \n",
      "__________________________________________________________________________________________________\n",
      "dropout_66 (Dropout)            (None, 31, 31, 32)   0           activation_227[0][0]             \n",
      "__________________________________________________________________________________________________\n",
      "dropout_67 (Dropout)            (None, 31, 31, 32)   0           activation_229[0][0]             \n",
      "__________________________________________________________________________________________________\n",
      "dropout_68 (Dropout)            (None, 31, 31, 32)   0           activation_230[0][0]             \n",
      "__________________________________________________________________________________________________\n",
      "concatenate_29 (Concatenate)    (None, 31, 31, 128)  0           dropout_65[0][0]                 \n",
      "                                                                 dropout_66[0][0]                 \n",
      "                                                                 dropout_67[0][0]                 \n",
      "                                                                 dropout_68[0][0]                 \n",
      "__________________________________________________________________________________________________\n",
      "max_pooling2d_69 (MaxPooling2D) (None, 15, 15, 128)  0           concatenate_29[0][0]             \n",
      "__________________________________________________________________________________________________\n",
      "conv2d_186 (Conv2D)             (None, 15, 15, 32)   4128        max_pooling2d_69[0][0]           \n",
      "__________________________________________________________________________________________________\n",
      "conv2d_188 (Conv2D)             (None, 15, 15, 32)   4128        max_pooling2d_69[0][0]           \n",
      "__________________________________________________________________________________________________\n",
      "batch_normalization_183 (BatchN (None, 15, 15, 32)   128         conv2d_186[0][0]                 \n",
      "__________________________________________________________________________________________________\n",
      "batch_normalization_185 (BatchN (None, 15, 15, 32)   128         conv2d_188[0][0]                 \n",
      "__________________________________________________________________________________________________\n",
      "activation_232 (Activation)     (None, 15, 15, 32)   0           batch_normalization_183[0][0]    \n",
      "__________________________________________________________________________________________________\n",
      "activation_234 (Activation)     (None, 15, 15, 32)   0           batch_normalization_185[0][0]    \n",
      "__________________________________________________________________________________________________\n",
      "max_pooling2d_70 (MaxPooling2D) (None, 15, 15, 128)  0           max_pooling2d_69[0][0]           \n",
      "__________________________________________________________________________________________________\n",
      "conv2d_185 (Conv2D)             (None, 15, 15, 32)   4128        max_pooling2d_69[0][0]           \n",
      "__________________________________________________________________________________________________\n",
      "conv2d_187 (Conv2D)             (None, 15, 15, 32)   9248        activation_232[0][0]             \n",
      "__________________________________________________________________________________________________\n",
      "conv2d_189 (Conv2D)             (None, 15, 15, 32)   25632       activation_234[0][0]             \n",
      "__________________________________________________________________________________________________\n",
      "conv2d_190 (Conv2D)             (None, 15, 15, 32)   4128        max_pooling2d_70[0][0]           \n",
      "__________________________________________________________________________________________________\n",
      "batch_normalization_182 (BatchN (None, 15, 15, 32)   128         conv2d_185[0][0]                 \n",
      "__________________________________________________________________________________________________\n",
      "batch_normalization_184 (BatchN (None, 15, 15, 32)   128         conv2d_187[0][0]                 \n",
      "__________________________________________________________________________________________________\n",
      "batch_normalization_186 (BatchN (None, 15, 15, 32)   128         conv2d_189[0][0]                 \n",
      "__________________________________________________________________________________________________\n",
      "batch_normalization_187 (BatchN (None, 15, 15, 32)   128         conv2d_190[0][0]                 \n",
      "__________________________________________________________________________________________________\n",
      "activation_231 (Activation)     (None, 15, 15, 32)   0           batch_normalization_182[0][0]    \n",
      "__________________________________________________________________________________________________\n",
      "activation_233 (Activation)     (None, 15, 15, 32)   0           batch_normalization_184[0][0]    \n",
      "__________________________________________________________________________________________________\n",
      "activation_235 (Activation)     (None, 15, 15, 32)   0           batch_normalization_186[0][0]    \n",
      "__________________________________________________________________________________________________\n",
      "activation_236 (Activation)     (None, 15, 15, 32)   0           batch_normalization_187[0][0]    \n",
      "__________________________________________________________________________________________________\n",
      "dropout_69 (Dropout)            (None, 15, 15, 32)   0           activation_231[0][0]             \n",
      "__________________________________________________________________________________________________\n",
      "dropout_70 (Dropout)            (None, 15, 15, 32)   0           activation_233[0][0]             \n",
      "__________________________________________________________________________________________________\n",
      "dropout_71 (Dropout)            (None, 15, 15, 32)   0           activation_235[0][0]             \n",
      "__________________________________________________________________________________________________\n",
      "dropout_72 (Dropout)            (None, 15, 15, 32)   0           activation_236[0][0]             \n",
      "__________________________________________________________________________________________________\n",
      "concatenate_30 (Concatenate)    (None, 15, 15, 128)  0           dropout_69[0][0]                 \n",
      "                                                                 dropout_70[0][0]                 \n",
      "                                                                 dropout_71[0][0]                 \n",
      "                                                                 dropout_72[0][0]                 \n",
      "__________________________________________________________________________________________________\n",
      "max_pooling2d_71 (MaxPooling2D) (None, 7, 7, 128)    0           concatenate_30[0][0]             \n",
      "__________________________________________________________________________________________________\n",
      "conv2d_192 (Conv2D)             (None, 7, 7, 32)     4128        max_pooling2d_71[0][0]           \n",
      "__________________________________________________________________________________________________\n",
      "conv2d_194 (Conv2D)             (None, 7, 7, 32)     4128        max_pooling2d_71[0][0]           \n",
      "__________________________________________________________________________________________________\n",
      "batch_normalization_189 (BatchN (None, 7, 7, 32)     128         conv2d_192[0][0]                 \n",
      "__________________________________________________________________________________________________\n",
      "batch_normalization_191 (BatchN (None, 7, 7, 32)     128         conv2d_194[0][0]                 \n",
      "__________________________________________________________________________________________________\n",
      "activation_238 (Activation)     (None, 7, 7, 32)     0           batch_normalization_189[0][0]    \n",
      "__________________________________________________________________________________________________\n",
      "activation_240 (Activation)     (None, 7, 7, 32)     0           batch_normalization_191[0][0]    \n",
      "__________________________________________________________________________________________________\n",
      "max_pooling2d_72 (MaxPooling2D) (None, 7, 7, 128)    0           max_pooling2d_71[0][0]           \n",
      "__________________________________________________________________________________________________\n",
      "conv2d_191 (Conv2D)             (None, 7, 7, 32)     4128        max_pooling2d_71[0][0]           \n",
      "__________________________________________________________________________________________________\n",
      "conv2d_193 (Conv2D)             (None, 7, 7, 32)     9248        activation_238[0][0]             \n",
      "__________________________________________________________________________________________________\n",
      "conv2d_195 (Conv2D)             (None, 7, 7, 32)     25632       activation_240[0][0]             \n",
      "__________________________________________________________________________________________________\n",
      "conv2d_196 (Conv2D)             (None, 7, 7, 32)     4128        max_pooling2d_72[0][0]           \n",
      "__________________________________________________________________________________________________\n",
      "batch_normalization_188 (BatchN (None, 7, 7, 32)     128         conv2d_191[0][0]                 \n",
      "__________________________________________________________________________________________________\n",
      "batch_normalization_190 (BatchN (None, 7, 7, 32)     128         conv2d_193[0][0]                 \n",
      "__________________________________________________________________________________________________\n",
      "batch_normalization_192 (BatchN (None, 7, 7, 32)     128         conv2d_195[0][0]                 \n",
      "__________________________________________________________________________________________________\n",
      "batch_normalization_193 (BatchN (None, 7, 7, 32)     128         conv2d_196[0][0]                 \n",
      "__________________________________________________________________________________________________\n",
      "activation_237 (Activation)     (None, 7, 7, 32)     0           batch_normalization_188[0][0]    \n",
      "__________________________________________________________________________________________________\n",
      "activation_239 (Activation)     (None, 7, 7, 32)     0           batch_normalization_190[0][0]    \n",
      "__________________________________________________________________________________________________\n",
      "activation_241 (Activation)     (None, 7, 7, 32)     0           batch_normalization_192[0][0]    \n",
      "__________________________________________________________________________________________________\n",
      "activation_242 (Activation)     (None, 7, 7, 32)     0           batch_normalization_193[0][0]    \n",
      "__________________________________________________________________________________________________\n",
      "dropout_73 (Dropout)            (None, 7, 7, 32)     0           activation_237[0][0]             \n",
      "__________________________________________________________________________________________________\n",
      "dropout_74 (Dropout)            (None, 7, 7, 32)     0           activation_239[0][0]             \n",
      "__________________________________________________________________________________________________\n",
      "dropout_75 (Dropout)            (None, 7, 7, 32)     0           activation_241[0][0]             \n",
      "__________________________________________________________________________________________________\n",
      "dropout_76 (Dropout)            (None, 7, 7, 32)     0           activation_242[0][0]             \n",
      "__________________________________________________________________________________________________\n",
      "concatenate_31 (Concatenate)    (None, 7, 7, 128)    0           dropout_73[0][0]                 \n",
      "                                                                 dropout_74[0][0]                 \n",
      "                                                                 dropout_75[0][0]                 \n",
      "                                                                 dropout_76[0][0]                 \n",
      "__________________________________________________________________________________________________\n",
      "max_pooling2d_73 (MaxPooling2D) (None, 3, 3, 128)    0           concatenate_31[0][0]             \n",
      "__________________________________________________________________________________________________\n",
      "conv2d_198 (Conv2D)             (None, 3, 3, 32)     4128        max_pooling2d_73[0][0]           \n",
      "__________________________________________________________________________________________________\n",
      "conv2d_200 (Conv2D)             (None, 3, 3, 32)     4128        max_pooling2d_73[0][0]           \n",
      "__________________________________________________________________________________________________\n",
      "batch_normalization_195 (BatchN (None, 3, 3, 32)     128         conv2d_198[0][0]                 \n",
      "__________________________________________________________________________________________________\n",
      "batch_normalization_197 (BatchN (None, 3, 3, 32)     128         conv2d_200[0][0]                 \n",
      "__________________________________________________________________________________________________\n",
      "activation_244 (Activation)     (None, 3, 3, 32)     0           batch_normalization_195[0][0]    \n",
      "__________________________________________________________________________________________________\n",
      "activation_246 (Activation)     (None, 3, 3, 32)     0           batch_normalization_197[0][0]    \n",
      "__________________________________________________________________________________________________\n",
      "max_pooling2d_74 (MaxPooling2D) (None, 3, 3, 128)    0           max_pooling2d_73[0][0]           \n",
      "__________________________________________________________________________________________________\n",
      "conv2d_197 (Conv2D)             (None, 3, 3, 32)     4128        max_pooling2d_73[0][0]           \n",
      "__________________________________________________________________________________________________\n",
      "conv2d_199 (Conv2D)             (None, 3, 3, 32)     9248        activation_244[0][0]             \n",
      "__________________________________________________________________________________________________\n",
      "conv2d_201 (Conv2D)             (None, 3, 3, 32)     25632       activation_246[0][0]             \n",
      "__________________________________________________________________________________________________\n",
      "conv2d_202 (Conv2D)             (None, 3, 3, 32)     4128        max_pooling2d_74[0][0]           \n",
      "__________________________________________________________________________________________________\n",
      "batch_normalization_194 (BatchN (None, 3, 3, 32)     128         conv2d_197[0][0]                 \n",
      "__________________________________________________________________________________________________\n",
      "batch_normalization_196 (BatchN (None, 3, 3, 32)     128         conv2d_199[0][0]                 \n",
      "__________________________________________________________________________________________________\n",
      "batch_normalization_198 (BatchN (None, 3, 3, 32)     128         conv2d_201[0][0]                 \n",
      "__________________________________________________________________________________________________\n",
      "batch_normalization_199 (BatchN (None, 3, 3, 32)     128         conv2d_202[0][0]                 \n",
      "__________________________________________________________________________________________________\n",
      "activation_243 (Activation)     (None, 3, 3, 32)     0           batch_normalization_194[0][0]    \n",
      "__________________________________________________________________________________________________\n",
      "activation_245 (Activation)     (None, 3, 3, 32)     0           batch_normalization_196[0][0]    \n",
      "__________________________________________________________________________________________________\n",
      "activation_247 (Activation)     (None, 3, 3, 32)     0           batch_normalization_198[0][0]    \n",
      "__________________________________________________________________________________________________\n",
      "activation_248 (Activation)     (None, 3, 3, 32)     0           batch_normalization_199[0][0]    \n",
      "__________________________________________________________________________________________________\n",
      "dropout_77 (Dropout)            (None, 3, 3, 32)     0           activation_243[0][0]             \n",
      "__________________________________________________________________________________________________\n",
      "dropout_78 (Dropout)            (None, 3, 3, 32)     0           activation_245[0][0]             \n",
      "__________________________________________________________________________________________________\n",
      "dropout_79 (Dropout)            (None, 3, 3, 32)     0           activation_247[0][0]             \n",
      "__________________________________________________________________________________________________\n",
      "dropout_80 (Dropout)            (None, 3, 3, 32)     0           activation_248[0][0]             \n",
      "__________________________________________________________________________________________________\n",
      "concatenate_32 (Concatenate)    (None, 3, 3, 128)    0           dropout_77[0][0]                 \n",
      "                                                                 dropout_78[0][0]                 \n",
      "                                                                 dropout_79[0][0]                 \n",
      "                                                                 dropout_80[0][0]                 \n",
      "__________________________________________________________________________________________________\n",
      "max_pooling2d_75 (MaxPooling2D) (None, 1, 1, 128)    0           concatenate_32[0][0]             \n",
      "__________________________________________________________________________________________________\n",
      "flatten_9 (Flatten)             (None, 128)          0           max_pooling2d_75[0][0]           \n",
      "__________________________________________________________________________________________________\n",
      "dense_15 (Dense)                (None, 128)          16512       flatten_9[0][0]                  \n",
      "__________________________________________________________________________________________________\n",
      "batch_normalization_200 (BatchN (None, 128)          512         dense_15[0][0]                   \n",
      "__________________________________________________________________________________________________\n",
      "activation_249 (Activation)     (None, 128)          0           batch_normalization_200[0][0]    \n",
      "__________________________________________________________________________________________________\n",
      "dense_16 (Dense)                (None, 120)          15480       activation_249[0][0]             \n",
      "==================================================================================================\n",
      "Total params: 234,648\n",
      "Trainable params: 232,856\n",
      "Non-trainable params: 1,792\n",
      "__________________________________________________________________________________________________\n"
     ]
    }
   ],
   "source": [
    "model4 = model4()\n",
    "model4.summary()"
   ]
  },
  {
   "cell_type": "code",
   "execution_count": 48,
   "metadata": {
    "collapsed": true,
    "scrolled": true
   },
   "outputs": [],
   "source": [
    "inputs=Input(Xtr.shape[1:])"
   ]
  },
  {
   "cell_type": "code",
   "execution_count": 52,
   "metadata": {
    "collapsed": true,
    "scrolled": true
   },
   "outputs": [],
   "source": [
    "adam = Adam(lr=0.0001)\n",
    "model4.compile(loss= 'categorical_crossentropy' , optimizer= adam , metrics=[ 'accuracy' ])\n",
    "\n"
   ]
  },
  {
   "cell_type": "code",
   "execution_count": 53,
   "metadata": {
    "collapsed": true,
    "scrolled": true
   },
   "outputs": [
    {
     "name": "stdout",
     "output_type": "stream",
     "text": [
      "Train on 6512 samples, validate on 1628 samples\n",
      "Epoch 1/30\n",
      " - 30s - loss: 4.8344 - acc: 0.0120 - val_loss: 4.8143 - val_acc: 0.0080\n",
      "Epoch 2/30\n",
      " - 13s - loss: 4.7687 - acc: 0.0121 - val_loss: 4.8021 - val_acc: 0.0123\n",
      "Epoch 3/30\n",
      " - 13s - loss: 4.7202 - acc: 0.0157 - val_loss: 4.7912 - val_acc: 0.0098\n",
      "Epoch 4/30\n",
      " - 13s - loss: 4.6740 - acc: 0.0192 - val_loss: 4.7776 - val_acc: 0.0117\n",
      "Epoch 5/30\n",
      " - 13s - loss: 4.6358 - acc: 0.0217 - val_loss: 4.7701 - val_acc: 0.0135\n",
      "Epoch 6/30\n",
      " - 13s - loss: 4.6022 - acc: 0.0275 - val_loss: 4.7624 - val_acc: 0.0117\n",
      "Epoch 7/30\n",
      " - 13s - loss: 4.5673 - acc: 0.0344 - val_loss: 4.7521 - val_acc: 0.0117\n",
      "Epoch 8/30\n",
      " - 13s - loss: 4.5333 - acc: 0.0384 - val_loss: 4.7445 - val_acc: 0.0129\n",
      "Epoch 9/30\n",
      " - 13s - loss: 4.5027 - acc: 0.0464 - val_loss: 4.7408 - val_acc: 0.0135\n",
      "Epoch 10/30\n",
      " - 13s - loss: 4.4723 - acc: 0.0554 - val_loss: 4.7334 - val_acc: 0.0141\n",
      "Epoch 11/30\n",
      " - 13s - loss: 4.4416 - acc: 0.0643 - val_loss: 4.7228 - val_acc: 0.0154\n",
      "Epoch 12/30\n",
      " - 13s - loss: 4.4054 - acc: 0.0759 - val_loss: 4.7218 - val_acc: 0.0154\n",
      "Epoch 13/30\n",
      " - 13s - loss: 4.3702 - acc: 0.0854 - val_loss: 4.7143 - val_acc: 0.0129\n",
      "Epoch 14/30\n",
      " - 13s - loss: 4.3366 - acc: 0.0987 - val_loss: 4.7074 - val_acc: 0.0129\n",
      "Epoch 15/30\n",
      " - 13s - loss: 4.2957 - acc: 0.1176 - val_loss: 4.7024 - val_acc: 0.0117\n",
      "Epoch 16/30\n",
      " - 13s - loss: 4.2590 - acc: 0.1296 - val_loss: 4.6977 - val_acc: 0.0154\n",
      "Epoch 17/30\n",
      " - 13s - loss: 4.2219 - acc: 0.1531 - val_loss: 4.6952 - val_acc: 0.0184\n",
      "Epoch 18/30\n",
      " - 13s - loss: 4.1800 - acc: 0.1657 - val_loss: 4.6846 - val_acc: 0.0141\n",
      "Epoch 19/30\n",
      " - 13s - loss: 4.1282 - acc: 0.1877 - val_loss: 4.6812 - val_acc: 0.0172\n",
      "Epoch 20/30\n",
      " - 13s - loss: 4.0816 - acc: 0.2110 - val_loss: 4.6766 - val_acc: 0.0197\n",
      "Epoch 21/30\n",
      " - 13s - loss: 4.0283 - acc: 0.2394 - val_loss: 4.6652 - val_acc: 0.0227\n",
      "Epoch 22/30\n",
      " - 13s - loss: 3.9760 - acc: 0.2592 - val_loss: 4.6626 - val_acc: 0.0240\n",
      "Epoch 23/30\n",
      " - 13s - loss: 3.9207 - acc: 0.2758 - val_loss: 4.6648 - val_acc: 0.0184\n",
      "Epoch 24/30\n",
      " - 13s - loss: 3.8581 - acc: 0.3094 - val_loss: 4.6620 - val_acc: 0.0264\n",
      "Epoch 25/30\n",
      " - 13s - loss: 3.7970 - acc: 0.3395 - val_loss: 4.6536 - val_acc: 0.0258\n",
      "Epoch 26/30\n",
      " - 13s - loss: 3.7325 - acc: 0.3638 - val_loss: 4.6551 - val_acc: 0.0276\n",
      "Epoch 27/30\n",
      " - 13s - loss: 3.6652 - acc: 0.3877 - val_loss: 4.6656 - val_acc: 0.0227\n",
      "Epoch 28/30\n",
      " - 13s - loss: 3.5867 - acc: 0.4320 - val_loss: 4.6550 - val_acc: 0.0307\n",
      "Epoch 29/30\n",
      " - 13s - loss: 3.5094 - acc: 0.4696 - val_loss: 4.6710 - val_acc: 0.0264\n",
      "Epoch 30/30\n",
      " - 13s - loss: 3.4343 - acc: 0.4945 - val_loss: 4.6611 - val_acc: 0.0295\n",
      "403.3464992046356  seconds\n",
      "CNN Error: 97.36%\n"
     ]
    },
    {
     "data": {
      "image/png": "[encoded data removed]",
      "text/plain": [
       "<Figure size 432x288 with 1 Axes>"
      ]
     },
     "metadata": {},
     "output_type": "display_data"
    }
   ],
   "source": [
    "t0=time.time()\n",
    "log4 = model4.fit(Xtr, ytr, validation_split=0.2, epochs=30, batch_size=200, verbose=2)\n",
    "t1=time.time()\n",
    "print(t1-t0,\" seconds\")\n",
    "\n",
    "\n",
    "scores4 = model4.evaluate(Xv, yv, verbose=0)\n",
    "print(\"CNN Error: %.2f%%\" % (100-scores4[1]*100))\n",
    "\n",
    "import matplotlib.pyplot as plt\n",
    "%matplotlib inline\n",
    "plt.plot(log4.history['acc'],'b') \n",
    "plt.plot(log4.history['val_acc'],'r')\n",
    "plt.show()"
   ]
  },
  {
   "cell_type": "code",
   "execution_count": 54,
   "metadata": {
    "scrolled": true
   },
   "outputs": [
    {
     "name": "stdout",
     "output_type": "stream",
     "text": [
      "CNN Error: 97.36%\n"
     ]
    },
    {
     "data": {
      "image/png": "[encoded data removed]",
      "text/plain": [
       "<Figure size 432x288 with 1 Axes>"
      ]
     },
     "metadata": {},
     "output_type": "display_data"
    }
   ],
   "source": [
    "# Final evaluation of the model\n",
    "scores4 = model4.evaluate(Xv, yv, verbose=0)\n",
    "print(\"CNN Error: %.2f%%\" % (100-scores4[1]*100))\n",
    "\n",
    "import matplotlib.pyplot as plt\n",
    "%matplotlib inline\n",
    "plt.plot(log4.history['acc'],'b') \n",
    "plt.plot(log4.history['val_acc'],'r')\n",
    "plt.show()"
   ]
  },
  {
   "cell_type": "code",
   "execution_count": 55,
   "metadata": {
    "collapsed": true,
    "scrolled": true
   },
   "outputs": [],
   "source": [
    "#increase dropout\n",
    "def inception3BN(x, n = 32):\n",
    "    p1 = Conv2D(n, 1, padding='same')(x)\n",
    "    p1 = BatchNormalization()(p1)\n",
    "    p1 = Activation('tanh')(p1)\n",
    "    p1 = Dropout(0.01)(p1)\n",
    "    p2 = Conv2D(n, 1, padding='same')(x)\n",
    "    p2 = BatchNormalization()(p2)\n",
    "    p2 = Activation('tanh')(p2)\n",
    "    p2 = Conv2D(n, 3, padding='same')(p2)\n",
    "    p2 = BatchNormalization()(p2)\n",
    "    p2 = Activation('tanh')(p2)\n",
    "    p2 = Dropout(0.01)(p2)\n",
    "    p3 = Conv2D(n, 1, padding='same')(x)\n",
    "    p3 = BatchNormalization()(p3)\n",
    "    p3 = Activation('tanh')(p3)    \n",
    "    p3 = Conv2D(n, 5, padding='same')(p3)\n",
    "    p3 = BatchNormalization()(p3)\n",
    "    p3 = Activation('tanh')(p3)\n",
    "    p3 = Dropout(0.01)(p3)\n",
    "    p4 = MaxPooling2D((3,3), strides=(1, 1), padding='same')(x)    \n",
    "    p4 = Conv2D(n, 1, padding='same')(p4)\n",
    "    p4 = BatchNormalization()(p4)\n",
    "    p4 = Activation('tanh')(p4)\n",
    "    p4 = Dropout(0.01)(p4)\n",
    "\n",
    "    c =  Concatenate(axis=-1)([p1,p2,p3,p4])\n",
    "    return c"
   ]
  },
  {
   "cell_type": "code",
   "execution_count": 56,
   "metadata": {
    "collapsed": true,
    "scrolled": true
   },
   "outputs": [],
   "source": [
    "def model5():\n",
    "    inputs = Input(Xtr.shape[1:])\n",
    "    x = Conv2D(64, 7, activation ='relu', padding='same')(inputs)\n",
    "    x = MaxPooling2D((2,2))(x)\n",
    "    x = Conv2D(32, 1, activation ='relu', padding='same')(x)\n",
    "    x = Conv2D(32, 3, activation ='relu', padding='same')(x)\n",
    "    x = MaxPooling2D((2,2))(x)\n",
    "    i1 = inception3BN(x)\n",
    "    mp1 = MaxPooling2D((2,2))(i1)\n",
    "    i2 = inception3BN(mp1)\n",
    "    mp2 = MaxPooling2D((2,2))(i2)\n",
    "    i3 = inception3BN(mp2)\n",
    "    i3 = inception3BN(i3)\n",
    "    mp3 = MaxPooling2D((2,2))(i3) \n",
    "    i4 = inception3BN(mp3)\n",
    "    i4 = inception3BN(i4)\n",
    "    mp4 = MaxPooling2D((2,2))(i4) \n",
    "    f = Flatten()(mp4)\n",
    "    d = Dense(128)(f)\n",
    "    d = BatchNormalization()(d)\n",
    "    d = Activation('relu')(d)\n",
    "    d = Dropout(0.5)(d)\n",
    "    d = Dense(128)(f)\n",
    "    d = BatchNormalization()(d)\n",
    "    d = Activation('tanh')(d)\n",
    "    d = Dropout(0.5)(d)\n",
    "    out = Dense(120, activation='sigmoid')(d)\n",
    "    model = Model(inputs, out)\n",
    "    return model"
   ]
  },
  {
   "cell_type": "code",
   "execution_count": 57,
   "metadata": {
    "collapsed": true,
    "scrolled": true
   },
   "outputs": [
    {
     "name": "stdout",
     "output_type": "stream",
     "text": [
      "__________________________________________________________________________________________________\n",
      "Layer (type)                    Output Shape         Param #     Connected to                     \n",
      "==================================================================================================\n",
      "input_12 (InputLayer)           (None, 125, 125, 3)  0                                            \n",
      "__________________________________________________________________________________________________\n",
      "conv2d_203 (Conv2D)             (None, 125, 125, 64) 9472        input_12[0][0]                   \n",
      "__________________________________________________________________________________________________\n",
      "max_pooling2d_76 (MaxPooling2D) (None, 62, 62, 64)   0           conv2d_203[0][0]                 \n",
      "__________________________________________________________________________________________________\n",
      "conv2d_204 (Conv2D)             (None, 62, 62, 32)   2080        max_pooling2d_76[0][0]           \n",
      "__________________________________________________________________________________________________\n",
      "conv2d_205 (Conv2D)             (None, 62, 62, 32)   9248        conv2d_204[0][0]                 \n",
      "__________________________________________________________________________________________________\n",
      "max_pooling2d_77 (MaxPooling2D) (None, 31, 31, 32)   0           conv2d_205[0][0]                 \n",
      "__________________________________________________________________________________________________\n",
      "conv2d_207 (Conv2D)             (None, 31, 31, 32)   1056        max_pooling2d_77[0][0]           \n",
      "__________________________________________________________________________________________________\n",
      "conv2d_209 (Conv2D)             (None, 31, 31, 32)   1056        max_pooling2d_77[0][0]           \n",
      "__________________________________________________________________________________________________\n",
      "batch_normalization_202 (BatchN (None, 31, 31, 32)   128         conv2d_207[0][0]                 \n",
      "__________________________________________________________________________________________________\n",
      "batch_normalization_204 (BatchN (None, 31, 31, 32)   128         conv2d_209[0][0]                 \n",
      "__________________________________________________________________________________________________\n",
      "activation_251 (Activation)     (None, 31, 31, 32)   0           batch_normalization_202[0][0]    \n",
      "__________________________________________________________________________________________________\n",
      "activation_253 (Activation)     (None, 31, 31, 32)   0           batch_normalization_204[0][0]    \n",
      "__________________________________________________________________________________________________\n",
      "max_pooling2d_78 (MaxPooling2D) (None, 31, 31, 32)   0           max_pooling2d_77[0][0]           \n",
      "__________________________________________________________________________________________________\n",
      "conv2d_206 (Conv2D)             (None, 31, 31, 32)   1056        max_pooling2d_77[0][0]           \n",
      "__________________________________________________________________________________________________\n",
      "conv2d_208 (Conv2D)             (None, 31, 31, 32)   9248        activation_251[0][0]             \n",
      "__________________________________________________________________________________________________\n",
      "conv2d_210 (Conv2D)             (None, 31, 31, 32)   25632       activation_253[0][0]             \n",
      "__________________________________________________________________________________________________\n",
      "conv2d_211 (Conv2D)             (None, 31, 31, 32)   1056        max_pooling2d_78[0][0]           \n",
      "__________________________________________________________________________________________________\n",
      "batch_normalization_201 (BatchN (None, 31, 31, 32)   128         conv2d_206[0][0]                 \n",
      "__________________________________________________________________________________________________\n",
      "batch_normalization_203 (BatchN (None, 31, 31, 32)   128         conv2d_208[0][0]                 \n",
      "__________________________________________________________________________________________________\n",
      "batch_normalization_205 (BatchN (None, 31, 31, 32)   128         conv2d_210[0][0]                 \n",
      "__________________________________________________________________________________________________\n",
      "batch_normalization_206 (BatchN (None, 31, 31, 32)   128         conv2d_211[0][0]                 \n",
      "__________________________________________________________________________________________________\n",
      "activation_250 (Activation)     (None, 31, 31, 32)   0           batch_normalization_201[0][0]    \n",
      "__________________________________________________________________________________________________\n",
      "activation_252 (Activation)     (None, 31, 31, 32)   0           batch_normalization_203[0][0]    \n",
      "__________________________________________________________________________________________________\n",
      "activation_254 (Activation)     (None, 31, 31, 32)   0           batch_normalization_205[0][0]    \n",
      "__________________________________________________________________________________________________\n",
      "activation_255 (Activation)     (None, 31, 31, 32)   0           batch_normalization_206[0][0]    \n",
      "__________________________________________________________________________________________________\n",
      "dropout_81 (Dropout)            (None, 31, 31, 32)   0           activation_250[0][0]             \n",
      "__________________________________________________________________________________________________\n",
      "dropout_82 (Dropout)            (None, 31, 31, 32)   0           activation_252[0][0]             \n",
      "__________________________________________________________________________________________________\n",
      "dropout_83 (Dropout)            (None, 31, 31, 32)   0           activation_254[0][0]             \n",
      "__________________________________________________________________________________________________\n",
      "dropout_84 (Dropout)            (None, 31, 31, 32)   0           activation_255[0][0]             \n",
      "__________________________________________________________________________________________________\n",
      "concatenate_33 (Concatenate)    (None, 31, 31, 128)  0           dropout_81[0][0]                 \n",
      "                                                                 dropout_82[0][0]                 \n",
      "                                                                 dropout_83[0][0]                 \n",
      "                                                                 dropout_84[0][0]                 \n",
      "__________________________________________________________________________________________________\n",
      "max_pooling2d_79 (MaxPooling2D) (None, 15, 15, 128)  0           concatenate_33[0][0]             \n",
      "__________________________________________________________________________________________________\n",
      "conv2d_213 (Conv2D)             (None, 15, 15, 32)   4128        max_pooling2d_79[0][0]           \n",
      "__________________________________________________________________________________________________\n",
      "conv2d_215 (Conv2D)             (None, 15, 15, 32)   4128        max_pooling2d_79[0][0]           \n",
      "__________________________________________________________________________________________________\n",
      "batch_normalization_208 (BatchN (None, 15, 15, 32)   128         conv2d_213[0][0]                 \n",
      "__________________________________________________________________________________________________\n",
      "batch_normalization_210 (BatchN (None, 15, 15, 32)   128         conv2d_215[0][0]                 \n",
      "__________________________________________________________________________________________________\n",
      "activation_257 (Activation)     (None, 15, 15, 32)   0           batch_normalization_208[0][0]    \n",
      "__________________________________________________________________________________________________\n",
      "activation_259 (Activation)     (None, 15, 15, 32)   0           batch_normalization_210[0][0]    \n",
      "__________________________________________________________________________________________________\n",
      "max_pooling2d_80 (MaxPooling2D) (None, 15, 15, 128)  0           max_pooling2d_79[0][0]           \n",
      "__________________________________________________________________________________________________\n",
      "conv2d_212 (Conv2D)             (None, 15, 15, 32)   4128        max_pooling2d_79[0][0]           \n",
      "__________________________________________________________________________________________________\n",
      "conv2d_214 (Conv2D)             (None, 15, 15, 32)   9248        activation_257[0][0]             \n",
      "__________________________________________________________________________________________________\n",
      "conv2d_216 (Conv2D)             (None, 15, 15, 32)   25632       activation_259[0][0]             \n",
      "__________________________________________________________________________________________________\n",
      "conv2d_217 (Conv2D)             (None, 15, 15, 32)   4128        max_pooling2d_80[0][0]           \n",
      "__________________________________________________________________________________________________\n",
      "batch_normalization_207 (BatchN (None, 15, 15, 32)   128         conv2d_212[0][0]                 \n",
      "__________________________________________________________________________________________________\n",
      "batch_normalization_209 (BatchN (None, 15, 15, 32)   128         conv2d_214[0][0]                 \n",
      "__________________________________________________________________________________________________\n",
      "batch_normalization_211 (BatchN (None, 15, 15, 32)   128         conv2d_216[0][0]                 \n",
      "__________________________________________________________________________________________________\n",
      "batch_normalization_212 (BatchN (None, 15, 15, 32)   128         conv2d_217[0][0]                 \n",
      "__________________________________________________________________________________________________\n",
      "activation_256 (Activation)     (None, 15, 15, 32)   0           batch_normalization_207[0][0]    \n",
      "__________________________________________________________________________________________________\n",
      "activation_258 (Activation)     (None, 15, 15, 32)   0           batch_normalization_209[0][0]    \n",
      "__________________________________________________________________________________________________\n",
      "activation_260 (Activation)     (None, 15, 15, 32)   0           batch_normalization_211[0][0]    \n",
      "__________________________________________________________________________________________________\n",
      "activation_261 (Activation)     (None, 15, 15, 32)   0           batch_normalization_212[0][0]    \n",
      "__________________________________________________________________________________________________\n",
      "dropout_85 (Dropout)            (None, 15, 15, 32)   0           activation_256[0][0]             \n",
      "__________________________________________________________________________________________________\n",
      "dropout_86 (Dropout)            (None, 15, 15, 32)   0           activation_258[0][0]             \n",
      "__________________________________________________________________________________________________\n",
      "dropout_87 (Dropout)            (None, 15, 15, 32)   0           activation_260[0][0]             \n",
      "__________________________________________________________________________________________________\n",
      "dropout_88 (Dropout)            (None, 15, 15, 32)   0           activation_261[0][0]             \n",
      "__________________________________________________________________________________________________\n",
      "concatenate_34 (Concatenate)    (None, 15, 15, 128)  0           dropout_85[0][0]                 \n",
      "                                                                 dropout_86[0][0]                 \n",
      "                                                                 dropout_87[0][0]                 \n",
      "                                                                 dropout_88[0][0]                 \n",
      "__________________________________________________________________________________________________\n",
      "max_pooling2d_81 (MaxPooling2D) (None, 7, 7, 128)    0           concatenate_34[0][0]             \n",
      "__________________________________________________________________________________________________\n",
      "conv2d_219 (Conv2D)             (None, 7, 7, 32)     4128        max_pooling2d_81[0][0]           \n",
      "__________________________________________________________________________________________________\n",
      "conv2d_221 (Conv2D)             (None, 7, 7, 32)     4128        max_pooling2d_81[0][0]           \n",
      "__________________________________________________________________________________________________\n",
      "batch_normalization_214 (BatchN (None, 7, 7, 32)     128         conv2d_219[0][0]                 \n",
      "__________________________________________________________________________________________________\n",
      "batch_normalization_216 (BatchN (None, 7, 7, 32)     128         conv2d_221[0][0]                 \n",
      "__________________________________________________________________________________________________\n",
      "activation_263 (Activation)     (None, 7, 7, 32)     0           batch_normalization_214[0][0]    \n",
      "__________________________________________________________________________________________________\n",
      "activation_265 (Activation)     (None, 7, 7, 32)     0           batch_normalization_216[0][0]    \n",
      "__________________________________________________________________________________________________\n",
      "max_pooling2d_82 (MaxPooling2D) (None, 7, 7, 128)    0           max_pooling2d_81[0][0]           \n",
      "__________________________________________________________________________________________________\n",
      "conv2d_218 (Conv2D)             (None, 7, 7, 32)     4128        max_pooling2d_81[0][0]           \n",
      "__________________________________________________________________________________________________\n",
      "conv2d_220 (Conv2D)             (None, 7, 7, 32)     9248        activation_263[0][0]             \n",
      "__________________________________________________________________________________________________\n",
      "conv2d_222 (Conv2D)             (None, 7, 7, 32)     25632       activation_265[0][0]             \n",
      "__________________________________________________________________________________________________\n",
      "conv2d_223 (Conv2D)             (None, 7, 7, 32)     4128        max_pooling2d_82[0][0]           \n",
      "__________________________________________________________________________________________________\n",
      "batch_normalization_213 (BatchN (None, 7, 7, 32)     128         conv2d_218[0][0]                 \n",
      "__________________________________________________________________________________________________\n",
      "batch_normalization_215 (BatchN (None, 7, 7, 32)     128         conv2d_220[0][0]                 \n",
      "__________________________________________________________________________________________________\n",
      "batch_normalization_217 (BatchN (None, 7, 7, 32)     128         conv2d_222[0][0]                 \n",
      "__________________________________________________________________________________________________\n",
      "batch_normalization_218 (BatchN (None, 7, 7, 32)     128         conv2d_223[0][0]                 \n",
      "__________________________________________________________________________________________________\n",
      "activation_262 (Activation)     (None, 7, 7, 32)     0           batch_normalization_213[0][0]    \n",
      "__________________________________________________________________________________________________\n",
      "activation_264 (Activation)     (None, 7, 7, 32)     0           batch_normalization_215[0][0]    \n",
      "__________________________________________________________________________________________________\n",
      "activation_266 (Activation)     (None, 7, 7, 32)     0           batch_normalization_217[0][0]    \n",
      "__________________________________________________________________________________________________\n",
      "activation_267 (Activation)     (None, 7, 7, 32)     0           batch_normalization_218[0][0]    \n",
      "__________________________________________________________________________________________________\n",
      "dropout_89 (Dropout)            (None, 7, 7, 32)     0           activation_262[0][0]             \n",
      "__________________________________________________________________________________________________\n",
      "dropout_90 (Dropout)            (None, 7, 7, 32)     0           activation_264[0][0]             \n",
      "__________________________________________________________________________________________________\n",
      "dropout_91 (Dropout)            (None, 7, 7, 32)     0           activation_266[0][0]             \n",
      "__________________________________________________________________________________________________\n",
      "dropout_92 (Dropout)            (None, 7, 7, 32)     0           activation_267[0][0]             \n",
      "__________________________________________________________________________________________________\n",
      "concatenate_35 (Concatenate)    (None, 7, 7, 128)    0           dropout_89[0][0]                 \n",
      "                                                                 dropout_90[0][0]                 \n",
      "                                                                 dropout_91[0][0]                 \n",
      "                                                                 dropout_92[0][0]                 \n",
      "__________________________________________________________________________________________________\n",
      "conv2d_225 (Conv2D)             (None, 7, 7, 32)     4128        concatenate_35[0][0]             \n",
      "__________________________________________________________________________________________________\n",
      "conv2d_227 (Conv2D)             (None, 7, 7, 32)     4128        concatenate_35[0][0]             \n",
      "__________________________________________________________________________________________________\n",
      "batch_normalization_220 (BatchN (None, 7, 7, 32)     128         conv2d_225[0][0]                 \n",
      "__________________________________________________________________________________________________\n",
      "batch_normalization_222 (BatchN (None, 7, 7, 32)     128         conv2d_227[0][0]                 \n",
      "__________________________________________________________________________________________________\n",
      "activation_269 (Activation)     (None, 7, 7, 32)     0           batch_normalization_220[0][0]    \n",
      "__________________________________________________________________________________________________\n",
      "activation_271 (Activation)     (None, 7, 7, 32)     0           batch_normalization_222[0][0]    \n",
      "__________________________________________________________________________________________________\n",
      "max_pooling2d_83 (MaxPooling2D) (None, 7, 7, 128)    0           concatenate_35[0][0]             \n",
      "__________________________________________________________________________________________________\n",
      "conv2d_224 (Conv2D)             (None, 7, 7, 32)     4128        concatenate_35[0][0]             \n",
      "__________________________________________________________________________________________________\n",
      "conv2d_226 (Conv2D)             (None, 7, 7, 32)     9248        activation_269[0][0]             \n",
      "__________________________________________________________________________________________________\n",
      "conv2d_228 (Conv2D)             (None, 7, 7, 32)     25632       activation_271[0][0]             \n",
      "__________________________________________________________________________________________________\n",
      "conv2d_229 (Conv2D)             (None, 7, 7, 32)     4128        max_pooling2d_83[0][0]           \n",
      "__________________________________________________________________________________________________\n",
      "batch_normalization_219 (BatchN (None, 7, 7, 32)     128         conv2d_224[0][0]                 \n",
      "__________________________________________________________________________________________________\n",
      "batch_normalization_221 (BatchN (None, 7, 7, 32)     128         conv2d_226[0][0]                 \n",
      "__________________________________________________________________________________________________\n",
      "batch_normalization_223 (BatchN (None, 7, 7, 32)     128         conv2d_228[0][0]                 \n",
      "__________________________________________________________________________________________________\n",
      "batch_normalization_224 (BatchN (None, 7, 7, 32)     128         conv2d_229[0][0]                 \n",
      "__________________________________________________________________________________________________\n",
      "activation_268 (Activation)     (None, 7, 7, 32)     0           batch_normalization_219[0][0]    \n",
      "__________________________________________________________________________________________________\n",
      "activation_270 (Activation)     (None, 7, 7, 32)     0           batch_normalization_221[0][0]    \n",
      "__________________________________________________________________________________________________\n",
      "activation_272 (Activation)     (None, 7, 7, 32)     0           batch_normalization_223[0][0]    \n",
      "__________________________________________________________________________________________________\n",
      "activation_273 (Activation)     (None, 7, 7, 32)     0           batch_normalization_224[0][0]    \n",
      "__________________________________________________________________________________________________\n",
      "dropout_93 (Dropout)            (None, 7, 7, 32)     0           activation_268[0][0]             \n",
      "__________________________________________________________________________________________________\n",
      "dropout_94 (Dropout)            (None, 7, 7, 32)     0           activation_270[0][0]             \n",
      "__________________________________________________________________________________________________\n",
      "dropout_95 (Dropout)            (None, 7, 7, 32)     0           activation_272[0][0]             \n",
      "__________________________________________________________________________________________________\n",
      "dropout_96 (Dropout)            (None, 7, 7, 32)     0           activation_273[0][0]             \n",
      "__________________________________________________________________________________________________\n",
      "concatenate_36 (Concatenate)    (None, 7, 7, 128)    0           dropout_93[0][0]                 \n",
      "                                                                 dropout_94[0][0]                 \n",
      "                                                                 dropout_95[0][0]                 \n",
      "                                                                 dropout_96[0][0]                 \n",
      "__________________________________________________________________________________________________\n",
      "max_pooling2d_84 (MaxPooling2D) (None, 3, 3, 128)    0           concatenate_36[0][0]             \n",
      "__________________________________________________________________________________________________\n",
      "conv2d_231 (Conv2D)             (None, 3, 3, 32)     4128        max_pooling2d_84[0][0]           \n",
      "__________________________________________________________________________________________________\n",
      "conv2d_233 (Conv2D)             (None, 3, 3, 32)     4128        max_pooling2d_84[0][0]           \n",
      "__________________________________________________________________________________________________\n",
      "batch_normalization_226 (BatchN (None, 3, 3, 32)     128         conv2d_231[0][0]                 \n",
      "__________________________________________________________________________________________________\n",
      "batch_normalization_228 (BatchN (None, 3, 3, 32)     128         conv2d_233[0][0]                 \n",
      "__________________________________________________________________________________________________\n",
      "activation_275 (Activation)     (None, 3, 3, 32)     0           batch_normalization_226[0][0]    \n",
      "__________________________________________________________________________________________________\n",
      "activation_277 (Activation)     (None, 3, 3, 32)     0           batch_normalization_228[0][0]    \n",
      "__________________________________________________________________________________________________\n",
      "max_pooling2d_85 (MaxPooling2D) (None, 3, 3, 128)    0           max_pooling2d_84[0][0]           \n",
      "__________________________________________________________________________________________________\n",
      "conv2d_230 (Conv2D)             (None, 3, 3, 32)     4128        max_pooling2d_84[0][0]           \n",
      "__________________________________________________________________________________________________\n",
      "conv2d_232 (Conv2D)             (None, 3, 3, 32)     9248        activation_275[0][0]             \n",
      "__________________________________________________________________________________________________\n",
      "conv2d_234 (Conv2D)             (None, 3, 3, 32)     25632       activation_277[0][0]             \n",
      "__________________________________________________________________________________________________\n",
      "conv2d_235 (Conv2D)             (None, 3, 3, 32)     4128        max_pooling2d_85[0][0]           \n",
      "__________________________________________________________________________________________________\n",
      "batch_normalization_225 (BatchN (None, 3, 3, 32)     128         conv2d_230[0][0]                 \n",
      "__________________________________________________________________________________________________\n",
      "batch_normalization_227 (BatchN (None, 3, 3, 32)     128         conv2d_232[0][0]                 \n",
      "__________________________________________________________________________________________________\n",
      "batch_normalization_229 (BatchN (None, 3, 3, 32)     128         conv2d_234[0][0]                 \n",
      "__________________________________________________________________________________________________\n",
      "batch_normalization_230 (BatchN (None, 3, 3, 32)     128         conv2d_235[0][0]                 \n",
      "__________________________________________________________________________________________________\n",
      "activation_274 (Activation)     (None, 3, 3, 32)     0           batch_normalization_225[0][0]    \n",
      "__________________________________________________________________________________________________\n",
      "activation_276 (Activation)     (None, 3, 3, 32)     0           batch_normalization_227[0][0]    \n",
      "__________________________________________________________________________________________________\n",
      "activation_278 (Activation)     (None, 3, 3, 32)     0           batch_normalization_229[0][0]    \n",
      "__________________________________________________________________________________________________\n",
      "activation_279 (Activation)     (None, 3, 3, 32)     0           batch_normalization_230[0][0]    \n",
      "__________________________________________________________________________________________________\n",
      "dropout_97 (Dropout)            (None, 3, 3, 32)     0           activation_274[0][0]             \n",
      "__________________________________________________________________________________________________\n",
      "dropout_98 (Dropout)            (None, 3, 3, 32)     0           activation_276[0][0]             \n",
      "__________________________________________________________________________________________________\n",
      "dropout_99 (Dropout)            (None, 3, 3, 32)     0           activation_278[0][0]             \n",
      "__________________________________________________________________________________________________\n",
      "dropout_100 (Dropout)           (None, 3, 3, 32)     0           activation_279[0][0]             \n",
      "__________________________________________________________________________________________________\n",
      "concatenate_37 (Concatenate)    (None, 3, 3, 128)    0           dropout_97[0][0]                 \n",
      "                                                                 dropout_98[0][0]                 \n",
      "                                                                 dropout_99[0][0]                 \n",
      "                                                                 dropout_100[0][0]                \n",
      "__________________________________________________________________________________________________\n",
      "conv2d_237 (Conv2D)             (None, 3, 3, 32)     4128        concatenate_37[0][0]             \n",
      "__________________________________________________________________________________________________\n",
      "conv2d_239 (Conv2D)             (None, 3, 3, 32)     4128        concatenate_37[0][0]             \n",
      "__________________________________________________________________________________________________\n",
      "batch_normalization_232 (BatchN (None, 3, 3, 32)     128         conv2d_237[0][0]                 \n",
      "__________________________________________________________________________________________________\n",
      "batch_normalization_234 (BatchN (None, 3, 3, 32)     128         conv2d_239[0][0]                 \n",
      "__________________________________________________________________________________________________\n",
      "activation_281 (Activation)     (None, 3, 3, 32)     0           batch_normalization_232[0][0]    \n",
      "__________________________________________________________________________________________________\n",
      "activation_283 (Activation)     (None, 3, 3, 32)     0           batch_normalization_234[0][0]    \n",
      "__________________________________________________________________________________________________\n",
      "max_pooling2d_86 (MaxPooling2D) (None, 3, 3, 128)    0           concatenate_37[0][0]             \n",
      "__________________________________________________________________________________________________\n",
      "conv2d_236 (Conv2D)             (None, 3, 3, 32)     4128        concatenate_37[0][0]             \n",
      "__________________________________________________________________________________________________\n",
      "conv2d_238 (Conv2D)             (None, 3, 3, 32)     9248        activation_281[0][0]             \n",
      "__________________________________________________________________________________________________\n",
      "conv2d_240 (Conv2D)             (None, 3, 3, 32)     25632       activation_283[0][0]             \n",
      "__________________________________________________________________________________________________\n",
      "conv2d_241 (Conv2D)             (None, 3, 3, 32)     4128        max_pooling2d_86[0][0]           \n",
      "__________________________________________________________________________________________________\n",
      "batch_normalization_231 (BatchN (None, 3, 3, 32)     128         conv2d_236[0][0]                 \n",
      "__________________________________________________________________________________________________\n",
      "batch_normalization_233 (BatchN (None, 3, 3, 32)     128         conv2d_238[0][0]                 \n",
      "__________________________________________________________________________________________________\n",
      "batch_normalization_235 (BatchN (None, 3, 3, 32)     128         conv2d_240[0][0]                 \n",
      "__________________________________________________________________________________________________\n",
      "batch_normalization_236 (BatchN (None, 3, 3, 32)     128         conv2d_241[0][0]                 \n",
      "__________________________________________________________________________________________________\n",
      "activation_280 (Activation)     (None, 3, 3, 32)     0           batch_normalization_231[0][0]    \n",
      "__________________________________________________________________________________________________\n",
      "activation_282 (Activation)     (None, 3, 3, 32)     0           batch_normalization_233[0][0]    \n",
      "__________________________________________________________________________________________________\n",
      "activation_284 (Activation)     (None, 3, 3, 32)     0           batch_normalization_235[0][0]    \n",
      "__________________________________________________________________________________________________\n",
      "activation_285 (Activation)     (None, 3, 3, 32)     0           batch_normalization_236[0][0]    \n",
      "__________________________________________________________________________________________________\n",
      "dropout_101 (Dropout)           (None, 3, 3, 32)     0           activation_280[0][0]             \n",
      "__________________________________________________________________________________________________\n",
      "dropout_102 (Dropout)           (None, 3, 3, 32)     0           activation_282[0][0]             \n",
      "__________________________________________________________________________________________________\n",
      "dropout_103 (Dropout)           (None, 3, 3, 32)     0           activation_284[0][0]             \n",
      "__________________________________________________________________________________________________\n",
      "dropout_104 (Dropout)           (None, 3, 3, 32)     0           activation_285[0][0]             \n",
      "__________________________________________________________________________________________________\n",
      "concatenate_38 (Concatenate)    (None, 3, 3, 128)    0           dropout_101[0][0]                \n",
      "                                                                 dropout_102[0][0]                \n",
      "                                                                 dropout_103[0][0]                \n",
      "                                                                 dropout_104[0][0]                \n",
      "__________________________________________________________________________________________________\n",
      "max_pooling2d_87 (MaxPooling2D) (None, 1, 1, 128)    0           concatenate_38[0][0]             \n",
      "__________________________________________________________________________________________________\n",
      "flatten_10 (Flatten)            (None, 128)          0           max_pooling2d_87[0][0]           \n",
      "__________________________________________________________________________________________________\n",
      "dense_18 (Dense)                (None, 128)          16512       flatten_10[0][0]                 \n",
      "__________________________________________________________________________________________________\n",
      "batch_normalization_238 (BatchN (None, 128)          512         dense_18[0][0]                   \n",
      "__________________________________________________________________________________________________\n",
      "activation_287 (Activation)     (None, 128)          0           batch_normalization_238[0][0]    \n",
      "__________________________________________________________________________________________________\n",
      "dropout_106 (Dropout)           (None, 128)          0           activation_287[0][0]             \n",
      "__________________________________________________________________________________________________\n",
      "dense_19 (Dense)                (None, 120)          15480       dropout_106[0][0]                \n",
      "==================================================================================================\n",
      "Total params: 353,976\n",
      "Trainable params: 351,416\n",
      "Non-trainable params: 2,560\n",
      "__________________________________________________________________________________________________\n"
     ]
    }
   ],
   "source": [
    "model5 = model5()\n",
    "model5.summary()"
   ]
  },
  {
   "cell_type": "code",
   "execution_count": 58,
   "metadata": {
    "scrolled": false
   },
   "outputs": [
    {
     "name": "stdout",
     "output_type": "stream",
     "text": [
      "Train on 6512 samples, validate on 1628 samples\n",
      "Epoch 1/30\n",
      " - 38s - loss: 4.8745 - acc: 0.0077 - val_loss: 4.8189 - val_acc: 0.0092\n",
      "Epoch 2/30\n",
      " - 20s - loss: 4.8370 - acc: 0.0103 - val_loss: 4.8106 - val_acc: 0.0068\n",
      "Epoch 3/30\n",
      " - 20s - loss: 4.8177 - acc: 0.0135 - val_loss: 4.7999 - val_acc: 0.0098\n",
      "Epoch 4/30\n",
      " - 20s - loss: 4.7959 - acc: 0.0141 - val_loss: 4.7944 - val_acc: 0.0154\n",
      "Epoch 5/30\n",
      " - 20s - loss: 4.7709 - acc: 0.0163 - val_loss: 4.7687 - val_acc: 0.0129\n",
      "Epoch 6/30\n",
      " - 20s - loss: 4.7559 - acc: 0.0167 - val_loss: 4.7607 - val_acc: 0.0123\n",
      "Epoch 7/30\n",
      " - 20s - loss: 4.7320 - acc: 0.0198 - val_loss: 4.7522 - val_acc: 0.0117\n",
      "Epoch 8/30\n",
      " - 20s - loss: 4.7243 - acc: 0.0212 - val_loss: 4.7451 - val_acc: 0.0160\n",
      "Epoch 9/30\n",
      " - 20s - loss: 4.7031 - acc: 0.0247 - val_loss: 4.7406 - val_acc: 0.0178\n",
      "Epoch 10/30\n",
      " - 20s - loss: 4.6830 - acc: 0.0252 - val_loss: 4.7320 - val_acc: 0.0166\n",
      "Epoch 11/30\n",
      " - 20s - loss: 4.6686 - acc: 0.0269 - val_loss: 4.7202 - val_acc: 0.0203\n",
      "Epoch 12/30\n",
      " - 20s - loss: 4.6575 - acc: 0.0250 - val_loss: 4.7104 - val_acc: 0.0190\n",
      "Epoch 13/30\n",
      " - 20s - loss: 4.6373 - acc: 0.0258 - val_loss: 4.7017 - val_acc: 0.0197\n",
      "Epoch 14/30\n",
      " - 20s - loss: 4.6136 - acc: 0.0287 - val_loss: 4.6968 - val_acc: 0.0197\n",
      "Epoch 15/30\n",
      " - 20s - loss: 4.6053 - acc: 0.0310 - val_loss: 4.6971 - val_acc: 0.0227\n",
      "Epoch 16/30\n",
      " - 20s - loss: 4.5918 - acc: 0.0312 - val_loss: 4.6796 - val_acc: 0.0227\n",
      "Epoch 17/30\n",
      " - 20s - loss: 4.5769 - acc: 0.0299 - val_loss: 4.6804 - val_acc: 0.0258\n",
      "Epoch 18/30\n",
      " - 20s - loss: 4.5673 - acc: 0.0396 - val_loss: 4.6750 - val_acc: 0.0221\n",
      "Epoch 19/30\n",
      " - 20s - loss: 4.5491 - acc: 0.0364 - val_loss: 4.6679 - val_acc: 0.0203\n",
      "Epoch 20/30\n",
      " - 20s - loss: 4.5409 - acc: 0.0415 - val_loss: 4.6621 - val_acc: 0.0233\n",
      "Epoch 21/30\n",
      " - 20s - loss: 4.5274 - acc: 0.0405 - val_loss: 4.6542 - val_acc: 0.0240\n",
      "Epoch 22/30\n",
      " - 20s - loss: 4.5137 - acc: 0.0407 - val_loss: 4.6518 - val_acc: 0.0215\n",
      "Epoch 23/30\n",
      " - 20s - loss: 4.5048 - acc: 0.0448 - val_loss: 4.6439 - val_acc: 0.0209\n",
      "Epoch 24/30\n",
      " - 20s - loss: 4.4951 - acc: 0.0473 - val_loss: 4.6464 - val_acc: 0.0264\n",
      "Epoch 25/30\n",
      " - 20s - loss: 4.4815 - acc: 0.0511 - val_loss: 4.6402 - val_acc: 0.0276\n",
      "Epoch 26/30\n",
      " - 20s - loss: 4.4673 - acc: 0.0473 - val_loss: 4.6347 - val_acc: 0.0221\n",
      "Epoch 27/30\n",
      " - 20s - loss: 4.4601 - acc: 0.0491 - val_loss: 4.6279 - val_acc: 0.0227\n",
      "Epoch 28/30\n",
      " - 20s - loss: 4.4470 - acc: 0.0580 - val_loss: 4.6215 - val_acc: 0.0258\n",
      "Epoch 29/30\n",
      " - 20s - loss: 4.4345 - acc: 0.0593 - val_loss: 4.6184 - val_acc: 0.0252\n",
      "Epoch 30/30\n",
      " - 20s - loss: 4.4290 - acc: 0.0593 - val_loss: 4.6213 - val_acc: 0.0270\n",
      "625.9470419883728  seconds\n",
      "CNN Error: 96.69%\n"
     ]
    },
    {
     "data": {
      "image/png": "[encoded data removed]",
      "text/plain": [
       "<Figure size 432x288 with 1 Axes>"
      ]
     },
     "metadata": {},
     "output_type": "display_data"
    }
   ],
   "source": [
    "adam = Adam(lr=0.0001)\n",
    "model5.compile(loss= 'categorical_crossentropy' , optimizer= adam , metrics=[ 'accuracy' ])\n",
    "\n",
    "# Fit the model\n",
    "t0=time.time()\n",
    "log5 = model5.fit(Xtr, ytr, validation_split=0.2, epochs=30, batch_size=200, verbose=2)\n",
    "t1=time.time()\n",
    "print(t1-t0,\" seconds\")\n",
    "\n",
    "# Final evaluation of the model\n",
    "scores5 = model5.evaluate(Xv, yv, verbose=0)\n",
    "print(\"CNN Error: %.2f%%\" % (100-scores5[1]*100))\n",
    "\n",
    "import matplotlib.pyplot as plt\n",
    "%matplotlib inline\n",
    "plt.plot(log5.history['acc'],'b') \n",
    "plt.plot(log5.history['val_acc'],'r')\n",
    "plt.show()"
   ]
  },
  {
   "cell_type": "code",
   "execution_count": 59,
   "metadata": {
    "collapsed": true,
    "scrolled": true
   },
   "outputs": [
    {
     "data": {
      "image/png": "[encoded data removed]",
      "text/plain": [
       "<Figure size 432x288 with 1 Axes>"
      ]
     },
     "metadata": {},
     "output_type": "display_data"
    }
   ],
   "source": [
    "import matplotlib.pyplot as plt\n",
    "%matplotlib inline\n",
    "plt.plot(log5.history['acc'],'b') \n",
    "plt.plot(log5.history['val_acc'],'r')\n",
    "plt.show()"
   ]
  },
  {
   "cell_type": "code",
   "execution_count": null,
   "metadata": {
    "collapsed": true,
    "scrolled": true
   },
   "outputs": [],
   "source": [
    "#Prevent overfitting by simplifying the model"
   ]
  },
  {
   "cell_type": "code",
   "execution_count": 69,
   "metadata": {
    "collapsed": true,
    "scrolled": true
   },
   "outputs": [],
   "source": [
    "def model6():\n",
    "    inputs = Input(Xtr.shape[1:])\n",
    "    x = Conv2D(32, 1, activation ='relu', padding='same')(inputs)\n",
    "    x = MaxPooling2D((2,2))(x)\n",
    "    i1 = inception3BN(x)\n",
    "    d = MaxPooling2D((2,2))(i1)\n",
    "    d = Flatten()(d)\n",
    "    d = Dense(128)(d)\n",
    "    d = BatchNormalization()(d)\n",
    "    d = Activation('tanh')(d)\n",
    "    d = Dropout(0.5)(d)\n",
    "    out = Dense(120, activation='sigmoid')(d)\n",
    "    model = Model(inputs, out)\n",
    "    return model"
   ]
  },
  {
   "cell_type": "code",
   "execution_count": 70,
   "metadata": {
    "scrolled": false
   },
   "outputs": [
    {
     "name": "stdout",
     "output_type": "stream",
     "text": [
      "__________________________________________________________________________________________________\n",
      "Layer (type)                    Output Shape         Param #     Connected to                     \n",
      "==================================================================================================\n",
      "input_16 (InputLayer)           (None, 125, 125, 3)  0                                            \n",
      "__________________________________________________________________________________________________\n",
      "conv2d_266 (Conv2D)             (None, 125, 125, 32) 128         input_16[0][0]                   \n",
      "__________________________________________________________________________________________________\n",
      "max_pooling2d_100 (MaxPooling2D (None, 62, 62, 32)   0           conv2d_266[0][0]                 \n",
      "__________________________________________________________________________________________________\n",
      "conv2d_268 (Conv2D)             (None, 62, 62, 32)   1056        max_pooling2d_100[0][0]          \n",
      "__________________________________________________________________________________________________\n",
      "conv2d_270 (Conv2D)             (None, 62, 62, 32)   1056        max_pooling2d_100[0][0]          \n",
      "__________________________________________________________________________________________________\n",
      "batch_normalization_260 (BatchN (None, 62, 62, 32)   128         conv2d_268[0][0]                 \n",
      "__________________________________________________________________________________________________\n",
      "batch_normalization_262 (BatchN (None, 62, 62, 32)   128         conv2d_270[0][0]                 \n",
      "__________________________________________________________________________________________________\n",
      "activation_309 (Activation)     (None, 62, 62, 32)   0           batch_normalization_260[0][0]    \n",
      "__________________________________________________________________________________________________\n",
      "activation_311 (Activation)     (None, 62, 62, 32)   0           batch_normalization_262[0][0]    \n",
      "__________________________________________________________________________________________________\n",
      "max_pooling2d_101 (MaxPooling2D (None, 62, 62, 32)   0           max_pooling2d_100[0][0]          \n",
      "__________________________________________________________________________________________________\n",
      "conv2d_267 (Conv2D)             (None, 62, 62, 32)   1056        max_pooling2d_100[0][0]          \n",
      "__________________________________________________________________________________________________\n",
      "conv2d_269 (Conv2D)             (None, 62, 62, 32)   9248        activation_309[0][0]             \n",
      "__________________________________________________________________________________________________\n",
      "conv2d_271 (Conv2D)             (None, 62, 62, 32)   25632       activation_311[0][0]             \n",
      "__________________________________________________________________________________________________\n",
      "conv2d_272 (Conv2D)             (None, 62, 62, 32)   1056        max_pooling2d_101[0][0]          \n",
      "__________________________________________________________________________________________________\n",
      "batch_normalization_259 (BatchN (None, 62, 62, 32)   128         conv2d_267[0][0]                 \n",
      "__________________________________________________________________________________________________\n",
      "batch_normalization_261 (BatchN (None, 62, 62, 32)   128         conv2d_269[0][0]                 \n",
      "__________________________________________________________________________________________________\n",
      "batch_normalization_263 (BatchN (None, 62, 62, 32)   128         conv2d_271[0][0]                 \n",
      "__________________________________________________________________________________________________\n",
      "batch_normalization_264 (BatchN (None, 62, 62, 32)   128         conv2d_272[0][0]                 \n",
      "__________________________________________________________________________________________________\n",
      "activation_308 (Activation)     (None, 62, 62, 32)   0           batch_normalization_259[0][0]    \n",
      "__________________________________________________________________________________________________\n",
      "activation_310 (Activation)     (None, 62, 62, 32)   0           batch_normalization_261[0][0]    \n",
      "__________________________________________________________________________________________________\n",
      "activation_312 (Activation)     (None, 62, 62, 32)   0           batch_normalization_263[0][0]    \n",
      "__________________________________________________________________________________________________\n",
      "activation_313 (Activation)     (None, 62, 62, 32)   0           batch_normalization_264[0][0]    \n",
      "__________________________________________________________________________________________________\n",
      "dropout_121 (Dropout)           (None, 62, 62, 32)   0           activation_308[0][0]             \n",
      "__________________________________________________________________________________________________\n",
      "dropout_122 (Dropout)           (None, 62, 62, 32)   0           activation_310[0][0]             \n",
      "__________________________________________________________________________________________________\n",
      "dropout_123 (Dropout)           (None, 62, 62, 32)   0           activation_312[0][0]             \n",
      "__________________________________________________________________________________________________\n",
      "dropout_124 (Dropout)           (None, 62, 62, 32)   0           activation_313[0][0]             \n",
      "__________________________________________________________________________________________________\n",
      "concatenate_42 (Concatenate)    (None, 62, 62, 128)  0           dropout_121[0][0]                \n",
      "                                                                 dropout_122[0][0]                \n",
      "                                                                 dropout_123[0][0]                \n",
      "                                                                 dropout_124[0][0]                \n",
      "__________________________________________________________________________________________________\n",
      "max_pooling2d_102 (MaxPooling2D (None, 31, 31, 128)  0           concatenate_42[0][0]             \n",
      "__________________________________________________________________________________________________\n",
      "flatten_12 (Flatten)            (None, 123008)       0           max_pooling2d_102[0][0]          \n",
      "__________________________________________________________________________________________________\n",
      "dense_25 (Dense)                (None, 128)          15745152    flatten_12[0][0]                 \n",
      "__________________________________________________________________________________________________\n",
      "batch_normalization_265 (BatchN (None, 128)          512         dense_25[0][0]                   \n",
      "__________________________________________________________________________________________________\n",
      "activation_314 (Activation)     (None, 128)          0           batch_normalization_265[0][0]    \n",
      "__________________________________________________________________________________________________\n",
      "dropout_125 (Dropout)           (None, 128)          0           activation_314[0][0]             \n",
      "__________________________________________________________________________________________________\n",
      "dense_26 (Dense)                (None, 120)          15480       dropout_125[0][0]                \n",
      "==================================================================================================\n",
      "Total params: 15,801,144\n",
      "Trainable params: 15,800,504\n",
      "Non-trainable params: 640\n",
      "__________________________________________________________________________________________________\n"
     ]
    }
   ],
   "source": [
    "model6 = model6()\n",
    "model6.summary()"
   ]
  },
  {
   "cell_type": "code",
   "execution_count": 71,
   "metadata": {
    "scrolled": true
   },
   "outputs": [
    {
     "name": "stdout",
     "output_type": "stream",
     "text": [
      "Train on 6512 samples, validate on 1628 samples\n",
      "Epoch 1/30\n",
      " - 28s - loss: 4.7843 - acc: 0.0172 - val_loss: 4.6857 - val_acc: 0.0246\n",
      "Epoch 2/30\n",
      " - 19s - loss: 4.6145 - acc: 0.0410 - val_loss: 4.6503 - val_acc: 0.0344\n",
      "Epoch 3/30\n",
      " - 19s - loss: 4.5232 - acc: 0.0602 - val_loss: 4.6356 - val_acc: 0.0393\n",
      "Epoch 4/30\n",
      " - 19s - loss: 4.4216 - acc: 0.1020 - val_loss: 4.6337 - val_acc: 0.0369\n",
      "Epoch 5/30\n",
      " - 19s - loss: 4.3411 - acc: 0.1642 - val_loss: 4.6386 - val_acc: 0.0387\n",
      "Epoch 6/30\n",
      " - 19s - loss: 4.2734 - acc: 0.2472 - val_loss: 4.6506 - val_acc: 0.0356\n",
      "Epoch 7/30\n",
      " - 19s - loss: 4.2194 - acc: 0.3825 - val_loss: 4.6568 - val_acc: 0.0412\n",
      "Epoch 8/30\n",
      " - 19s - loss: 4.1807 - acc: 0.5255 - val_loss: 4.6710 - val_acc: 0.0467\n",
      "Epoch 9/30\n",
      " - 19s - loss: 4.1523 - acc: 0.6439 - val_loss: 4.6697 - val_acc: 0.0479\n",
      "Epoch 10/30\n",
      " - 19s - loss: 4.1334 - acc: 0.7396 - val_loss: 4.6770 - val_acc: 0.0356\n",
      "Epoch 11/30\n",
      " - 19s - loss: 4.1171 - acc: 0.8216 - val_loss: 4.6823 - val_acc: 0.0442\n",
      "Epoch 12/30\n",
      " - 19s - loss: 4.1057 - acc: 0.8755 - val_loss: 4.6746 - val_acc: 0.0399\n",
      "Epoch 13/30\n",
      " - 19s - loss: 4.0949 - acc: 0.9172 - val_loss: 4.6779 - val_acc: 0.0399\n",
      "Epoch 14/30\n",
      " - 19s - loss: 4.0864 - acc: 0.9363 - val_loss: 4.6799 - val_acc: 0.0418\n",
      "Epoch 15/30\n",
      " - 19s - loss: 4.0789 - acc: 0.9544 - val_loss: 4.6762 - val_acc: 0.0399\n",
      "Epoch 16/30\n",
      " - 19s - loss: 4.0724 - acc: 0.9588 - val_loss: 4.6857 - val_acc: 0.0399\n",
      "Epoch 17/30\n",
      " - 19s - loss: 4.0650 - acc: 0.9674 - val_loss: 4.6803 - val_acc: 0.0430\n",
      "Epoch 18/30\n",
      " - 19s - loss: 4.0580 - acc: 0.9724 - val_loss: 4.6861 - val_acc: 0.0412\n",
      "Epoch 19/30\n",
      " - 19s - loss: 4.0505 - acc: 0.9714 - val_loss: 4.6914 - val_acc: 0.0375\n",
      "Epoch 20/30\n",
      " - 19s - loss: 4.0411 - acc: 0.9705 - val_loss: 4.6968 - val_acc: 0.0362\n",
      "Epoch 21/30\n",
      " - 19s - loss: 4.0324 - acc: 0.9633 - val_loss: 4.6974 - val_acc: 0.0319\n",
      "Epoch 22/30\n",
      " - 19s - loss: 4.0203 - acc: 0.9555 - val_loss: 4.7061 - val_acc: 0.0326\n",
      "Epoch 23/30\n",
      " - 19s - loss: 4.0026 - acc: 0.9476 - val_loss: 4.7009 - val_acc: 0.0326\n",
      "Epoch 24/30\n",
      " - 19s - loss: 3.9825 - acc: 0.9329 - val_loss: 4.7132 - val_acc: 0.0319\n",
      "Epoch 25/30\n",
      " - 19s - loss: 3.9555 - acc: 0.9102 - val_loss: 4.7210 - val_acc: 0.0289\n",
      "Epoch 26/30\n",
      " - 19s - loss: 3.9175 - acc: 0.8967 - val_loss: 4.7089 - val_acc: 0.0344\n",
      "Epoch 27/30\n",
      " - 19s - loss: 3.8784 - acc: 0.8762 - val_loss: 4.7355 - val_acc: 0.0258\n",
      "Epoch 28/30\n",
      " - 19s - loss: 3.8264 - acc: 0.8678 - val_loss: 4.7233 - val_acc: 0.0270\n",
      "Epoch 29/30\n",
      " - 19s - loss: 3.7654 - acc: 0.8527 - val_loss: 4.7404 - val_acc: 0.0307\n",
      "Epoch 30/30\n",
      " - 19s - loss: 3.6960 - acc: 0.8389 - val_loss: 4.7291 - val_acc: 0.0264\n",
      "572.6800756454468  seconds\n",
      "CNN Error: 96.69%\n"
     ]
    },
    {
     "data": {
      "image/png": "[encoded data removed]",
      "text/plain": [
       "<Figure size 432x288 with 1 Axes>"
      ]
     },
     "metadata": {},
     "output_type": "display_data"
    }
   ],
   "source": [
    "adam = Adam(lr=0.0001)\n",
    "model6.compile(loss= 'categorical_crossentropy' , optimizer= adam , metrics=[ 'accuracy' ])\n",
    "\n",
    "# Fit the model\n",
    "t0=time.time()\n",
    "log6 = model6.fit(Xtr, ytr, validation_split=0.2, epochs=30, batch_size=200, verbose=2)\n",
    "t1=time.time()\n",
    "print(t1-t0,\" seconds\")\n",
    "\n",
    "# Final evaluation of the model\n",
    "scores6 = model6.evaluate(Xv, yv, verbose=0)\n",
    "print(\"CNN Error: %.2f%%\" % (100-scores5[1]*100))\n",
    "\n",
    "import matplotlib.pyplot as plt\n",
    "%matplotlib inline\n",
    "plt.plot(log6.history['acc'],'b') \n",
    "plt.plot(log6.history['val_acc'],'r')\n",
    "plt.show()"
   ]
  },
  {
   "cell_type": "code",
   "execution_count": 72,
   "metadata": {
    "scrolled": true
   },
   "outputs": [
    {
     "data": {
      "image/png": "[encoded data removed]",
      "text/plain": [
       "<Figure size 432x288 with 1 Axes>"
      ]
     },
     "metadata": {},
     "output_type": "display_data"
    },
    {
     "name": "stdout",
     "output_type": "stream",
     "text": [
      "CNN Error: 96.69%\n"
     ]
    }
   ],
   "source": [
    "import matplotlib.pyplot as plt\n",
    "%matplotlib inline\n",
    "plt.plot(log6.history['acc'],'b') \n",
    "plt.plot(log6.history['val_acc'],'r')\n",
    "plt.show()\n",
    "scores6 = model6.evaluate(Xv, yv, verbose=0)\n",
    "print(\"CNN Error: %.2f%%\" % (100-scores5[1]*100))\n"
   ]
  },
  {
   "cell_type": "code",
   "execution_count": 73,
   "metadata": {
    "collapsed": true,
    "scrolled": true
   },
   "outputs": [],
   "source": [
    "from keras.regularizers import l2 # L2-regularisation\n",
    "\n",
    "l2_lambda = 0.0001\n"
   ]
  },
  {
   "cell_type": "code",
   "execution_count": 74,
   "metadata": {
    "collapsed": true,
    "scrolled": true
   },
   "outputs": [],
   "source": [
    "def inception2L(x, n = 32):\n",
    "    p1 = Conv2D(n, 1, padding='same', kernel_regularizer=l2(l2_lambda))(x)\n",
    "    p1 = BatchNormalization()(p1)\n",
    "    p1 = Activation('relu')(p1)\n",
    "    p1 = Dropout(0.01)(p1)\n",
    "    p2 = Conv2D(n, 1, padding='same', kernel_regularizer=l2(l2_lambda))(x)\n",
    "    p2 = BatchNormalization()(p2)\n",
    "    p2 = Activation('relu')(p2)\n",
    "    p2 = Conv2D(n, 3, padding='same', kernel_regularizer=l2(l2_lambda))(p2)\n",
    "    p2 = BatchNormalization()(p2)\n",
    "    p2 = Activation('relu')(p2)\n",
    "    p2 = Dropout(0.01)(p2)\n",
    "    p3 = Conv2D(n, 1, padding='same', kernel_regularizer=l2(l2_lambda))(x)\n",
    "    p3 = BatchNormalization()(p3)\n",
    "    p3 = Activation('relu')(p3)    \n",
    "    p3 = Conv2D(n, 5, padding='same', kernel_regularizer=l2(l2_lambda))(p3)\n",
    "    p3 = BatchNormalization()(p3)\n",
    "    p3 = Activation('relu')(p3)\n",
    "    p3 = Dropout(0.01)(p3)\n",
    "    p4 = MaxPooling2D((3,3), strides=(1, 1), padding='same')(x)    \n",
    "    p4 = Conv2D(n, 1, padding='same', kernel_regularizer=l2(l2_lambda))(p4)\n",
    "    p4 = BatchNormalization()(p4)\n",
    "    p4 = Activation('relu')(p4)\n",
    "    p4 = Dropout(0.01)(p4)\n",
    "\n",
    "    c =  Concatenate(axis=-1)([p1,p2,p3,p4])\n",
    "    return c"
   ]
  },
  {
   "cell_type": "code",
   "execution_count": 78,
   "metadata": {
    "collapsed": true,
    "scrolled": true
   },
   "outputs": [],
   "source": [
    "def model7():\n",
    "    inputs = Input(Xtr.shape[1:])\n",
    "    x = Conv2D(32, 1, activation ='relu', padding='same')(inputs)\n",
    "    x = MaxPooling2D((2,2))(x)\n",
    "    i1 = inception2L(x)\n",
    "    d = MaxPooling2D((2,2))(i1)\n",
    "    d = Flatten()(d)\n",
    "    d = Dense(128)(d)\n",
    "    d = BatchNormalization()(d)\n",
    "    d = Activation('tanh')(d)\n",
    "    d = Dropout(0.5)(d)\n",
    "    out = Dense(120, activation='sigmoid')(d)\n",
    "    model = Model(inputs, out)\n",
    "    return model"
   ]
  },
  {
   "cell_type": "code",
   "execution_count": 79,
   "metadata": {},
   "outputs": [
    {
     "name": "stdout",
     "output_type": "stream",
     "text": [
      "__________________________________________________________________________________________________\n",
      "Layer (type)                    Output Shape         Param #     Connected to                     \n",
      "==================================================================================================\n",
      "input_18 (InputLayer)           (None, 125, 125, 3)  0                                            \n",
      "__________________________________________________________________________________________________\n",
      "conv2d_274 (Conv2D)             (None, 125, 125, 32) 128         input_18[0][0]                   \n",
      "__________________________________________________________________________________________________\n",
      "max_pooling2d_104 (MaxPooling2D (None, 62, 62, 32)   0           conv2d_274[0][0]                 \n",
      "__________________________________________________________________________________________________\n",
      "conv2d_276 (Conv2D)             (None, 62, 62, 32)   1056        max_pooling2d_104[0][0]          \n",
      "__________________________________________________________________________________________________\n",
      "conv2d_278 (Conv2D)             (None, 62, 62, 32)   1056        max_pooling2d_104[0][0]          \n",
      "__________________________________________________________________________________________________\n",
      "batch_normalization_267 (BatchN (None, 62, 62, 32)   128         conv2d_276[0][0]                 \n",
      "__________________________________________________________________________________________________\n",
      "batch_normalization_269 (BatchN (None, 62, 62, 32)   128         conv2d_278[0][0]                 \n",
      "__________________________________________________________________________________________________\n",
      "activation_316 (Activation)     (None, 62, 62, 32)   0           batch_normalization_267[0][0]    \n",
      "__________________________________________________________________________________________________\n",
      "activation_318 (Activation)     (None, 62, 62, 32)   0           batch_normalization_269[0][0]    \n",
      "__________________________________________________________________________________________________\n",
      "max_pooling2d_105 (MaxPooling2D (None, 62, 62, 32)   0           max_pooling2d_104[0][0]          \n",
      "__________________________________________________________________________________________________\n",
      "conv2d_275 (Conv2D)             (None, 62, 62, 32)   1056        max_pooling2d_104[0][0]          \n",
      "__________________________________________________________________________________________________\n",
      "conv2d_277 (Conv2D)             (None, 62, 62, 32)   9248        activation_316[0][0]             \n",
      "__________________________________________________________________________________________________\n",
      "conv2d_279 (Conv2D)             (None, 62, 62, 32)   25632       activation_318[0][0]             \n",
      "__________________________________________________________________________________________________\n",
      "conv2d_280 (Conv2D)             (None, 62, 62, 32)   1056        max_pooling2d_105[0][0]          \n",
      "__________________________________________________________________________________________________\n",
      "batch_normalization_266 (BatchN (None, 62, 62, 32)   128         conv2d_275[0][0]                 \n",
      "__________________________________________________________________________________________________\n",
      "batch_normalization_268 (BatchN (None, 62, 62, 32)   128         conv2d_277[0][0]                 \n",
      "__________________________________________________________________________________________________\n",
      "batch_normalization_270 (BatchN (None, 62, 62, 32)   128         conv2d_279[0][0]                 \n",
      "__________________________________________________________________________________________________\n",
      "batch_normalization_271 (BatchN (None, 62, 62, 32)   128         conv2d_280[0][0]                 \n",
      "__________________________________________________________________________________________________\n",
      "activation_315 (Activation)     (None, 62, 62, 32)   0           batch_normalization_266[0][0]    \n",
      "__________________________________________________________________________________________________\n",
      "activation_317 (Activation)     (None, 62, 62, 32)   0           batch_normalization_268[0][0]    \n",
      "__________________________________________________________________________________________________\n",
      "activation_319 (Activation)     (None, 62, 62, 32)   0           batch_normalization_270[0][0]    \n",
      "__________________________________________________________________________________________________\n",
      "activation_320 (Activation)     (None, 62, 62, 32)   0           batch_normalization_271[0][0]    \n",
      "__________________________________________________________________________________________________\n",
      "dropout_126 (Dropout)           (None, 62, 62, 32)   0           activation_315[0][0]             \n",
      "__________________________________________________________________________________________________\n",
      "dropout_127 (Dropout)           (None, 62, 62, 32)   0           activation_317[0][0]             \n",
      "__________________________________________________________________________________________________\n",
      "dropout_128 (Dropout)           (None, 62, 62, 32)   0           activation_319[0][0]             \n",
      "__________________________________________________________________________________________________\n",
      "dropout_129 (Dropout)           (None, 62, 62, 32)   0           activation_320[0][0]             \n",
      "__________________________________________________________________________________________________\n",
      "concatenate_43 (Concatenate)    (None, 62, 62, 128)  0           dropout_126[0][0]                \n",
      "                                                                 dropout_127[0][0]                \n",
      "                                                                 dropout_128[0][0]                \n",
      "                                                                 dropout_129[0][0]                \n",
      "__________________________________________________________________________________________________\n",
      "max_pooling2d_106 (MaxPooling2D (None, 31, 31, 128)  0           concatenate_43[0][0]             \n",
      "__________________________________________________________________________________________________\n",
      "flatten_13 (Flatten)            (None, 123008)       0           max_pooling2d_106[0][0]          \n",
      "__________________________________________________________________________________________________\n",
      "dense_27 (Dense)                (None, 128)          15745152    flatten_13[0][0]                 \n",
      "__________________________________________________________________________________________________\n",
      "batch_normalization_272 (BatchN (None, 128)          512         dense_27[0][0]                   \n",
      "__________________________________________________________________________________________________\n",
      "activation_321 (Activation)     (None, 128)          0           batch_normalization_272[0][0]    \n",
      "__________________________________________________________________________________________________\n",
      "dropout_130 (Dropout)           (None, 128)          0           activation_321[0][0]             \n",
      "__________________________________________________________________________________________________\n",
      "dense_28 (Dense)                (None, 120)          15480       dropout_130[0][0]                \n",
      "==================================================================================================\n",
      "Total params: 15,801,144\n",
      "Trainable params: 15,800,504\n",
      "Non-trainable params: 640\n",
      "__________________________________________________________________________________________________\n"
     ]
    }
   ],
   "source": [
    "model7=model7()\n",
    "model7.summary()"
   ]
  },
  {
   "cell_type": "code",
   "execution_count": 80,
   "metadata": {
    "scrolled": true
   },
   "outputs": [
    {
     "name": "stdout",
     "output_type": "stream",
     "text": [
      "Train on 6512 samples, validate on 1628 samples\n",
      "Epoch 1/30\n",
      " - 27s - loss: 4.8005 - acc: 0.0164 - val_loss: 4.7163 - val_acc: 0.0246\n",
      "Epoch 2/30\n",
      " - 19s - loss: 4.5993 - acc: 0.0416 - val_loss: 4.6672 - val_acc: 0.0369\n",
      "Epoch 3/30\n",
      " - 19s - loss: 4.4837 - acc: 0.0756 - val_loss: 4.6727 - val_acc: 0.0393\n",
      "Epoch 4/30\n",
      " - 19s - loss: 4.3739 - acc: 0.1563 - val_loss: 4.6761 - val_acc: 0.0332\n",
      "Epoch 5/30\n",
      " - 19s - loss: 4.2838 - acc: 0.2746 - val_loss: 4.6936 - val_acc: 0.0313\n",
      "Epoch 6/30\n",
      " - 19s - loss: 4.2220 - acc: 0.4427 - val_loss: 4.6874 - val_acc: 0.0326\n",
      "Epoch 7/30\n",
      " - 19s - loss: 4.1811 - acc: 0.6069 - val_loss: 4.7012 - val_acc: 0.0375\n",
      "Epoch 8/30\n",
      " - 19s - loss: 4.1529 - acc: 0.7468 - val_loss: 4.6891 - val_acc: 0.0387\n",
      "Epoch 9/30\n",
      " - 19s - loss: 4.1322 - acc: 0.8279 - val_loss: 4.6998 - val_acc: 0.0412\n",
      "Epoch 10/30\n",
      " - 19s - loss: 4.1186 - acc: 0.8890 - val_loss: 4.6923 - val_acc: 0.0461\n",
      "Epoch 11/30\n",
      " - 19s - loss: 4.1056 - acc: 0.9238 - val_loss: 4.6980 - val_acc: 0.0442\n",
      "Epoch 12/30\n",
      " - 19s - loss: 4.0951 - acc: 0.9398 - val_loss: 4.7000 - val_acc: 0.0405\n",
      "Epoch 13/30\n",
      " - 19s - loss: 4.0836 - acc: 0.9507 - val_loss: 4.7018 - val_acc: 0.0412\n",
      "Epoch 14/30\n",
      " - 19s - loss: 4.0709 - acc: 0.9550 - val_loss: 4.7096 - val_acc: 0.0405\n",
      "Epoch 15/30\n",
      " - 19s - loss: 4.0581 - acc: 0.9561 - val_loss: 4.7168 - val_acc: 0.0301\n",
      "Epoch 16/30\n",
      " - 19s - loss: 4.0415 - acc: 0.9469 - val_loss: 4.7250 - val_acc: 0.0350\n",
      "Epoch 17/30\n",
      " - 19s - loss: 4.0210 - acc: 0.9312 - val_loss: 4.7296 - val_acc: 0.0362\n",
      "Epoch 18/30\n",
      " - 19s - loss: 3.9936 - acc: 0.9306 - val_loss: 4.7318 - val_acc: 0.0246\n",
      "Epoch 19/30\n",
      " - 19s - loss: 3.9623 - acc: 0.9211 - val_loss: 4.7489 - val_acc: 0.0307\n",
      "Epoch 20/30\n",
      " - 19s - loss: 3.9203 - acc: 0.9134 - val_loss: 4.7490 - val_acc: 0.0362\n",
      "Epoch 21/30\n",
      " - 19s - loss: 3.8733 - acc: 0.9028 - val_loss: 4.7538 - val_acc: 0.0307\n",
      "Epoch 22/30\n",
      " - 19s - loss: 3.8214 - acc: 0.8940 - val_loss: 4.7645 - val_acc: 0.0258\n",
      "Epoch 23/30\n",
      " - 19s - loss: 3.7569 - acc: 0.8900 - val_loss: 4.7776 - val_acc: 0.0307\n",
      "Epoch 24/30\n",
      " - 19s - loss: 3.6815 - acc: 0.8781 - val_loss: 4.7637 - val_acc: 0.0258\n",
      "Epoch 25/30\n",
      " - 19s - loss: 3.5995 - acc: 0.8739 - val_loss: 4.7528 - val_acc: 0.0326\n",
      "Epoch 26/30\n",
      " - 19s - loss: 3.5104 - acc: 0.8742 - val_loss: 4.7689 - val_acc: 0.0209\n",
      "Epoch 27/30\n",
      " - 19s - loss: 3.4093 - acc: 0.8713 - val_loss: 4.7588 - val_acc: 0.0326\n",
      "Epoch 28/30\n",
      " - 19s - loss: 3.3145 - acc: 0.8644 - val_loss: 4.7788 - val_acc: 0.0227\n",
      "Epoch 29/30\n",
      " - 19s - loss: 3.2065 - acc: 0.8606 - val_loss: 4.7683 - val_acc: 0.0233\n",
      "Epoch 30/30\n",
      " - 19s - loss: 3.1022 - acc: 0.8538 - val_loss: 4.7574 - val_acc: 0.0326\n",
      "573.1249887943268  seconds\n",
      "CNN7 Error: 96.69%\n"
     ]
    },
    {
     "data": {
      "image/png": "[encoded data removed]",
      "text/plain": [
       "<Figure size 432x288 with 1 Axes>"
      ]
     },
     "metadata": {},
     "output_type": "display_data"
    }
   ],
   "source": [
    "adam = Adam(lr=0.0001)\n",
    "model7.compile(loss= 'categorical_crossentropy' , optimizer= adam , metrics=[ 'accuracy' ])\n",
    "\n",
    "# Fit the model\n",
    "t0=time.time()\n",
    "log7 = model7.fit(Xtr, ytr, validation_split=0.2, epochs=30, batch_size=200, verbose=2)\n",
    "t1=time.time()\n",
    "print(t1-t0,\" seconds\")\n",
    "\n",
    "# Final evaluation of the model\n",
    "scores7 = model7.evaluate(Xv, yv, verbose=0)\n",
    "print(\"CNN7 Error: %.2f%%\" % (100-scores5[1]*100))\n",
    "\n",
    "import matplotlib.pyplot as plt\n",
    "%matplotlib inline\n",
    "plt.plot(log7.history['acc'],'b') \n",
    "plt.plot(log7.history['val_acc'],'r')\n",
    "plt.show()"
   ]
  },
  {
   "cell_type": "code",
   "execution_count": 82,
   "metadata": {
    "scrolled": true
   },
   "outputs": [
    {
     "name": "stdout",
     "output_type": "stream",
     "text": [
      "CNN7 Error: 96.69%\n"
     ]
    },
    {
     "data": {
      "image/png": "[encoded data removed]",
      "text/plain": [
       "<Figure size 432x288 with 1 Axes>"
      ]
     },
     "metadata": {},
     "output_type": "display_data"
    }
   ],
   "source": [
    "scores7 = model7.evaluate(Xv, yv, verbose=0)\n",
    "print(\"CNN7 Error: %.2f%%\" % (100-scores5[1]*100))\n",
    "\n",
    "import matplotlib.pyplot as plt\n",
    "%matplotlib inline\n",
    "plt.plot(log7.history['loss'],'b') \n",
    "plt.plot(log7.history['val_loss'],'r')\n",
    "plt.show()"
   ]
  },
  {
   "cell_type": "code",
   "execution_count": 83,
   "metadata": {
    "colab": {
     "autoexec": {
      "startup": false,
      "wait_interval": 0
     }
    },
    "colab_type": "code",
    "id": "XQN4DAsgs1Wq",
    "scrolled": true
   },
   "outputs": [
    {
     "data": {
      "image/png": "[encoded data removed]",
      "text/plain": [
       "<Figure size 432x288 with 1 Axes>"
      ]
     },
     "metadata": {},
     "output_type": "display_data"
    }
   ],
   "source": [
    "plt.plot(log7.history['val_acc'],'r')\n",
    "plt.show()"
   ]
  },
  {
   "cell_type": "code",
   "execution_count": 85,
   "metadata": {
    "colab": {
     "autoexec": {
      "startup": false,
      "wait_interval": 0
     }
    },
    "colab_type": "code",
    "id": "HTzp63aLuYSQ",
    "scrolled": true
   },
   "outputs": [
    {
     "name": "stdout",
     "output_type": "stream",
     "text": [
      "Train on 6512 samples, validate on 1628 samples\n",
      "Epoch 1/30\n",
      " - 29s - loss: 3.0051 - acc: 0.8564 - val_loss: 4.7551 - val_acc: 0.0258\n",
      "Epoch 2/30\n",
      " - 18s - loss: 2.9263 - acc: 0.8576 - val_loss: 4.7654 - val_acc: 0.0276\n",
      "Epoch 3/30\n",
      " - 18s - loss: 2.8453 - acc: 0.8546 - val_loss: 4.7483 - val_acc: 0.0289\n",
      "Epoch 4/30\n",
      " - 18s - loss: 2.7867 - acc: 0.8546 - val_loss: 4.7565 - val_acc: 0.0362\n",
      "Epoch 5/30\n",
      " - 18s - loss: 2.7173 - acc: 0.8510 - val_loss: 4.7633 - val_acc: 0.0295\n",
      "Epoch 6/30\n",
      " - 18s - loss: 2.6538 - acc: 0.8533 - val_loss: 4.7635 - val_acc: 0.0313\n",
      "Epoch 7/30\n",
      " - 18s - loss: 2.5912 - acc: 0.8460 - val_loss: 4.7576 - val_acc: 0.0362\n",
      "Epoch 8/30\n",
      " - 18s - loss: 2.5256 - acc: 0.8449 - val_loss: 4.7604 - val_acc: 0.0350\n",
      "Epoch 9/30\n",
      " - 18s - loss: 2.4738 - acc: 0.8421 - val_loss: 4.7706 - val_acc: 0.0276\n",
      "Epoch 10/30\n",
      " - 18s - loss: 2.4100 - acc: 0.8397 - val_loss: 4.7583 - val_acc: 0.0264\n",
      "Epoch 11/30\n",
      " - 18s - loss: 2.3561 - acc: 0.8421 - val_loss: 4.7569 - val_acc: 0.0319\n",
      "Epoch 12/30\n",
      " - 18s - loss: 2.3186 - acc: 0.8368 - val_loss: 4.7681 - val_acc: 0.0246\n",
      "Epoch 13/30\n",
      " - 18s - loss: 2.2650 - acc: 0.8345 - val_loss: 4.7615 - val_acc: 0.0276\n",
      "Epoch 14/30\n",
      " - 18s - loss: 2.2079 - acc: 0.8358 - val_loss: 4.7733 - val_acc: 0.0276\n",
      "Epoch 15/30\n",
      " - 18s - loss: 2.1435 - acc: 0.8332 - val_loss: 4.7608 - val_acc: 0.0276\n",
      "Epoch 16/30\n",
      " - 18s - loss: 2.1171 - acc: 0.8308 - val_loss: 4.7670 - val_acc: 0.0276\n",
      "Epoch 17/30\n",
      " - 18s - loss: 2.0596 - acc: 0.8294 - val_loss: 4.7667 - val_acc: 0.0307\n",
      "Epoch 18/30\n",
      " - 18s - loss: 2.0104 - acc: 0.8288 - val_loss: 4.7679 - val_acc: 0.0252\n",
      "Epoch 19/30\n",
      " - 18s - loss: 1.9700 - acc: 0.8260 - val_loss: 4.7657 - val_acc: 0.0283\n",
      "Epoch 20/30\n",
      " - 18s - loss: 1.9323 - acc: 0.8263 - val_loss: 4.7768 - val_acc: 0.0307\n",
      "Epoch 21/30\n",
      " - 18s - loss: 1.8976 - acc: 0.8259 - val_loss: 4.7660 - val_acc: 0.0295\n",
      "Epoch 22/30\n",
      " - 18s - loss: 1.8592 - acc: 0.8223 - val_loss: 4.7700 - val_acc: 0.0326\n",
      "Epoch 23/30\n",
      " - 18s - loss: 1.8329 - acc: 0.8216 - val_loss: 4.7622 - val_acc: 0.0240\n",
      "Epoch 24/30\n",
      " - 18s - loss: 1.7866 - acc: 0.8196 - val_loss: 4.7672 - val_acc: 0.0307\n",
      "Epoch 25/30\n",
      " - 18s - loss: 1.7599 - acc: 0.8197 - val_loss: 4.7655 - val_acc: 0.0338\n",
      "Epoch 26/30\n",
      " - 18s - loss: 1.7368 - acc: 0.8188 - val_loss: 4.7799 - val_acc: 0.0289\n",
      "Epoch 27/30\n",
      " - 18s - loss: 1.6992 - acc: 0.8208 - val_loss: 4.7645 - val_acc: 0.0301\n",
      "Epoch 28/30\n",
      " - 18s - loss: 1.6727 - acc: 0.8202 - val_loss: 4.7632 - val_acc: 0.0301\n",
      "Epoch 29/30\n",
      " - 18s - loss: 1.6461 - acc: 0.8189 - val_loss: 4.7649 - val_acc: 0.0246\n",
      "Epoch 30/30\n",
      " - 18s - loss: 1.6181 - acc: 0.8183 - val_loss: 4.7670 - val_acc: 0.0270\n",
      "565.5241923332214  seconds\n",
      "CNN7 Error: 96.69%\n"
     ]
    },
    {
     "data": {
      "image/png": "[encoded data removed]",
      "text/plain": [
       "<Figure size 432x288 with 1 Axes>"
      ]
     },
     "metadata": {},
     "output_type": "display_data"
    }
   ],
   "source": [
    "#increase batch size\n",
    "adam = Adam(lr=0.0001)\n",
    "model7.compile(loss= 'categorical_crossentropy' , optimizer= adam , metrics=[ 'accuracy' ])\n",
    "\n",
    "# Fit the model\n",
    "t0=time.time()\n",
    "log7 = model7.fit(Xtr, ytr, validation_split=0.2, epochs=30, batch_size=256, verbose=2)\n",
    "t1=time.time()\n",
    "print(t1-t0,\" seconds\")\n",
    "\n",
    "# Final evaluation of the model\n",
    "scores7 = model7.evaluate(Xv, yv, verbose=0)\n",
    "print(\"CNN7 Error: %.2f%%\" % (100-scores5[1]*100))\n",
    "\n",
    "import matplotlib.pyplot as plt\n",
    "%matplotlib inline\n",
    "plt.plot(log7.history['acc'],'b') \n",
    "plt.plot(log7.history['val_acc'],'r')\n",
    "plt.show()"
   ]
  },
  {
   "cell_type": "code",
   "execution_count": 86,
   "metadata": {
    "colab": {
     "autoexec": {
      "startup": false,
      "wait_interval": 0
     }
    },
    "colab_type": "code",
    "id": "WgRTB9U1orAp",
    "scrolled": true
   },
   "outputs": [
    {
     "data": {
      "image/png": "[encoded data removed]",
      "text/plain": [
       "<Figure size 432x288 with 1 Axes>"
      ]
     },
     "metadata": {},
     "output_type": "display_data"
    }
   ],
   "source": [
    "plt.plot(log7.history['val_acc'],'r')\n",
    "plt.show()"
   ]
  },
  {
   "cell_type": "code",
   "execution_count": 90,
   "metadata": {
    "collapsed": true
   },
   "outputs": [],
   "source": [
    "def model8():\n",
    "    inputs = Input(Xtr.shape[1:])\n",
    "    x = Conv2D(32, 1, activation ='relu', padding='same')(inputs)\n",
    "    x = MaxPooling2D((2,2))(x)\n",
    "    i1 = inception2L(x)\n",
    "    d = MaxPooling2D((2,2))(i1)\n",
    "    d = Flatten()(d)\n",
    "    d = Dense(128)(d)\n",
    "    d = BatchNormalization()(d)\n",
    "    d = Activation('tanh')(d)\n",
    "    d = Dropout(0.5)(d)\n",
    "    out = Dense(120, activation='sigmoid')(d)\n",
    "    model = Model(inputs, out)\n",
    "    return model\n",
    "\n",
    "def train(model, lr=0.001, batch=32, epochs=20):\n",
    "    adam = optimizers.Adam(lr=lr) \n",
    "    model.compile(optimizer=adam, loss ='binary_crossentropy', metrics=['accuracy'])\n",
    "    result = model.fit(Xtr, ytr, batch_size=batch, epochs=epochs,verbose=0)\n",
    "    return result.history"
   ]
  },
  {
   "cell_type": "code",
   "execution_count": null,
   "metadata": {
    "scrolled": true
   },
   "outputs": [
    {
     "name": "stdout",
     "output_type": "stream",
     "text": [
      "10 0.1 2 0.992\n",
      "10 0.01 1 0.992\n",
      "10 0.001 8 0.992\n",
      "10 0.0001 9 0.991\n",
      "10 1e-05 9 0.731\n",
      "20 0.1 3 0.992\n",
      "20 0.01 19 0.992\n",
      "20 0.001 19 0.992\n"
     ]
    }
   ],
   "source": [
    "for ep in [10,20,50,100,200]:\n",
    "    for lr in [0.1,0.01,0.001,0.0001,0.00001]:\n",
    "        model = model8()\n",
    "        res = train(model,lr,32,ep)\n",
    "        print(ep,lr,np.argmax(res['acc']),'{:.3f}'.format(max(res['acc'])))"
   ]
  },
  {
   "cell_type": "code",
   "execution_count": null,
   "metadata": {
    "collapsed": true
   },
   "outputs": [],
   "source": [
    "10 0.1 2 0.992\n",
    "10 0.01 1 0.992\n",
    "10 0.001 8 0.992\n",
    "10 0.0001 9 0.991\n",
    "10 1e-05 9 0.731\n",
    "20 0.1 3 0.992\n",
    "20 0.01 19 0.992\n",
    "20 0.001 19 0.992"
   ]
  },
  {
   "cell_type": "code",
   "execution_count": null,
   "metadata": {
    "collapsed": true
   },
   "outputs": [],
   "source": [
    "import matplotlib.pyplot as plt\n",
    "%matplotlib inline\n",
    "\n",
    "for ep in [10,20,50,100,200]:\n",
    "    for lr in [0.1,0.01,0.001,0.0001,0.0001]:\n",
    "        model = model7()\n",
    "        res = train(model,lr,32,ep)\n",
    "        plt.ylim(0,1)\n",
    "        plt.xlim(0,ep)\n",
    "        plt.plot(res['acc'],label='lr='+str(lr)+' ep='+str(ep))\n",
    "        plt.legend()\n",
    "    plt.show()    "
   ]
  },
  {
   "cell_type": "code",
   "execution_count": null,
   "metadata": {
    "collapsed": true
   },
   "outputs": [],
   "source": [
    "model = model8()\n",
    "res = model.fit(Xtr, ytr, validation_split=0.33, epochs=20, batch_size=32)"
   ]
  },
  {
   "cell_type": "code",
   "execution_count": null,
   "metadata": {
    "collapsed": true
   },
   "outputs": [],
   "source": [
    "lt.plot(res.history['acc'],'b')\n",
    "plt.plot(res.history['val_acc'],'g')"
   ]
  },
  {
   "cell_type": "code",
   "execution_count": null,
   "metadata": {
    "collapsed": true
   },
   "outputs": [],
   "source": [
    "def train_val(model, lr=0.001, batch=32, epochs=20): # runtraining with validation holdout\n",
    "    adam = optimizers.Adam(lr=lr) \n",
    "    model.compile(optimizer=adam, loss ='binary_crossentropy', metrics=['accuracy'])\n",
    "    result = model.fit(Xtr, ytr, batch_size=batch, epochs=epochs,validation_split=0.2, verbose=0)\n",
    "    return result.history, model\n",
    "\n",
    "def runeval(model):    \n",
    "    t0=time.time()\n",
    "    res, model = train_val(model,lr=0.001,batch=32,epochs=100)\n",
    "    t1=time.time() #I'm timing to check training time vs model size\n",
    "    metric = model.evaluate(Xv, yv, batch_size=32, verbose=0) \n",
    "    print(nlayer, '{:.3f}'.format(t1-t0), model.count_params(),'acc_max_tr:','{:.3f}'.format(max(res['acc'])),'acc_max_val:','{:.3f}'.format(max(res['val_acc'])),'@',np.argmax(res['val_acc']),'acc_test:',metric[1])\n",
    "\n",
    "for nlayer in [1,5,10,20,50]:\n",
    "    model = model_nlayer(nlayer)\n",
    "    runeval(model)\n"
   ]
  },
  {
   "cell_type": "code",
   "execution_count": null,
   "metadata": {
    "collapsed": true
   },
   "outputs": [],
   "source": [
    "from keras.callbacks import EarlyStopping\n",
    "def train_ES(model, lr=0.001, batch=64, epochs=20): # runtraining with validation holdout\n",
    "    earlystop = EarlyStopping(monitor='val_acc', min_delta=0.01, patience=50, verbose=1, mode='auto')\n",
    "    callbacks_list = [earlystop]\n",
    "    adam = optimizers.Adam(lr=lr) \n",
    "    model.compile(optimizer=adam, loss ='binary_crossentropy', metrics=['accuracy'])\n",
    "    result = model.fit(Xtr, ytr, batch_size=batch, epochs=epochs, validation_split=0.2, verbose=0, callbacks=callbacks_list)\n",
    "    return result.history, model\n",
    "\n"
   ]
  },
  {
   "cell_type": "code",
   "execution_count": null,
   "metadata": {
    "collapsed": true
   },
   "outputs": [],
   "source": [
    "def evalES(model):    \n",
    "    t0=time.time()\n",
    "    res, model = train_ES(model,lr=0.001,batch=64,epochs=500)\n",
    "    t1=time.time() #I'm timing to check training time vs model size\n",
    "    metric = model.evaluate(Xv, yv, batch_size=32, verbose=0) \n",
    "    print(nlayer, '{:.3f}'.format(t1-t0), model.count_params(),'acc_max_tr:','{:.3f}'.format(max(res['acc'])),'acc_max_val:','{:.3f}'.format(max(res['val_acc'])),'@',np.argmax(res['val_acc']),'acc_test:',metric[1])"
   ]
  },
  {
   "cell_type": "code",
   "execution_count": null,
   "metadata": {
    "collapsed": true
   },
   "outputs": [],
   "source": [
    "for nlayer in [1,5,10,20,50]:\n",
    "    model = model_nlayer(nlayer)\n",
    "    evalES(model)"
   ]
  },
  {
   "cell_type": "code",
   "execution_count": null,
   "metadata": {
    "collapsed": true
   },
   "outputs": [],
   "source": [
    "for nlayer in [1,3,5,10,20,50]:\n",
    "    model = model_nlayer(nlayer)\n",
    "    evalES(model)\n",
    "# Early stop may not work well "
   ]
  }
 ],
 "metadata": {
  "accelerator": "GPU",
  "colab": {
   "collapsed_sections": [],
   "default_view": {},
   "name": "colabtestjh.ipynb",
   "provenance": [],
   "version": "0.3.2",
   "views": {}
  },
  "kernelspec": {
   "display_name": "Python 3",
   "language": "python",
   "name": "python3"
  },
  "language_info": {
   "codemirror_mode": {
    "name": "ipython",
    "version": 3
   },
   "file_extension": ".py",
   "mimetype": "text/x-python",
   "name": "python",
   "nbconvert_exporter": "python",
   "pygments_lexer": "ipython3",
   "version": "3.6.1"
  }
 },
 "nbformat": 4,
 "nbformat_minor": 1
}
